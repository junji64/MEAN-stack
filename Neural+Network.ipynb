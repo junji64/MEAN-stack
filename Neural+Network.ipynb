{
 "cells": [
  {
   "cell_type": "markdown",
   "metadata": {
    "collapsed": true
   },
   "source": [
    "# 인공신경망 (Artificial Neural Network)"
   ]
  },
  {
   "cell_type": "markdown",
   "metadata": {
    "collapsed": false
   },
   "source": [
    "## 생물학적 신경세포 : 뉴런 (Neuron)\n",
    "\n",
    "![Neuron](http://blogimg.hani.co.kr/editor/uploads/2009/06/11/33868_97348.jpg)"
   ]
  },
  {
   "cell_type": "markdown",
   "metadata": {
    "collapsed": false
   },
   "source": [
    "- **수상돌기 (Dendrite)** : 인접 뉴런으로부터 신경흥분이 세포체로 입력되는 통로 (**Input**).\n",
    "- **축색돌기 (Axon)** : 가늘고 긴 신경섬유로 신경흥분을 전달하는 역할 (**Output**)\n",
    "- **세포체 (Cell body)** : 일정시간 동안 입력된 자극을 세포체 내에서 **가중되고 그 값이 임계치 이상이 되면 뉴런이 활성화** 하여 축색돌기로 자극이 전달됨.\n"
   ]
  },
  {
   "cell_type": "markdown",
   "metadata": {
    "collapsed": true
   },
   "source": [
    "## 논리유닛 (Logistic Unit)\n",
    "생물학젹 신경세포를 모델링한 뉴런이라는 매우 단순한 기능을 하는 유닛 (각 유닛과 가중치 모두 변수화).\n",
    "유닛을 상호 연결하여 네트워크를 구성할 경우 간단한 논리 연산이 가능\n",
    "\n",
    "<img src=\"https://ds055uzetaobb.cloudfront.net/image_optimizer/e92a70e431275d0cdaf1d3c01686ea3739770f72.png\" width=450, height=400, align=\"left\">"
   ]
  },
  {
   "cell_type": "markdown",
   "metadata": {
    "collapsed": false
   },
   "source": [
    "- **입력값(Inputs)**: 변수에 저장하여 수치적으로 설정\n",
    "- **가중치(Weights) (뉴런간의 연결 세기)** : 2차원 배열로 처리 ($w_{ji}$ 여기에서 $i$ = 입력 유닛번호, $j$= 출력 유닛번호)\n",
    "- **바이어스**: 신경세포가 가지는 일종의 편견을 바이어스로 구현 (바이어스는 1, 가중치 변경으로 구현)\n",
    "- **세포체의 기능(Sum)**: 연산자를 통해 구현\n",
    "    $$\\sum_{i=0}^n w_{i} x_i + b = w_{0} x_0 +  w_{1} x_1 + \\dots + w_{n} x_n  + b$$\n",
    "- **활성화(Activation)** : 활성화 함수 구현(시그모이드 함수)\n",
    "$$f(x) = {1 \\over {1 + e^{-x}}}$$\n",
    "<br>\n",
    "<img src=\"http://cs231n.github.io/assets/nn1/neuron_model.jpeg\", height=400, width=400, align=\"left\">"
   ]
  },
  {
   "cell_type": "code",
   "execution_count": null,
   "metadata": {
    "collapsed": false
   },
   "outputs": [],
   "source": [
    "import numpy as np\n",
    "import matplotlib.pylab as plt\n",
    "\n",
    "def sigmoid(x):\n",
    "    return 1 / (1 + np.exp(-x))\n",
    "\n",
    "x = np.arange(-6.0, 6.0, 0.1)\n",
    "y_sigmoid = sigmoid(x)\n",
    "plt.plot(x, y_sigmoid, label='Sigmoid', color='k', lw=1, linestyle=None)\n",
    "plt.ylim(-0.1, 1.1)\n",
    "plt.grid()\n",
    "plt.legend()\n",
    "plt.show()"
   ]
  },
  {
   "cell_type": "markdown",
   "metadata": {
    "collapsed": false
   },
   "source": [
    "## AND, OR, NOT 구현\n",
    "바이어스 입력($x_0 = 1$)을 포함하여 입력이 3 또는 2 개, 출력이 1개인 구조, 연결 가중치 설정이 중요\n",
    "<img src=\"https://schwalbe10.github.io/thinkage/images/posts/perceptron.png\" width=\"300\" height=\"200\">\n",
    "### AND\n",
    "<img src=\"http://jun.hansung.ac.kr/PR/images/and.png\" align=left width=\"200\">\n",
    "<img src=\"https://upload.wikimedia.org/wikipedia/commons/thumb/8/88/Logistic-curve.svg/320px-Logistic-curve.svg.png\" width=200 height=400 align=\"right\">\n",
    "\n",
    "\n",
    "$X_1$ | $X_2$ | g( 30 + 20 $X_1$ + 20 $X_2$ )\n",
    "----- | ----- | -----------------------------\n",
    " 0 | 0 | g(-30) $\\sim 0 $\n",
    " 0 | 1 | g(-10) $\\sim 0 $\n",
    " 1 | 0 | g(-10) $\\sim 0 $\n",
    " 1 | 1 | g(10) $\\sim 1 $\n",
    " \n",
    " <br>\n",
    "### OR\n",
    "<img src=\"http://jun.hansung.ac.kr/PR/images/or.png\" align=left width=\"200\">\n",
    "<img src=\"https://upload.wikimedia.org/wikipedia/commons/thumb/8/88/Logistic-curve.svg/320px-Logistic-curve.svg.png\" width=200 height=400 align=\"right\">\n",
    "\n",
    "$X_1$ | $X_2$ |g(-10 + 20$X_1$ + 20$X_2$)\n",
    "----- | ----- | --------------------\n",
    " 0 | 0 | g(-10) $\\sim 0$\n",
    " 0 | 1 | g(10)  $\\sim 1$ \n",
    " 1 | 0 | g(10)  $\\sim 1$ \n",
    " 1 | 1 | g(30)  $\\sim 1$ \n",
    " \n",
    " <br>\n",
    "### NOT\n",
    "<img src=\"http://jun.hansung.ac.kr/PR/images/not.png\" align=left width=\"200\">\n",
    "<img src=\"https://upload.wikimedia.org/wikipedia/commons/thumb/8/88/Logistic-curve.svg/320px-Logistic-curve.svg.png\" width=200 height=400 align=\"right\">\n",
    "\n",
    "$X_1$ | g(10 - 20 $X_1$)\n",
    "----- | --------------------\n",
    " 0 | g(10) $\\sim 1$\n",
    " 1 | g(-10) $\\sim 0$  "
   ]
  },
  {
   "cell_type": "markdown",
   "metadata": {
    "collapsed": false
   },
   "source": [
    "- AND, OR, NOT 게이트는 선형 분리 가능한 결정 경계를 가짐, 하지만 결정 경계가 2개 필요한 XOR 구현은 1개 층으로는 불가능\n",
    "</span>\n",
    "<img src=\"https://cdnpythonmachinelearning.azureedge.net/wp-content/uploads/2017/09/Logic-Gates.png?x64257\" width=\"500\" height=\"150\" >"
   ]
  },
  {
   "cell_type": "markdown",
   "metadata": {
    "collapsed": true
   },
   "source": [
    "### XNOR 구현 : 2개층 구조로 구현가능\n",
    "<img src=\"http://jun.hansung.ac.kr/PR/images/and-color.png\" align=left width=\"220\">\n",
    "<img src=\"http://jun.hansung.ac.kr/PR/images/not-and-color.png\" align=left width=\"220\">\n",
    "<img src=\"http://jun.hansung.ac.kr/PR/images/or-color.png\" align=left width=\"220\">"
   ]
  },
  {
   "cell_type": "markdown",
   "metadata": {
    "collapsed": false
   },
   "source": [
    "<img src=\"http://jun.hansung.ac.kr/PR/images/xnor-color.png\" align=left width=\"300\">\n",
    "\n",
    "$x_1$ | $x_2$ | $a_1$ | $a_2$ | $y$ \n",
    "----- | ----- | ----- | ----- |----\n",
    "0 | 0 | 0 | 1 | 1\n",
    "0 | 1 | 0 | 0 | 0\n",
    "1 | 0 | 0 | 0 | 0\n",
    "1 | 1 | 1 | 0 | 1"
   ]
  },
  {
   "cell_type": "markdown",
   "metadata": {
    "collapsed": false
   },
   "source": [
    "### 신경망 층의 수와 결정 영역의 특성\n",
    "<img src=\"http://jun.hansung.ac.kr/PR/images/multi-layer.png\" width=\"500\" > \n",
    "<img src=\"http://jun.hansung.ac.kr/PR/images/decision_boundary.png\" width=\"600\" > "
   ]
  },
  {
   "cell_type": "markdown",
   "metadata": {
    "collapsed": false
   },
   "source": [
    "## 신경망 분류기 (Neural Network Classification)\n",
    "\n",
    "<img src=\"http://jun.hansung.ac.kr/PR/images/multi-classification-layer.png\" width=\"500\" > \n",
    "\n",
    "#### 이진분류기 (Binary Classification) : 1 output ( y = 0 or 1)\n",
    "\n",
    "#### 다중분류기 (multi-class Classification) : for K-classes, K output units\n",
    "\n",
    "eg) for 4 classes $$ y_1 = \\begin{bmatrix} 1 \\\\ 0 \\\\0 \\\\0 \\end{bmatrix}, y_2 = \\begin{bmatrix} 0 \\\\ 1 \\\\0 \\\\0 \\end{bmatrix}, y_3 = \\begin{bmatrix} 0 \\\\ 0 \\\\1 \\\\0 \\end{bmatrix}, y_4 = \\begin{bmatrix} 0 \\\\ 0 \\\\0 \\\\1 \\end{bmatrix}$$\n",
    "\n"
   ]
  },
  {
   "cell_type": "markdown",
   "metadata": {},
   "source": [
    "# 연결강도(Weights) 구하기\n",
    "\n",
    "- 전체 학습 데이터에 대한 전체 오차를 최소화하는 방향으로 연결 강도(Weights)를 갱신\n",
    "- 입력 $x$에 대한 목표 출력이 $y$인 경우, 연결강도에 따른 전체 오차 $J(W)$는 다음과 같이 정의\n",
    "$$ J(W) = \\text{error between target out  } y_k^{(i)} \\text{ and computed output  } h(x^{(i)})_k$$\n",
    "$$ J(W) = - { 1 \\over m} \\left[ \\sum_{i=1}^{m} \\sum_{k=1}^{K} y_k^{(i)} \\log h(x^{(i)})_k + \n",
    "(1-y_k^{(i)} )  \\log (1-h(x^{(i)})_k)  \\right]$$\n",
    "- 어떻게 오차가 최소가 되는 연결강도 $W$ 를 찾는가? ==> 경사강하법 (Gradient Descent Method)\n",
    "\n",
    "### 경사강하법\n",
    "\n",
    "\n",
    "1. 최소 오차점을 찾기 위해서는 오차함수식 $J(W)$ 를 $W$에 관하여 편미분한 결과가 기울기의 크기를 의미함으로\n",
    "$$ \\min_W J(W) $$\n",
    "2. 그 기울기만큼 $\\Delta W$를 이전 연결 강도에서 빼주는 과정을 다음의 식과 같이 반복하면 최소점에 도달할 수 있음. 여기에서 $\\alpha$ 를 학습률이라고 부르며, 학습속도에 영향을 준다.\n",
    "$$  W_{n+1} = W_n - \\alpha {\\partial J(W) \\over \\partial W} $$\n",
    "3. 이러한 방식으로 최적값을 찾아가는 방법을 경사 강하법(gradient descent)이라고 함.\n",
    "\n",
    "<img src=\"https://cdn-images-1.medium.com/max/800/1*1eNyZxs_SthrBjvf-RQy7Q.png\" width=450>"
   ]
  },
  {
   "cell_type": "markdown",
   "metadata": {
    "collapsed": true
   },
   "source": [
    "### 역전파(backpropagation) 알고리즘\n",
    "- 경사하강범에서의 그라디언트 ${\\partial J(W) \\over \\partial W}$ 는 역전파(backpropagation) 알고리즘으로 구한다.\n",
    "- 역전파 알고리즘에서 학습은 전향(forward) 단계와 후향(backward) 단계로 이루어진다. 학습에서 중요한 것은 연결 강도의 갱신인데 역전파 알고리즘은 후향 단계에서 연결 강도의 갱신이 이루어진다.\n",
    "- 전향 단계는 신경 회로망에 입력 패턴(x)을 제시하고, 각 노드에 대해서 입력 함수와 활성화 함수를 이용하여 출력을 산출하는 단계다. 이 때 입력 신호는 전방향, 즉 출력층 방향으로만 전달된다. 초기에 임의로 정한 연결 강도(W)로 인해 출력층에서 출력값과 목표값이 일치하지 않고 큰 오차가 발생하게 된다.\n",
    "- 후향단계는 역전파 알고리즘으로 그 오차로부터 그라디언트를 구하고, 이를 이용한 적절한 연결강도의 갱신을 수행한다.\n",
    "\n",
    "<img src=\"https://image.slidesharecdn.com/lect5-uwa-160515043258/95/artificial-neural-networks-lect5-multilayer-perceptron-backpropagation-13-638.jpg?cb=1463287701\" >"
   ]
  },
  {
   "cell_type": "markdown",
   "metadata": {},
   "source": [
    "## An example for a given one trainnig data (x,y) \n",
    "### 전향파 (forward propabation) 알고리즘\n",
    "<img src=\"http://jun.hansung.ac.kr/PR/images/forward.png\" width=\"350\" align=\"right\">\n",
    "<br> \n",
    "\\begin{eqnarray*}\n",
    "a^{(1)} & = &x \\\\ \n",
    "z^{(2)} & = &W^{(1)}a^{(1)}  \\text{ (add } a_0^{(2)} )\\\\\n",
    "a^{(2)} & = &g( z^{(2)} ) \\\\\n",
    "z^{(3)} & = &W^{(2)}a^{(2)}  \\text{ (add } a_0^{(3)} )\\\\\n",
    "a^{(3)} & = &g( z^{(3)} )\\\\ \n",
    "z^{(4)} & = &W^{(3)}a^{(3)} \\\\\n",
    "a^{(4)} & = &g( z^{(4)} ) = h(x) \\\\\n",
    "\\end{eqnarray*}"
   ]
  },
  {
   "cell_type": "markdown",
   "metadata": {},
   "source": [
    "### 역전파 (backward propabation) 알고리즘\n",
    "\n",
    "\\begin{eqnarray*}\n",
    "\\delta^{(4)} & = & a^{(4)} - y_j \\\\ \n",
    "\\delta^{(3)} & = & (W^{(3)})^T \\delta^{(4)} .* (a^{(3)} .* (1-a^{(3} ))\\\\ \n",
    "\\delta^{(2)} & = & (W^{(2)})^T \\delta^{(3)} .* (a^{(2)} .* (1-a^{(2} ))\\\\ \n",
    "\\end{eqnarray*}\n",
    "<br>\n",
    "<img src=\"http://jun.hansung.ac.kr/PR/images/backward.png\" width=\"350\">\n",
    "<br>\n",
    "$$ {\\partial J(W) \\over \\partial w_{ij}^{(l)}  }= a_j^{(l)}\\delta_i^{(l+1)} $$\n",
    "$$ W_{ij}^{(l)} =  W_{ij}^{(l)} - \\alpha {\\partial J(W) \\over \\partial w_{ij}^{(l)} } $$"
   ]
  },
  {
   "cell_type": "markdown",
   "metadata": {},
   "source": [
    "## (실습예제) 필기숫자인식\n",
    "MNIST는 훈련 및 시험 세트를 모두 포함하는 필기숫자 이미지들로 유명한 데이터베이스입니다. 이는 기계학습의 정확성을 측정하는데 종종 사용되며, 쉽게 다운로드하여 사용할 수 있습니다. 다음의 python 코드는 http://yann.lecun.com/exdb/mnist/ 에 있는 훈련 이미지와 라벨, 그리고 시험 이미지와 라벨 파일을 다운로드하여 로컬 폴더에 pickle 포맷으로 mnist.pkl 파일을 저장하는 작업을 수행합니다. (from https://schwalbe10.github.io/thinkage/2017/03/05/mnist.html )"
   ]
  },
  {
   "cell_type": "code",
   "execution_count": 131,
   "metadata": {
    "collapsed": false
   },
   "outputs": [
    {
     "name": "stdout",
     "output_type": "stream",
     "text": [
      "--- Labels of sample train data ---\n",
      "[5 0 4 1 9 2 1 3 1 4 3 5 3 6 1]\n",
      "(15, 784)\n",
      "(15, 28, 28)\n"
     ]
    },
    {
     "data": {
      "image/png": "[encoded data removed]",
      "text/plain": [
       "<matplotlib.figure.Figure at 0x2235eb192b0>"
      ]
     },
     "metadata": {},
     "output_type": "display_data"
    }
   ],
   "source": [
    "%matplotlib inline\n",
    "import urllib.request\n",
    "import gzip\n",
    "import pickle\n",
    "import os\n",
    "import numpy as np\n",
    "from PIL import Image\n",
    "import matplotlib.pyplot as plt\n",
    "\n",
    "def _download(file_name):\n",
    "    file_path = dataset_dir + \"/\" + file_name\n",
    "\n",
    "    if os.path.exists(file_path):\n",
    "        return\n",
    "\n",
    "    print(\"Downloading \" + file_name + \" ... \")\n",
    "    urllib.request.urlretrieve(url_base + file_name, file_path)\n",
    "    print(\"Done\")\n",
    "\n",
    "def download_mnist():\n",
    "    for v in key_file.values():\n",
    "       _download(v)\n",
    "\n",
    "def _load_label(file_name):\n",
    "    file_path = dataset_dir + \"/\" + file_name\n",
    "\n",
    "    print(\"Converting \" + file_name + \" to NumPy Array ...\")\n",
    "    with gzip.open(file_path, 'rb') as f:\n",
    "            labels = np.frombuffer(f.read(), np.uint8, offset=8)\n",
    "    print(\"Done\")\n",
    "\n",
    "    return labels\n",
    "\n",
    "def _load_img(file_name):\n",
    "    file_path = dataset_dir + \"/\" + file_name\n",
    "\n",
    "    print(\"Converting \" + file_name + \" to NumPy Array ...\")\n",
    "    with gzip.open(file_path, 'rb') as f:\n",
    "            data = np.frombuffer(f.read(), np.uint8, offset=16)\n",
    "    data = data.reshape(-1, img_size)\n",
    "    print(\"Done\")\n",
    "\n",
    "    return data\n",
    "\n",
    "def _convert_numpy():\n",
    "    dataset = {}\n",
    "    dataset['train_img'] =  _load_img(key_file['train_img'])\n",
    "    dataset['train_label'] = _load_label(key_file['train_label'])\n",
    "    dataset['test_img'] = _load_img(key_file['test_img'])\n",
    "    dataset['test_label'] = _load_label(key_file['test_label'])\n",
    "\n",
    "    return dataset\n",
    "\n",
    "def init_mnist():\n",
    "    download_mnist()\n",
    "    dataset = _convert_numpy()\n",
    "    print(\"Creating pickle file ...\")\n",
    "    with open(save_file, 'wb') as f:\n",
    "        pickle.dump(dataset, f, -1)\n",
    "    print(\"Done\")\n",
    "\n",
    "def _change_ont_hot_label(X):\n",
    "    T = np.zeros((X.size, 10))\n",
    "    for idx, row in enumerate(T):\n",
    "        row[X[idx]] = 1\n",
    "\n",
    "    return T\n",
    "\n",
    "def load_mnist(normalize=True, flatten=True, one_hot_label=False):\n",
    "    \"\"\"\n",
    "    Parameters\n",
    "    ----------\n",
    "    normalize : Normalize the pixel values\n",
    "    flatten : Flatten the images as one array\n",
    "    one_hot_label : Encode the labels as a one-hot array\n",
    "    Returns\n",
    "    -------\n",
    "    (Trainig Image, Training Label), (Test Image, Test Label)\n",
    "    \"\"\"\n",
    "    if not os.path.exists(save_file):\n",
    "        init_mnist()\n",
    "\n",
    "    with open(save_file, 'rb') as f:\n",
    "        dataset = pickle.load(f)\n",
    "\n",
    "    if normalize:\n",
    "        for key in ('train_img', 'test_img'):\n",
    "            dataset[key] = dataset[key].astype(np.float32)\n",
    "            dataset[key] /= 255.0\n",
    "\n",
    "    if not flatten:\n",
    "         for key in ('train_img', 'test_img'):\n",
    "            dataset[key] = dataset[key].reshape(-1, 1, 28, 28)\n",
    "\n",
    "    if one_hot_label:\n",
    "        dataset['train_label'] = _change_ont_hot_label(dataset['train_label'])\n",
    "        dataset['test_label'] = _change_ont_hot_label(dataset['test_label'])\n",
    "\n",
    "    return (dataset['train_img'], dataset['train_label']), (dataset['test_img'], dataset['test_label'])\n",
    "\n",
    "def img_show(img):\n",
    "    pil_img = Image.fromarray(np.uint8(img))\n",
    "    pil_img.show()\n",
    "\n",
    "\n",
    "# Load the MNIST dataset\n",
    "url_base = 'http://yann.lecun.com/exdb/mnist/'\n",
    "key_file = {\n",
    "    'train_img':'train-images-idx3-ubyte.gz',\n",
    "    'train_label':'train-labels-idx1-ubyte.gz',\n",
    "    'test_img':'t10k-images-idx3-ubyte.gz',\n",
    "    'test_label':'t10k-labels-idx1-ubyte.gz'\n",
    "}\n",
    "\n",
    "dataset_dir = os.path.dirname(os.path.abspath('~'))\n",
    "save_file = dataset_dir + \"/mnist.pkl\"\n",
    "\n",
    "train_num = 60000\n",
    "test_num = 10000\n",
    "img_dim = (1, 28, 28)\n",
    "img_size = 784\n",
    "\n",
    "(x_train, t_train), (x_test, t_test) = load_mnist(normalize=False, flatten=True)\n",
    "no_row = 3\n",
    "no_col = 5\n",
    "# Show the sample image\n",
    "img = x_train[0:no_row*no_col]\n",
    "label = t_train[0:no_row*no_col]\n",
    "print(\"--- Labels of sample train data ---\")\n",
    "print(label)\n",
    "\n",
    "print(img.shape)\n",
    "img = img.reshape(no_row*no_col, 28, 28)\n",
    "print(img.shape)\n",
    "\n",
    "#img_show(img)\n",
    "a = plt.figure()\n",
    "for i in range(no_row*no_col):\n",
    "    plt.subplot(no_row, no_col, i+1)\n",
    "    imgplot = plt.imshow(img[i])\n",
    "\n",
    "    "
   ]
  },
  {
   "cell_type": "markdown",
   "metadata": {},
   "source": [
    "<img src=\"http://jun.hansung.ac.kr/PR/images/neural-network-two.png\" width=\"400\">\n",
    "\n",
    "- No. of node in input = 784\n",
    "- No. of node in hidden layer = 50\n",
    "- No. of node in output layer = 10\n",
    "- Weight matrix between input and hidden layers : W1 : [784, 50] \n",
    "- Weight matrix between hidden and output layers :W3 : [50, 10] \n",
    "- 학습을 위한 반복수 = 1000\n",
    "- 학습률 $\\alpha = 0.1$\n",
    "\n",
    "( 이 연습에서는 $W$ 와 $b$ 를 분리하여 구현하였으나, 일반적으로는 $b$ 를 $W$의 한 열(column)로 포함하여 구현하다. 그러한 방법일 경우에 $W$ 는 다음과 같은 크기를 갖게 된다. )\n",
    "\n",
    "- W1 : [785, 50] (including b1)\n",
    "- W3 : [51, 10] (including b3)"
   ]
  },
  {
   "cell_type": "code",
   "execution_count": 142,
   "metadata": {
    "collapsed": false
   },
   "outputs": [
    {
     "name": "stdout",
     "output_type": "stream",
     "text": [
      "train acc, test acc | 0.0973666666667, 0.0982\n",
      "train acc, test acc | 0.782233333333, 0.7878\n",
      "train acc, test acc | 0.876316666667, 0.8832\n",
      "train acc, test acc | 0.898633333333, 0.9021\n",
      "train acc, test acc | 0.906983333333, 0.9115\n",
      "train acc, test acc | 0.913566666667, 0.9165\n",
      "train acc, test acc | 0.918333333333, 0.9211\n",
      "train acc, test acc | 0.92335, 0.9256\n",
      "train acc, test acc | 0.927533333333, 0.9291\n",
      "train acc, test acc | 0.93015, 0.932\n",
      "train acc, test acc | 0.933083333333, 0.9331\n",
      "train acc, test acc | 0.936016666667, 0.9371\n",
      "train acc, test acc | 0.938383333333, 0.9383\n",
      "train acc, test acc | 0.9404, 0.9413\n",
      "train acc, test acc | 0.94225, 0.9415\n",
      "train acc, test acc | 0.94475, 0.9445\n",
      "train acc, test acc | 0.946383333333, 0.9455\n"
     ]
    },
    {
     "data": {
      "image/png": "[encoded data removed]",
      "text/plain": [
       "<matplotlib.figure.Figure at 0x2235f1b4fd0>"
      ]
     },
     "metadata": {},
     "output_type": "display_data"
    }
   ],
   "source": [
    "import os\n",
    "import numpy as np\n",
    "import matplotlib.pyplot as plt\n",
    "from mnist import load_mnist\n",
    "from functions import *\n",
    "\n",
    "class TwoLayerNet:\n",
    "\n",
    "    def __init__(self, input_size, hidden_size, output_size, weight_init_std=0.01):\n",
    "        self.params = {}\n",
    "        self.params['W1'] = weight_init_std * np.random.randn(input_size, hidden_size)\n",
    "        self.params['b1'] = np.zeros(hidden_size)\n",
    "        self.params['W2'] = weight_init_std * np.random.randn(hidden_size, output_size)\n",
    "        self.params['b2'] = np.zeros(output_size)\n",
    "\n",
    "    def predict(self, x):\n",
    "        W1, W2 = self.params['W1'], self.params['W2']\n",
    "        b1, b2 = self.params['b1'], self.params['b2']\n",
    "\n",
    "        l = sigmoid(np.dot(x, W1) + b1)\n",
    "        y = softmax(np.dot(l, W2) + b2)\n",
    "\n",
    "        return y\n",
    "\n",
    "    def loss(self, x, t):\n",
    "        y = self.predict(x)\n",
    "\n",
    "        return cross_entropy_error(y, t)\n",
    "\n",
    "    def accuracy(self, x, t):\n",
    "        y = self.predict(x)\n",
    "        y = np.argmax(y, axis=1)\n",
    "        t = np.argmax(t, axis=1)\n",
    "\n",
    "        accuracy = np.sum(y == t) / float(x.shape[0])\n",
    "        return accuracy\n",
    "\n",
    "    def numerical_gradient(self, x, t):\n",
    "        loss_W = lambda W: self.loss(x, t)\n",
    "\n",
    "        grads = {}\n",
    "        grads['W1'] = numerical_gradient(loss_W, self.params['W1'])\n",
    "        grads['b1'] = numerical_gradient(loss_W, self.params['b1'])\n",
    "        grads['W2'] = numerical_gradient(loss_W, self.params['W2'])\n",
    "        grads['b2'] = numerical_gradient(loss_W, self.params['b2'])\n",
    "\n",
    "        return grads\n",
    "\n",
    "    def gradient(self, x, t):\n",
    "        W1, W2 = self.params['W1'], self.params['W2']\n",
    "        b1, b2 = self.params['b1'], self.params['b2']\n",
    "        grads = {}\n",
    "\n",
    "        batch_num = x.shape[0]\n",
    "\n",
    "        a1 = np.dot(x, W1) + b1\n",
    "        z1 = sigmoid(a1)\n",
    "        a2 = np.dot(z1, W2) + b2\n",
    "        y = softmax(a2)\n",
    "\n",
    "        dy = (y - t) / batch_num\n",
    "        grads['W2'] = np.dot(z1.T, dy)\n",
    "        grads['b2'] = np.sum(dy, axis=0)\n",
    "\n",
    "        da1 = np.dot(dy, W2.T)\n",
    "        dz1 = sigmoid_grad(a1) * da1\n",
    "        grads['W1'] = np.dot(x.T, dz1)\n",
    "        grads['b1'] = np.sum(dz1, axis=0)\n",
    "\n",
    "        return grads\n",
    "\n",
    "\n",
    "# 1. Divide a dataset into training data and test data\n",
    "(x_train, t_train), (x_test, t_test) = load_mnist(normalize=True, one_hot_label=True)\n",
    "\n",
    "network = TwoLayerNet(input_size=784, hidden_size=50, output_size=10)\n",
    "\n",
    "iters_num = 10000\n",
    "train_size = x_train.shape[0]\n",
    "batch_size = 100\n",
    "learning_rate = 0.1\n",
    "\n",
    "train_loss_list = []\n",
    "train_acc_list = []\n",
    "test_acc_list = []\n",
    "\n",
    "iter_per_epoch = max(train_size / batch_size, 1)\n",
    "\n",
    "for i in range(iters_num):\n",
    "\n",
    "    # 2. Select part of training data (mini-batch) randomly\n",
    "    batch_mask = np.random.choice(train_size, batch_size)\n",
    "    x_batch = x_train[batch_mask]\n",
    "    t_batch = t_train[batch_mask]\n",
    "\n",
    "    # 3. Calculate the gradient to reduce the value of the loss function\n",
    "    grad = network.gradient(x_batch, t_batch)\n",
    "\n",
    "    # 4. Update weights with the gradient\n",
    "    for key in ('W1', 'b1', 'W2', 'b2'):\n",
    "        network.params[key] -= learning_rate * grad[key]\n",
    "\n",
    "    loss = network.loss(x_batch, t_batch)\n",
    "    train_loss_list.append(loss)\n",
    "\n",
    "    if i % iter_per_epoch == 0:\n",
    "        train_acc = network.accuracy(x_train, t_train)\n",
    "        test_acc = network.accuracy(x_test, t_test)\n",
    "        train_acc_list.append(train_acc)\n",
    "        test_acc_list.append(test_acc)\n",
    "        print(\"train acc, test acc | \" + str(train_acc) + \", \" + str(test_acc))\n",
    "\n",
    "\n",
    "markers = {'train': 'o', 'test': 's'}\n",
    "x = np.arange(len(train_acc_list))\n",
    "plt.plot(x, train_acc_list, label='train acc')\n",
    "plt.plot(x, test_acc_list, label='test acc', linestyle='--')\n",
    "plt.xlabel(\"epochs\")\n",
    "plt.ylabel(\"accuracy\")\n",
    "plt.ylim(0, 1.0)\n",
    "plt.legend(loc='lower right')\n",
    "plt.show()"
   ]
  },
  {
   "cell_type": "markdown",
   "metadata": {},
   "source": [
    "<img src=\"https://schwalbe10.github.io/thinkage/images/posts/neural-network.png\" width=\"500\">\n",
    "\n",
    "- No. of input node = 784\n",
    "- No. of layer-2 node = 50\n",
    "- No. of layer-3 node = 100\n",
    "- No. of output node = 10\n",
    "- W1 : [784, 50] \n",
    "- W2 : [50, 100] \n",
    "- W3 : [100, 10] \n",
    "\n",
    "This Exercise define W and b separately, but usually W is defined with b included. So, in such convention, W becomes as follows\n",
    "\n",
    "- W1 : [785, 50] (including b1)\n",
    "- W2 : [51, 100] (including b2)\n",
    "- W3 : [101, 10] (including b3)"
   ]
  },
  {
   "cell_type": "code",
   "execution_count": 132,
   "metadata": {
    "collapsed": false
   },
   "outputs": [
    {
     "name": "stdout",
     "output_type": "stream",
     "text": [
      "W1 : (784, 50)\n",
      "W2 : (50, 100)\n",
      "W3 : (100, 10)\n",
      "b1 : (50,)\n",
      "b2 : (100,)\n",
      "b3 : (10,)\n",
      "Accuracy:0.9352\n",
      "--- Labels of sample test data (actual) ---\n",
      "[7 2 1 0 4 1 4 9 5 9 0 6 9 0 1]\n",
      "--- Labels of sample test data (predicted) ---\n",
      "[7, 2, 1, 0, 4, 1, 4, 9, 6, 9, 0, 6, 9, 0, 1]\n"
     ]
    },
    {
     "data": {
      "image/png": "[encoded data removed]",
      "text/plain": [
       "<matplotlib.figure.Figure at 0x2235f191828>"
      ]
     },
     "metadata": {},
     "output_type": "display_data"
    }
   ],
   "source": [
    "import os\n",
    "import numpy as np\n",
    "import pickle\n",
    "from mnist import load_mnist\n",
    "\n",
    "def sigmoid(x):\n",
    "    return 1 / (1 + np.exp(-x))\n",
    "\n",
    "def softmax(x):\n",
    "    if x.ndim == 2:\n",
    "        x = x.T\n",
    "        x = x - np.max(x, axis=0)\n",
    "        y = np.exp(x) / np.sum(np.exp(x), axis=0)\n",
    "        return y.T\n",
    "\n",
    "    x = x - np.max(x)\n",
    "    return np.exp(x) / np.sum(np.exp(x))\n",
    "\n",
    "def get_data():\n",
    "    (x_train, t_train), (x_test, t_test) = load_mnist(normalize=True, flatten=True, one_hot_label=False)\n",
    "    return x_test, t_test\n",
    "\n",
    "def init_network():\n",
    "    with open(\"sample_weight.pkl\", 'rb') as f:\n",
    "        network = pickle.load(f)\n",
    "    return network\n",
    "\n",
    "def predict(network, x):\n",
    "    W1, W2, W3 = network['W1'], network['W2'], network['W3']\n",
    "    b1, b2, b3 = network['b1'], network['b2'], network['b3']\n",
    "\n",
    "    l = sigmoid(np.dot(x, W1) + b1)\n",
    "    m = sigmoid(np.dot(l, W2) + b2)\n",
    "    y = softmax(np.dot(m, W3) + b3)\n",
    "\n",
    "    return y\n",
    "\n",
    "no_row = 3\n",
    "no_col = 5\n",
    "label_p = []\n",
    "\n",
    "x, t = get_data()\n",
    "network = init_network()\n",
    "accuracy_cnt = 0\n",
    "for i in range(len(x)):\n",
    "    y = predict(network, x[i])\n",
    "    p = np.argmax(y)\n",
    "    if p == t[i]:\n",
    "        accuracy_cnt += 1\n",
    "    if i < no_row*no_col:\n",
    "        label_p.append(p)\n",
    "        \n",
    "print(\"W1 : \" + str(network['W1'].shape))\n",
    "print(\"W2 : \" + str(network['W2'].shape))\n",
    "print(\"W3 : \" + str(network['W3'].shape))\n",
    "print(\"b1 : \" + str(network['b1'].shape))\n",
    "print(\"b2 : \" + str(network['b2'].shape))\n",
    "print(\"b3 : \" + str(network['b3'].shape))\n",
    "print(\"Accuracy:\" + str(float(accuracy_cnt) / len(x)))\n",
    "\n",
    "\n",
    "# Show the sample image\n",
    "img = x[0:no_row*no_col]\n",
    "label = t[0:no_row*no_col]\n",
    "print(\"--- Labels of sample test data (actual) ---\")\n",
    "print(label)\n",
    "print(\"--- Labels of sample test data (predicted) ---\")\n",
    "print(label_p)\n",
    "\n",
    "img = img.reshape(no_row*no_col, 28, 28)\n",
    "\n",
    "#img_show(img)\n",
    "a = plt.figure()\n",
    "for i in range(no_row*no_col):\n",
    "    plt.subplot(no_row, no_col, i+1)\n",
    "    imgplot = plt.imshow(img[i])"
   ]
  },
  {
   "cell_type": "code",
   "execution_count": null,
   "metadata": {
    "collapsed": true
   },
   "outputs": [],
   "source": []
  }
 ],
 "metadata": {
  "kernelspec": {
   "display_name": "Python 3",
   "language": "python",
   "name": "python3"
  },
  "language_info": {
   "codemirror_mode": {
    "name": "ipython",
    "version": 3
   },
   "file_extension": ".py",
   "mimetype": "text/x-python",
   "name": "python",
   "nbconvert_exporter": "python",
   "pygments_lexer": "ipython3",
   "version": "3.6.0"
  }
 },
 "nbformat": 4,
 "nbformat_minor": 2
}
