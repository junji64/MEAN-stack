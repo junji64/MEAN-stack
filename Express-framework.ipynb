{
 "cells": [
  {
   "cell_type": "markdown",
   "metadata": {},
   "source": [
    "## Express 란?\n",
    "- Node.js 를 위한 (가장 많이 쓰이는) 오픈소스 웹 프레임워크 \n",
    "- 강력한 웹 응용과 API들을 구축하는데 사용됨  ==>  Node.js 자체 지원의 패키지들(http, url, fs 등)을 사용하여 서버를 구축할 때와 비교하여 코드의 양도 줄고, 유지보수가 쉽다.\n",
    "- MVC (Model, View, Controller) 개념을 사용한다.\n",
    "\n",
    "### Web Server 구축 (ref: [install tutorial](http://expressjs.com/en/starter/installing.html))\n",
    "\n",
    "- 웹사이트를 구축할 폴더를 새로 만들고, 이동 후(eg: 'mkdir WWW; cd WWW')\n",
    "```\n",
    "$ npm init\n",
    "```\n",
    "\n",
    "- main 으로 app.js 입력하며, 그 외에는 기본값을 사용하기 위해 return 을 계속 누르면, 파일 `package.json` 이 생성됨.\n",
    "- `npm` 으로  `express module` 을 설치\n",
    "```\n",
    "$ npm install express -–save\n",
    "```\n",
    "- [expressjs.com](http://expressjs.com/en/starter/hello-world.html) 사이트를 방문해서 `Hello world code` 를 살펴봅니다.\n",
    "- 동일한 폴더에 `app.js` 파일을 생성하고 다음 코드를 입력하세요. (http 모듈은 Express에서 내부적으로 처리하기 때문에 더 이상 사용하지 않아도 됩니다.)"
   ]
  },
  {
   "cell_type": "code",
   "execution_count": null,
   "metadata": {},
   "outputs": [],
   "source": [
    "const express = require('express');\n",
    "\n",
    "const app = express();\n",
    "\n",
    "app.listen(3000, function(){\n",
    "  console.log('Express server has started on port 3000')\n",
    "})"
   ]
  },
  {
   "cell_type": "markdown",
   "metadata": {},
   "source": [
    "- 다음에, node app.js 를 입력하면 포트 3000 으로 웹 서버를 열고, 콘솔에 다음과 같은 메시지를 표시합니다. \n",
    "\n",
    "   Express server has started on port 3000\n",
    "   \n",
    "\n",
    "- 그러나, 브라우져를 사용해서 http://localhost:3000 으로 서버에 접속하면 **\"Cannot GET /\"** 이라는 텍스트가 나타납니다. 이것은 당연한 결과입니다. 왜냐하면, 우리가 아직 (요청에 대한 응답으로 전달할 파일 또는 위치에 해당하는) 라우터(Router)를 정의하지 않았으니까요."
   ]
  },
  {
   "cell_type": "markdown",
   "metadata": {},
   "source": [
    "### Router로 Request 처리하기 (ref: [hello world example](http://expressjs.com/en/starter/hello-world.html))\n",
    "- 클라이언트에서 보내는 서로 다른 요청(또는, 서로 다른 주소)에 맞도록 응답을 연결해 주는 것은 **라우팅(routing)**이라 하며, 이를 수행하는 코드를 **라우터(router)**라고 부른다.\n",
    "\n",
    "\n",
    "- 브라우저에서 Request 가 왔을 때, 서버에서 어떤 작업을 할 지 라우터를 통하여 설정해주어야 합니다. 특히, URL 로 서버에 request 를 보내는 방식은 GET 방식이라고 하며,  GET 방식으로 요청된 request에 응답하기 위한 코드는 다음과 같다."
   ]
  },
  {
   "cell_type": "code",
   "execution_count": null,
   "metadata": {
    "collapsed": true
   },
   "outputs": [],
   "source": [
    "app.get('/', function(req, res){\n",
    "  res.send('Hello, World!');\n",
    "});"
   ]
  },
  {
   "cell_type": "markdown",
   "metadata": {},
   "source": [
    "- 위의 코드를 추가해주고 `app.js` 를 재실행하면, `http://localhost:3000/` 으로 접속하였을 때, `Hello World` 를 반환합니다.\n",
    "\n",
    "\n",
    "- 만약에 사용자가 `localhost:3000/login` 으로 접속해 들어 올 경우 `Login Please` 라는 메시지를 html 의 `<h1>` 요소로 표시하고 싶으면,  다음과 같은 코드가 추가 되어야 합니다."
   ]
  },
  {
   "cell_type": "code",
   "execution_count": null,
   "metadata": {
    "collapsed": true
   },
   "outputs": [],
   "source": [
    "app.get('/login', function(req, res) {\n",
    "    res.send('<h1>Login Please</h1>')\n",
    "})"
   ]
  },
  {
   "cell_type": "markdown",
   "metadata": {},
   "source": [
    "- 서버를 껐다가 다시 실행 후, ` http://localhost:3000/login` 으로 접속해 결과를 확인해 보시오."
   ]
  },
  {
   "cell_type": "markdown",
   "metadata": {},
   "source": [
    "### 정적인 파일 서비스 (Static file service) (ref: [static files](https://expressjs.com/en/starter/static-files.html))\n",
    "\n",
    "- 이미지나 텍스트 파일와 같은 정적인 파일을 서비스하는 방법\n",
    "- 폴더 안에 public 이라는 이름의 폴더를 만들고, 그 안에 이미지 파일 \"[freepik.jpg](https://image.flaticon.com/teams/slug/freepik.jpg)\" 하나를 가져다 놓는다.  ( eg: `$ mkdir public` )  \n",
    "- express 에 내장된 middleware 함수 `express.static()` 을 사용하기 위해서, 다음의 코드를 `app.js` 에 넣고, `http://localhost:3000/freepik.jpg` 로 접속한다. \n",
    "- **Middleware** 는 요청에 대한 응답 과정 중간에 껴서 어떠한 동작을 해주는 프로그램이다. express는 요청이 들어올 때 그에 따른 응답을 보내주는데. 응답을 보내기 전에 미들웨어가 지정한 동작을 수행한다. express에서는 **app.use(미들웨어)** 형식으로, 사용할 미들웨어를 응답을 보내기 전에 넣어주면 된다. 만약 필요한게 있다면 npm 검색을 통해서 찾거나 직접 만들 수도 있다. 라우팅 부분(app.get, app.post,...) 위에만 넣으면 된다."
   ]
  },
  {
   "cell_type": "code",
   "execution_count": null,
   "metadata": {
    "collapsed": true
   },
   "outputs": [],
   "source": [
    "app.use(express.static('public'));"
   ]
  },
  {
   "cell_type": "markdown",
   "metadata": {},
   "source": [
    "- 정적 파일의 위치를 public 폴더로 정해주면(폴더의 이름은 상관없습니다), 클라이언트에서 접근할 때 http://domain/public/[파일 이름] 으로 접근하는 게 아니라, 그냥 http://domain/[파일 이름]으로 접근할 수 있습니다.\n",
    "\n",
    "\n",
    "- **실습**\n",
    "  - public 폴더에 이미지  파일(eg. `freepik.jpg`) 을  `http://localhost:3000/freepik.jpg` 로 접속해 보시오.\n",
    "  - public 폴더에 이미지  파일(eg. `images/`[other.jpg](https://cdn4.iconfinder.com/data/icons/logos-3/454/nodejs-new-pantone-white-512.png)) 을 넣고,   `http://localhost:3000/images/other.jpg` 로 접속해 보시오.\n",
    "  - public 폴더에 임의의  파일 (eg. `test.html`) 을 만들어 넣고,  `http://localhost:3000/test.html` 로 접속해 보시오.\n",
    "  - 또는, 다음과 같이 router 에서 정적인 파일을 응답의 일부로 사용할 수도 있다."
   ]
  },
  {
   "cell_type": "code",
   "execution_count": null,
   "metadata": {
    "collapsed": true
   },
   "outputs": [],
   "source": [
    "app.get('/route', function(req, res) {\n",
    "    res.send('Hello Route with image <img src=\"/freepik.jpg\">')\n",
    "})"
   ]
  },
  {
   "cell_type": "markdown",
   "metadata": {},
   "source": [
    "- [option] 동적인 (dynamic) 파일의 장점을 살펴보기 위해서 다음과 같은 코드를 작성해 실험해 보시오."
   ]
  },
  {
   "cell_type": "code",
   "execution_count": null,
   "metadata": {
    "collapsed": true
   },
   "outputs": [],
   "source": [
    "app.get('/dynamic', function(req, res) {\n",
    "    var lists = '';\n",
    "    for (var i=0; i<5; i++) {\n",
    "        lists += '<li>coding ' + i + '</li>';\n",
    "    }\n",
    "    var time = Date();\n",
    "    var output ='<h1> Hello Dynamic ! </h1> <ul>' + lists + '</ul>' + time;\n",
    "    res.send(output);\n",
    "})"
   ]
  },
  {
   "cell_type": "markdown",
   "metadata": {},
   "source": [
    "### 개발시 유용한 tools : nodemon, supervisor\n",
    "- 소스코드가 변경되었을 때 서버 어플리케이션을 자동으로 재시작하는 방법\n",
    "```\n",
    "$ npm install -g supervisor\n",
    "$ supervisor app\n",
    "```\n",
    "or\n",
    "```\n",
    "$ npm install -g nodemon\n",
    "$ nodemon app\n",
    "```\n",
    "    \n",
    "- 위의 두 가지 방법중 하나로 `app.js` 를 실행하면, `app.js` 파일이 수정될 때마다 자동적으로 `node` 서버가 재부팅된다. "
   ]
  },
  {
   "cell_type": "markdown",
   "metadata": {},
   "source": [
    " ### template engine 사용 - pug (ref: [template engine](http://expressjs.com/en/guide/using-template-engines.html) ) ([참고 강의](https://www.youtube.com/watch?v=qjAyQKPTzao))\n",
    "\n",
    "- pug module 을 설치합니다.\n",
    "```\n",
    "$ npm install pug –-save\n",
    "```\n",
    "\n",
    "- 폴더 안에 `views` 라는 이름의 폴더를 만들고, 그  안에 **index.pug** 파일을 다음과 같은 내용으로 생성합니다.  (**Note**:  tab 사용 및 개수에 주의)"
   ]
  },
  {
   "cell_type": "code",
   "execution_count": null,
   "metadata": {
    "collapsed": true
   },
   "outputs": [],
   "source": [
    "doctype html\n",
    "html\n",
    "    head\n",
    "        title=title\n",
    "    body\n",
    "        h1 Hello from Pug\n",
    "        h2 anothe greeting\n",
    "        ul\n",
    "            -for (var i=0; i<5; i++)\n",
    "                li coding #{i}\n",
    "        div=time"
   ]
  },
  {
   "cell_type": "markdown",
   "metadata": {},
   "source": [
    "- 다음의 코드를 `app.js` 에 넣고, `http://localhost:3000/template` 로 접속한다."
   ]
  },
  {
   "cell_type": "code",
   "execution_count": null,
   "metadata": {},
   "outputs": [],
   "source": [
    "app.locals.pretty = true;\n",
    "app.set('views', './views')\n",
    "app.set('view engine', 'pug')\n",
    "app.get('/template', function(req, res) {\n",
    "    res.render('index',{title:'pug title', time:Date()})\n",
    "});"
   ]
  },
  {
   "cell_type": "markdown",
   "metadata": {},
   "source": [
    "- 여러 개의 pug 파일에는 **header** 나 **footer** 와 같은 공통되는 부분이 있다. 이것을 **layout.pug** 로 빼어내면 다음과 같이 된다.\n",
    "- http://localhost:3000/about 또는 http://localhost:3000/main 로 접속한다."
   ]
  },
  {
   "cell_type": "code",
   "execution_count": null,
   "metadata": {},
   "outputs": [],
   "source": [
    "app.get('/about', function(req, res) {\n",
    "    res.render('about')\n",
    "});\n",
    "\n",
    "app.get('/main', function(req, res) {\n",
    "    res.render('main')\n",
    "});"
   ]
  },
  {
   "cell_type": "markdown",
   "metadata": {},
   "source": [
    "- **layout.pub**"
   ]
  },
  {
   "cell_type": "code",
   "execution_count": null,
   "metadata": {
    "collapsed": true
   },
   "outputs": [],
   "source": [
    "doctype html\n",
    "html\n",
    "    head\n",
    "        block title\n",
    "    body\n",
    "        h1 NodeJS tutorial\n",
    "        block content\n",
    "        p Copyright NodeJS. All right reserved."
   ]
  },
  {
   "cell_type": "markdown",
   "metadata": {},
   "source": [
    "- **about.pub**"
   ]
  },
  {
   "cell_type": "code",
   "execution_count": null,
   "metadata": {
    "collapsed": true
   },
   "outputs": [],
   "source": [
    "extends ./layout.pug\n",
    "block title\n",
    "    title About\n",
    "block content\n",
    "    h3 Creator: Jun Ji"
   ]
  },
  {
   "cell_type": "markdown",
   "metadata": {},
   "source": [
    "- **main.pug**"
   ]
  },
  {
   "cell_type": "code",
   "execution_count": null,
   "metadata": {
    "collapsed": true
   },
   "outputs": [],
   "source": [
    "extends ./layout.pug\n",
    "block title\n",
    "    title Main\n",
    "block content\n",
    "    pre something else"
   ]
  },
  {
   "cell_type": "markdown",
   "metadata": {},
   "source": [
    "- 이렇게 공통되는 부분은 layout으로 빼고 다른 부분만 파일을 다르게하여 관리할 수 있다. 특히 about.pug와 main.pug 파일에서는 extends 문을 통해 layout을 불러오는 것에 주목한다. \n",
    "- layout.pug 파일은 block 구문을 통해 미리 다른 파일이 들어올 틀을 마련해둔다.\n",
    "- Pug editor tool : http://aramboyajyan.github.io/online-jade-template-editor/\n",
    "- Html to Pug tool : https://html2jade.org"
   ]
  },
  {
   "cell_type": "markdown",
   "metadata": {},
   "source": [
    "### GET 방식 (or URL을) 이용한 정보의 전달\n",
    "\n",
    "### Query string 방식\n",
    "\n",
    "- 데이터를 URL 뒤에 값을 붙여서 전송하는 것을 **쿼리 스트링(Query String)**라고 부른다.\n",
    "\n",
    "\n",
    "- 예를 들어 `http://a.com/topic?id=1&name=jun` 처럼, 물음표(?) 이후부터 값을 나타내며, `=` 를 통해 변수와 값이 쌍으로 이루어지며, 하나 이상의 값일 경우 `&` 를 통해서 값을 구분한다.\n",
    "\n",
    "\n",
    "- 다음의 코드를 `app.js` 에 넣고, http://localhost:3000/topic?id=3&name=Jun+Ji 으로 접속한다."
   ]
  },
  {
   "cell_type": "code",
   "execution_count": null,
   "metadata": {
    "collapsed": true
   },
   "outputs": [],
   "source": [
    "app.get('/topic', function(req,res) {\n",
    "    res.send(req.query.id + ', ' + req.query.name);\n",
    "})"
   ]
  },
  {
   "cell_type": "markdown",
   "metadata": {},
   "source": [
    "- 참조 : [express reference for req.query](http://expressjs.com/en/5x/api.html#req.query) \n",
    "- 좀 더 현실적인 응용의 예 : 다음의 코드를 `app.js` 에 추가하고, http://localhost:3000/topics 으로 접속한다."
   ]
  },
  {
   "cell_type": "code",
   "execution_count": null,
   "metadata": {},
   "outputs": [],
   "source": [
    "app.get('/topics', function(req,res) {\n",
    "    var topics = [\n",
    "        'JavaScript is …',\n",
    "        'NodeJS is …',\n",
    "        'Express is …'\n",
    "    ]\n",
    "var output = `\n",
    "    <a href=\"/topics?id=0\"> JavaScript </a><br>\n",
    "    <a href=\"/topics?id=1\"> NodeJS </a><br>\n",
    "    <a href=\"/topics?id=2\"> Express </a><br>\n",
    "    ${topics[req.query.id]}\n",
    "`\n",
    "    res.send(output);\n",
    "})"
   ]
  },
  {
   "cell_type": "markdown",
   "metadata": {},
   "source": [
    "### 의미론적(Semantic) URL 방식 \n",
    "\n",
    "– query string  대신에 URL path 의 일부로 파라메타 전달방식. \n",
    "- 다음의 코드를 `app.js` 에 넣고,  http://localhost:3000/topic/0  또는 http://localhost:3000/topic/0/edit  로 접속해본다."
   ]
  },
  {
   "cell_type": "code",
   "execution_count": null,
   "metadata": {
    "collapsed": true
   },
   "outputs": [],
   "source": [
    "app.get('/topic/:id', function(req,res) {\n",
    "    var topics = [\n",
    "        'JavaScript is …',\n",
    "        'NodeJS is …',\n",
    "        'Express is …'\n",
    "    ];\n",
    "    var output =`\n",
    "        <a href=0> JavaScript </a><br>\n",
    "        <a href=1> NodeJS </a><br>\n",
    "        <a href=2> Express </a><br>\n",
    "        ${topics[req.params.id]}\n",
    "    `;\n",
    "    res.send(output);\n",
    "})\n",
    "\n",
    "app.get('/topic/:id/:mode', function(req, res) {\n",
    "    res.send(req.params.id + ', ' + req.params.mode)\n",
    "})"
   ]
  },
  {
   "cell_type": "markdown",
   "metadata": {},
   "source": [
    "### POST 방식을 이용한 정보의 전달\n",
    "\n",
    "우선 post 방식으로 정보를 전달하는 form 을 포함하는 html 파일을 다음과 같이 pug 템플릿으로 작성해 보자.  \n",
    "(i.e. views 폴더에 'form.pug' 파일 생성 )"
   ]
  },
  {
   "cell_type": "code",
   "execution_count": null,
   "metadata": {
    "collapsed": true
   },
   "outputs": [],
   "source": [
    "doctype html\n",
    "html\n",
    "    head\n",
    "        meta(charset='utf-8')\n",
    "    body\n",
    "        form(action='/form_receiver' method='post')\n",
    "            p Name :\n",
    "                br\n",
    "                input(type='text' name='title')\n",
    "            p Description :\n",
    "                br\n",
    "                textarea(name='description')\n",
    "            p\n",
    "                input(type='submit')"
   ]
  },
  {
   "cell_type": "markdown",
   "metadata": {},
   "source": [
    "- 그리고,  다음의 코드를 `app.js` 삽입한 후에 http://localhost:3000/form 으로 접속하여 확인한다."
   ]
  },
  {
   "cell_type": "code",
   "execution_count": null,
   "metadata": {
    "collapsed": true
   },
   "outputs": [],
   "source": [
    "app.get('/form', function(req, res){\n",
    "    res.render('form', {title:'pug', time:Date()})\n",
    "})"
   ]
  },
  {
   "cell_type": "markdown",
   "metadata": {},
   "source": [
    "- post 방식으로 전달된 정보를 해석하기 위해서는 전달된 방식에 따른 파서(Parser)가 필요하며, 대표적인 방식인 urlencoded 형식으로 전달된 body를 파싱하기 위한 **express.urlencoded( )** 라는 method가  middleware 로 사용되어야 한다. (참조: express reference for [req.body](http://expressjs.com/en/4x/api.html#req.body) )\n",
    "\n",
    "\n",
    "- 다음의 코드를 `app.js` 에 넣고, http://localhost:3000/form 으로 접속하여, 폼 내용을 채운 후에 제출합니다."
   ]
  },
  {
   "cell_type": "code",
   "execution_count": null,
   "metadata": {},
   "outputs": [],
   "source": [
    "app.use(express.urlencoded({ extended: true }));\n",
    "app.post('/form_receiver', function(req, res) {\n",
    "    var title = req.body.title;\n",
    "    var description = req.body.description;\n",
    "    res.send('title - ' + title + '<br>' + 'desc - ' + description);\n",
    "})"
   ]
  },
  {
   "cell_type": "markdown",
   "metadata": {},
   "source": [
    "### Router 분리하기\n",
    "\n",
    "- 라우팅은 반복되는 부분이 많기 때문에 주로 모듈로 분리해서 사용한다. 이를 위해 **app.js** 에서 라우팅 부분을 지우고, **router.js** 파일을 만들어보자.\n",
    "- **express** 에서는 **express.Router( )** 를 사용해 라우터를 분리할 수 있다. \n",
    "- **module.exports** 가 바로 모듈을 만드는 코드이다. 이 부분이 있어야 여기서 export한 것을, 다른 파일에서 require할 수 있다. "
   ]
  },
  {
   "cell_type": "code",
   "execution_count": null,
   "metadata": {
    "collapsed": true
   },
   "outputs": [],
   "source": [
    "const express = require('express');\n",
    "const router = express.Router(); // 라우터 분리\n",
    "router.get('/', function(req, res){ // app 대신 router에 연결\n",
    "    res.send('Hello World');\n",
    "});\n",
    "router.get('/route', (req, res) ==> {\n",
    "    res.send('Hello Route with image <img src=\"/freepik.jpg\">')\n",
    "})\n",
    "...\n",
    "module.exports = router; // 모듈로 만드는 부분"
   ]
  },
  {
   "cell_type": "markdown",
   "metadata": {},
   "source": [
    "- 이렇게 만든 **router.js**파일을 **app.js**에서 불러옵니다. 이전 것과 변화는 없지만 코드를 분리했다는 것에 의미를 둔다. 이렇게 코드를 잘게 분리해야 나중에 유지보수가 쉽고, 수백 수천 줄이 있는 하나의 긴 파일에서 코드를 찾는 것보다는 기능별로 분리된 파일에서 찾는 게 더 쉽다."
   ]
  },
  {
   "cell_type": "code",
   "execution_count": null,
   "metadata": {
    "collapsed": true
   },
   "outputs": [],
   "source": [
    "const router = require('./router.js');\n",
    "const express = require('express');\n",
    "\n",
    "const app = express();\n",
    "...\n",
    "app.use('/', router);\n",
    "\n",
    "app.use((req, res, next) => { // 404 처리 부분\n",
    "  res.status(404).send('일치하는 주소가 없습니다!');\n",
    "});\n",
    "\n",
    "app.listen(3000, function(){\n",
    "  console.log('Express server has started on port 3000')\n",
    "})"
   ]
  },
  {
   "cell_type": "markdown",
   "metadata": {},
   "source": [
    "- 제일 위에 **\"const router = require('./router.js');\"** 부분이 router 변수에  module.exports로 export했던 router 를 연결하겠다는 뜻이다. \n",
    "\n",
    "\n",
    "- **app.use**로 라우팅을 하는 것의 장점은, 그룹화가 쉽다는 것이다. 즉 \"app.use('/category', route1);\" 라는 코드가 있으면 route1에 있는 라우터들은 모두 category 주소 아래에 그룹화됩니다. route1에 router.get('/javascript', 콜백)라는 코드가 있다면, 자동으로 '/category/javascript' 주소로 연결된다.\n",
    "\n",
    "\n",
    "- 위의 라우터에서 하나도 **일치하는 라우트가 없을 때** 404 에러를 브라우저로 돌려줍니다. "
   ]
  },
  {
   "cell_type": "markdown",
   "metadata": {},
   "source": [
    "### MVC (Model-View-Controller) 아키텍처 [ref](https://www.geeksforgeeks.org/model-view-controllermvc-architecture-for-node-applications/)\n",
    "\n",
    "MVC는 Model-View-Controller의 약어입니다.\n",
    "소프트웨어 프로젝트를 위한 디자인 패턴으로, 주로 Node 개발자와 C #, Ruby, PHP 프레임 워크 사용자가 사용합니다.\n",
    "\n",
    "MVC 패턴에서 애플리케이션과 그 개발은 서로 연결된 세 부분으로 나뉩니다. 이것의 장점은 응용 프로그램 개발의 특정 부분에 초점을 맞추는 데 도움이 되며, 정보가 사용자에게 표시되고 사용자로부터 수락되는 방식에 도움이 됩니다. 이는 효율적인 코드 재사용과 애플리케이션의 병렬 개발을 허용하는 데 도움이 됩니다. 프로젝트 구조가 이상적인 MVC 구조와 약간 다르게 보일지라도 애플리케이션의 기본 프로그램 흐름은 동일하게 유지됩니다.\n",
    "\n",
    "* **Model(모델)** : 모델은 데이터의 구조, 형식 및 저장되는 제약을 나타냅니다. 응용 프로그램의 데이터를 유지합니다. 기본적으로 애플리케이션의 **데이터베이스 부분**입니다.\n",
    "\n",
    "* **View(보기)** : 보기는 사용자에게 표시되는 것입니다. View 는 모델을 활용하고 사용자가 원하는 형식으로 데이터를 제공합니다. 사용자는 또한 사용자에게 제공되는 데이터를 변경할 수 있습니다. 사용자가 요청할 때 렌더링되거나 사용자에게 전송되는 정적 및 동적 페이지로 구성됩니다.\n",
    "\n",
    "* **Controler(제어)** : Controller는 사용자의 요청을 제어 한 후, 뷰어에게 전달되는 적절한 응답을 생성합니다. 일반적으로 사용자는 View 와 상호 작용하여 적절한 요청을 생성하고, 이 요청은 컨트롤러에 의해 처리됩니다. 컨트롤러는 Model 데이터를 응답으로 사용하여 적절한 View 를 렌더링합니다.\n",
    "\n",
    "\n",
    "따라서 요약하면 다음과 같습니다.\n",
    "\n",
    "* **Model**은 **데이터** 부분입니다.\n",
    "* **View**는 **사용자 인터페이스** 부분입니다.\n",
    "* **Controller**는 **요청-응답 처리기**입니다. \n",
    "\n",
    "<img src=\"https://media.geeksforgeeks.org/wp-content/uploads/mvc-block-diagram.png\" width=\"300\"> "
   ]
  },
  {
   "cell_type": "markdown",
   "metadata": {},
   "source": [
    "### MVC structure with express & pug & mongodb\n",
    "\n",
    "- 다음과 같은 일련의 명령을 사용하여 폴더를 만들고 npm 환경 구축을 시작합니다.\n",
    "```\n",
    "$ mkdir server\n",
    "$ cd server\n",
    "$ npm init\n",
    "```\n",
    "- 그런 다음 dependencies 들을 설치하십시오.\n",
    "```\n",
    "$ npm i express pug\n",
    "```\n",
    "- 생성할 앱의 MVC 구조를 반영한 디렉토리 구조는 다음과 같습니다.\n",
    "\n",
    "```\n",
    "├── app.js\n",
    "├── package.json\n",
    "├── models\n",
    "│ └── User.model.js\n",
    "├── public\n",
    "├── routes\n",
    "│ └── user.js\n",
    "└── views\n",
    "│ ├── user.pug\n",
    "│ └── layout.pug\n",
    "\n",
    "```\n",
    "- 여기에서, \n",
    "  - /server/views 는 View 에, \n",
    "  - /server/routes 는 Controller 에 각각 해당하며,   \n",
    "  - /server/models 라는 폴더를 추가하여 database 관련 코드를 넣으면, Model 부분이 완성되게 된다. "
   ]
  },
  {
   "cell_type": "markdown",
   "metadata": {},
   "source": [
    "- 가장 기본적인 내용들로 만 구성된 파일들을 다음과 같다.\n",
    "\n",
    "\n",
    "- app.js"
   ]
  },
  {
   "cell_type": "code",
   "execution_count": null,
   "metadata": {},
   "outputs": [],
   "source": [
    "const express = require('express');\n",
    "const router = require('./routes/user')\n",
    "\n",
    "const app = express();\n",
    "\n",
    "// Model : Database\n",
    "\n",
    "\n",
    "// View : \n",
    "app.set('views', './views')\n",
    "app.set('view engine', 'pug')\n",
    "\n",
    "// Controller : Router\n",
    "app.use('/', router);\n",
    "\n",
    "// Start Web Server\n",
    "app.listen(3000, (req, res) => {\n",
    "    console.log('Express server is running on port 3000');\n",
    "})"
   ]
  },
  {
   "cell_type": "markdown",
   "metadata": {},
   "source": [
    "- routers/user.js"
   ]
  },
  {
   "cell_type": "code",
   "execution_count": null,
   "metadata": {},
   "outputs": [],
   "source": [
    "const express = require('express');\n",
    "\n",
    "const router = express.Router();\n",
    "\n",
    "router.get('/', (req, res) => {\n",
    "    res.send('Hello from / router');\n",
    "});\n",
    "\n",
    "router.get('/user', (req, res) => {\n",
    "    res.render('user', {title: 'user info.'});\n",
    "})\n",
    "\n",
    "router.post('/user', (req, res) => {\n",
    "    res.send('Hello from /user router for POST request');\n",
    "})\n",
    "\n",
    "module.exports = router;"
   ]
  },
  {
   "cell_type": "markdown",
   "metadata": {},
   "source": [
    "- views/layout.pug"
   ]
  },
  {
   "cell_type": "code",
   "execution_count": null,
   "metadata": {},
   "outputs": [],
   "source": [
    "doctype html\n",
    "html\n",
    "    head\n",
    "        block title\n",
    "    body\n",
    "        h3 Header content comes here ..\n",
    "        hr\n",
    "        block content\n",
    "        hr\n",
    "        p Footer content comes here ..."
   ]
  },
  {
   "cell_type": "markdown",
   "metadata": {},
   "source": [
    "- views/users.pug"
   ]
  },
  {
   "cell_type": "code",
   "execution_count": null,
   "metadata": {},
   "outputs": [],
   "source": [
    "extends ./layout.pug\n",
    "block title\n",
    "    title Users\n",
    "block content\n",
    "    h1 Users content comes here ...\n",
    "    p user1\n",
    "    p user2"
   ]
  },
  {
   "cell_type": "markdown",
   "metadata": {},
   "source": [
    "- 그런 다음 브라우저에 다음과 같이 다양한 방법으로 앱에 액세스 하여 시험합니다.\n",
    "  - `http://localhost:3000/` \n",
    "  - `http://localhost:3000/user`\n",
    "  - (POST 방식으로)`http://localhost:3000/user`\n",
    "  "
   ]
  },
  {
   "cell_type": "markdown",
   "metadata": {},
   "source": [
    "### Homework  1\n",
    "\n",
    "사용자로부터 필요한 정보를 입력받아 그 정보들을 다시 사용자에게 보여주는 페이지 (`http://your.server.ip:port/register`) 작성하기. 요구되는 사항은 다음과 같습니다.\n",
    "\n",
    "- MVC 구조의 기본 웹구조 완성\n",
    "- 해당 페이지는 twitter-bootstrap 스타일로 보여지도록 제작 (아래의 Hint 참조)\n",
    "- **(세부 실행사항-1)** index.js 에 post 방식 router 추가\n",
    "- **(세부 실행사항-2)** views 폴더에 register.pug 작성 (사용자 입력 정보 : name, e-mail, password, phone NO )\n",
    "\n",
    "#### (Hint)\n",
    "\n",
    "- `/views/layout.pug` for bootstrap"
   ]
  },
  {
   "cell_type": "code",
   "execution_count": null,
   "metadata": {},
   "outputs": [],
   "source": [
    "doctype html\n",
    "html\n",
    "    head\n",
    "        title= title\n",
    "        meta(name='viewport', content='width=devide-width', initial-scale=1)\n",
    "        link(rel='stylesheet', href='/stylesheets/style.css')\n",
    "        link(rel='stylesheet', href='https://maxcdn.bootstrapcdn.com/bootstrap/3.3.7/css/bootstrap.min.css')\n",
    "        script( src='https://ajax.googleapis.com/ajax/libs/jquery/3.2.1/jquery.min.js' )\n",
    "        script( src='https://cdnjs.cloudflare.com/ajax/libs/twitter-bootstrap/4.0.0-beta/js/bootstrap.min.js') \n",
    "    body \n",
    "        block \n",
    "        content"
   ]
  }
 ],
 "metadata": {
  "kernelspec": {
   "display_name": "Javascript (Node.js)",
   "language": "javascript",
   "name": "javascript"
  },
  "language_info": {
   "file_extension": ".js",
   "mimetype": "application/javascript",
   "name": "javascript",
   "version": "12.19.0"
  }
 },
 "nbformat": 4,
 "nbformat_minor": 2
}
