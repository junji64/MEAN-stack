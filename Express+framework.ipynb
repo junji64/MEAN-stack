{
 "cells": [
  {
   "cell_type": "markdown",
   "metadata": {},
   "source": [
    "## Express 란?\n",
    "- Node.js 를 위한 (가장 많이 쓰이는) 오픈소스 웹 프레임워크 \n",
    "- 강력한 웹 응용과 API들을 구축하는데 사용됨\n",
    "- MVC (Model, View, Controller) 개념을 사용한다.\n",
    "\n",
    "### Web Server 구축\n",
    "\n",
    "- 웹사이트를 구축할 폴더를 새로 만들고, 이동 후(eg: 'mkdir web-server; cd web-server')\n",
    "```\n",
    "$ npm init\n",
    "```\n",
    "\n",
    "- main 으로 app.js 입력하며, 그 외에는 기본값을 사용하기 위해 return 을 계속 누르면, 파일 `package.json` 이 생성됨.\n",
    "- `npm` 으로  `express module` 을 설치\n",
    "```\n",
    "$ npm install express -–save\n",
    "```\n",
    "- [expressjs.com](http://expressjs.com/en/starter/hello-world.html) 사이트를 방문해서 `Hello world code` 를 살펴봅니다.\n",
    "- 동일한 폴더에 `app.js` 파일을 생성하고 다음 코드를 입력하세요."
   ]
  },
  {
   "cell_type": "code",
   "execution_count": null,
   "metadata": {
    "collapsed": true
   },
   "outputs": [],
   "source": [
    "const express = require('express');\n",
    "\n",
    "const app = express();\n",
    "\n",
    "app.listen(3000, function(){\n",
    "  console.log('Express server has started on port 3000')\n",
    "})"
   ]
  },
  {
   "cell_type": "markdown",
   "metadata": {},
   "source": [
    "- 다음에, node app.js 를 입력하면 포트 3000 으로 웹 서버를 열고, 콘솔에 메시지를 표시합니다. 그러나, 브라우져를 사용해서 http://localhost:30000 으로 서버에 접속하면 \"Cannot GET /\" 이라는 텍스트가 나타납니다. (괜찮습니다. 왜냐하면, 라우터(Router)를 아직 정의하지 않았으니까요.)"
   ]
  },
  {
   "cell_type": "markdown",
   "metadata": {},
   "source": [
    "### Router로 Request 처리하기\n",
    "- 브라우저에서 Request 가 왔을 때, 서버에서 어떤 작업을 할 지 Router를 통하여 설정해주어야 합니다.  특히, URL 로 서버에 request 를 보내는 방식은 GET 방식이라고 하며,  GET 방식으로 온 request 에 응답하기 위한 코드는 다음과 같다."
   ]
  },
  {
   "cell_type": "code",
   "execution_count": null,
   "metadata": {
    "collapsed": true
   },
   "outputs": [],
   "source": [
    "app.get('/', function(req, res){\n",
    "  res.send('Hello World');\n",
    "});"
   ]
  },
  {
   "cell_type": "markdown",
   "metadata": {},
   "source": [
    "이 코드를 추가해주고 `app.js` 를 재실행하면, `http://localhost:3000/` 으로 접속하였을 때, `Hello World` 를 반환합니다.\n",
    "\n",
    "- 만약에 사용자가 `localhost:3000/login` 으로 접속해 들어 올 경우 `Login Please` 라는 메시지를 html 의 `<h1>` 요소로 표시하고 싶으면,  다음과 같은 코드가 추가 되어야 합니다."
   ]
  },
  {
   "cell_type": "code",
   "execution_count": null,
   "metadata": {
    "collapsed": true
   },
   "outputs": [],
   "source": [
    "app.get('/login', function(req, res) {\n",
    "    res.send('<h1>Login Please</h1>')\n",
    "})"
   ]
  },
  {
   "cell_type": "markdown",
   "metadata": {},
   "source": [
    "- 서버를 껐다가 다시 실행 후, ` http://localhost:3000/login` 으로 접속해 결과를 확인해 보시오.\n",
    "\n",
    "- 이처럼, 서로 다른 요청에 맞도록 응답을 연결해 주는 것은 routing 이라 하며,  이를 수행하는 코드를 router 라고 부른다."
   ]
  },
  {
   "cell_type": "markdown",
   "metadata": {},
   "source": [
    "### 정적인 파일 서비스 (Static file service)\n",
    "\n",
    "- 이미지나 텍스트 파일와 같은 정적인 파일을 서비스하는 방법\n",
    "- 폴더 안에 public 이라는 이름의 폴더를 만들고, 그 안에 [이미지 파일](https://image.flaticon.com/teams/slug/freepik.jpg) \"freepik.jpg\" 하나를 가져다 놓는다.  ( eg: `$ mkdir public` )  \n",
    "- express 에 내장된 middleware 함수 express.static()을 사용하기 위해서, 다음의 코드를 `app.js` 에 넣고, `http://localhost:3000/freepik.jpg` 로 접속한다."
   ]
  },
  {
   "cell_type": "code",
   "execution_count": null,
   "metadata": {
    "collapsed": true
   },
   "outputs": [],
   "source": [
    "app.use(express.static('public'));"
   ]
  },
  {
   "cell_type": "markdown",
   "metadata": {},
   "source": [
    "- public 폴더에 이미지  파일(eg. `freepik.jpg`) 을  `http://localhost:3000/freepik.jpg` 로 접속해 보시오.\n",
    "- public 폴더에 이미지  파일(eg. `images/other.jpg`) 는  `http://localhost:3000/images/other.jpg` 로 접속해 보시오.\n",
    "- public 폴더에 임의의  파일 (eg. `test.html`) 을 만들어 넣고,  `http://localhost:3000/test.html` 로 접속해 보시오.\n",
    "- 또는, 다음과 같이 router 에서 정적인 파일을 응답의 일부로 사용할 수 도 있다."
   ]
  },
  {
   "cell_type": "code",
   "execution_count": null,
   "metadata": {
    "collapsed": true
   },
   "outputs": [],
   "source": [
    "app.get('/route', function(req, res) {\n",
    "    res.send('Hello Route with image <img src=\"/freepik.jpg\">')\n",
    "})"
   ]
  },
  {
   "cell_type": "markdown",
   "metadata": {},
   "source": [
    "- [option] 동적인 (dynamic) 파일의 장점을 살펴보기 위해서 다음과 같은 코드를 작성해 실험해 보시오."
   ]
  },
  {
   "cell_type": "code",
   "execution_count": null,
   "metadata": {
    "collapsed": true
   },
   "outputs": [],
   "source": [
    "app.get('/dynamic', function(req, res) {\n",
    "var lists = '';\n",
    "for (var i=0; i<5; i++) {\n",
    "    lists += '<li>coding</li>';\n",
    "}\n",
    "var time = Date();\n",
    "var output ='<h1> Hello Dynamic ! </h1> <ul>' + lists + '</ul>' + time;\n",
    "    res.send(output);\n",
    "})"
   ]
  },
  {
   "cell_type": "markdown",
   "metadata": {},
   "source": [
    "### 개발시 유용한 tools : nodemon, supervisor\n",
    "- 소스코드가 변경되었을 때 서버 어플리케이션을 자동으로 재시작하는 방법\n",
    "```\n",
    "$ npm install -g supervisor\n",
    "$ supervisor app\n",
    "```\n",
    "or\n",
    "```\n",
    "$ npm install -g nodemon\n",
    "$ nodemon app\n",
    "```"
   ]
  },
  {
   "cell_type": "markdown",
   "metadata": {},
   "source": [
    "### pug template engine 사용 \n",
    "\n",
    "- 참조 : http://expressjs.com/en/guide/using-template-engines.html\n",
    "\n",
    "- YouTube 강의 :  https://www.youtube.com/watch?v=qjAyQKPTzao\n",
    "\n",
    "- pug module 을 설치합니다.\n",
    "```\n",
    "$ npm install pug –save\n",
    "```\n",
    "\n",
    "- 폴더 안에 views 라는 이름의 폴더를 만들고, 그  안에 **index.pug** 파일을 다음과 같은 내용으로 생성합니다.  (Note:  tab 사용 및 개수에 주의)"
   ]
  },
  {
   "cell_type": "code",
   "execution_count": null,
   "metadata": {
    "collapsed": true
   },
   "outputs": [],
   "source": [
    "html\n",
    "    head\n",
    "        title= title\n",
    "    body\n",
    "        h1 Hello from Pug\n",
    "        h2 anothe greeting\n",
    "        ul\n",
    "            -for (var i=0; i<5; i++)\n",
    "            li coding #{i}\n",
    "        div= time"
   ]
  },
  {
   "cell_type": "markdown",
   "metadata": {},
   "source": [
    "- 다음의 코드를 `app.js` 에 넣고, `http://localhost:3000/template` 로 접속한다."
   ]
  },
  {
   "cell_type": "code",
   "execution_count": null,
   "metadata": {
    "collapsed": true
   },
   "outputs": [],
   "source": [
    "app.locals.pretty = true;\n",
    "app.set('views', './views')\n",
    "app.set('view engine', 'pug')\n",
    "app.get('/template', function(req, res) {\n",
    "    res.render('index',{title:'pug title', time:Date()})\n",
    "});"
   ]
  },
  {
   "cell_type": "markdown",
   "metadata": {},
   "source": [
    "- pug editor tool : http://aramboyajyan.github.io/online-jade-template-editor/"
   ]
  },
  {
   "cell_type": "markdown",
   "metadata": {},
   "source": [
    "### URL을 이용한 정보의 전달\n",
    "\n",
    "#### Query string\n",
    "\n",
    "- 데이터를 URL 뒤에 값을 붙여서 전송. (ex. `http://a.com/topic?id=1&name=jun` ) 물음표(?) 이후 부터 값을 나타내며, `=` 를 통해 변수와 값이 쌍으로 이루어짐. 하나 이상의 값일 경우 `&` 를 통해서 값을 구분.  이처럼 URL의 실제 주소 뒤에 붙는 것을 쿼리 스트링(Query String)라고 부른다.\n",
    "- 다음의 코드를 `app.js` 에 넣고, `http://localhost:3000/topic?id=3&name=Jun` 으로 접속한다."
   ]
  },
  {
   "cell_type": "code",
   "execution_count": null,
   "metadata": {
    "collapsed": true
   },
   "outputs": [],
   "source": [
    "app.get('/topic', function(req,res) {\n",
    "    res.send(req.query.id + ', ' + req.query.name);\n",
    "})"
   ]
  },
  {
   "cell_type": "markdown",
   "metadata": {},
   "source": [
    "- 참조 : express reference for req.query \n",
    "- 좀 더 현실적인 응용의 예"
   ]
  },
  {
   "cell_type": "code",
   "execution_count": null,
   "metadata": {
    "collapsed": true
   },
   "outputs": [],
   "source": [
    "app.get('/topic', function(req,res) {\n",
    "    var topics = [\n",
    "        'JavaScript is …',\n",
    "        'NodeJS is …',\n",
    "        'Express is …'\n",
    "    ]\n",
    "var output = '\n",
    "    <a href=\"topic?id=0\"> JavaScript <a></br>\n",
    "    <a href=\"topic?id=1\"> NodeJS <a></br>\n",
    "    <a href=\"topic?id=2\"> express <a></br>\n",
    "    ${topics[req.query.id]}\n",
    "'\n",
    "    res.send(output);\n",
    "})"
   ]
  },
  {
   "cell_type": "markdown",
   "metadata": {},
   "source": [
    "#### 의미론적(Semantic) URL 방식 \n",
    "\n",
    "– query string  대신에 URL path 의 일부로 파라메타 전달방식. 다음의 코드를 `app.js` 에 넣고,  `http://localhost:3000/topic/0`  또는 `http://localhost:3000/topic/0/edit`  로 접속한다."
   ]
  },
  {
   "cell_type": "code",
   "execution_count": null,
   "metadata": {
    "collapsed": true
   },
   "outputs": [],
   "source": [
    "app.get('/topic/:id', function(req,res) {\n",
    "var topics = [\n",
    "    'JavaScript is …',\n",
    "    'NodeJS is …',\n",
    "    'Express is …'\n",
    "]\n",
    "var output ='\n",
    "    <a href=”/topic/0″> JavaScript <a></br>\n",
    "    <a href=”/topic/1″> NodeJS <a></br>\n",
    "    <a href=”/topic/2″> express <a></br>\n",
    "    ${topics[req.params.id]}\n",
    "'\n",
    "res.send(output);\n",
    "})\n",
    "app.get('/topic/:id/:mode', function(req, res) {\n",
    "    res.send(req.params.id + ', '+req.params.mode)\n",
    "})"
   ]
  },
  {
   "cell_type": "markdown",
   "metadata": {},
   "source": [
    "### POST 방식을 이용한 정보의 전달\n",
    "\n",
    "- 우선 post 방식으로 정보를 전달하는 form 을 포함하는 html 파일을 다음과 같이 pug 템플릿으로 작성해 보자.  \n",
    "(i.e. views 폴더에 'form.pug' 파일 생성 )"
   ]
  },
  {
   "cell_type": "code",
   "execution_count": null,
   "metadata": {
    "collapsed": true
   },
   "outputs": [],
   "source": [
    "!!!\n",
    "html\n",
    "    head\n",
    "        meta(charset='utf-8')\n",
    "    body\n",
    "        form(action='/form_receiver' method='post')\n",
    "            p\n",
    "                input(type='text' name='title')\n",
    "            p\n",
    "                textarea(name='description')\n",
    "            p\n",
    "                input(type='submit')"
   ]
  },
  {
   "cell_type": "markdown",
   "metadata": {},
   "source": [
    "- 그리고,  다음의 코드를 `app.js` 삽입한 후에 `http://localhost:3000/form` 으로 접속하여 확인한다."
   ]
  },
  {
   "cell_type": "code",
   "execution_count": null,
   "metadata": {
    "collapsed": true
   },
   "outputs": [],
   "source": [
    "app.get('/form', function(req, res){\n",
    "    res.render('form', {title:'pug', time:Date()})\n",
    "})"
   ]
  },
  {
   "cell_type": "markdown",
   "metadata": {},
   "source": [
    "- post 방식으로 전달된 정보를 해석하기 위해서는 `body-parser` 라는 module 이 설치되어야 합니다.\n",
    "```\n",
    "$ npm install body-parser -–save\n",
    "```\n",
    "\n",
    "- 다음의 코드를 `app.js` 에 넣고,  `http://localhost:3000/form` 으로 접속하여, 내용을 채운 후에 제출합니다.\n",
    "(참조: express reference for [req.body](http://expressjs.com/en/4x/api.html#req.body) )"
   ]
  },
  {
   "cell_type": "code",
   "execution_count": null,
   "metadata": {
    "collapsed": true
   },
   "outputs": [],
   "source": [
    "var bodyParser = require('body-parser')\n",
    "\n",
    "app.use(bodyParser.urlencoded({ extended: true }));\n",
    "app.post('/form_receiver', function(req, res) {\n",
    "    var title = req.body.title;\n",
    "    var description = req.body.description;\n",
    "    res.send(title +', ' + description)\n",
    "})"
   ]
  },
  {
   "cell_type": "markdown",
   "metadata": {},
   "source": [
    "### Express application generator\n",
    "\n",
    "- 응용 프로그램 생성 도구 인 `express-generator`을 사용하여 응용 프로그램 골격을 빠르게 만듭니다.  `express-generator` 패키지는 express 명령도구를 설치합니다. 이렇게 하려면 다음 명령을 사용하십시오.\n",
    "```\n",
    "$ npm install express-generator -g\n",
    "```\n",
    "\n",
    "- 예를 들어, 다음은 `myapp` 라는 Express어플리케이션을 작성합니다 . 응용 프로그램은 현재 작업 디렉토리의 myapp 라는 폴더에 생성되며 뷰 엔진은 Pug 로 설정됩니다.\n",
    "```\n",
    "$ express –view=pug myapp\n",
    "create : myapp\n",
    "create : myapp/package.json\n",
    "create : myapp/app.js\n",
    "create : myapp/public\n",
    "```\n",
    "\n",
    "- 그런 다음 dependencies 들을 설치하십시오.\n",
    "```\n",
    "$ cd myapp\n",
    "$ npm install\n",
    "```\n",
    "\n",
    "- 그리고 다음의 명령을 실행하시오\n",
    "```\n",
    "$ set DEBUG=myapp:* & npm start\n",
    "```\n",
    "\n",
    "- 그런 다음 브라우저에 `http://localhost:3000/`  로 앱에 액세스하십시오.  생성된 앱의 디렉토리 구조는 다음과 같습니다.\n",
    "```\n",
    "├── app.js\n",
    "├── bin\n",
    "│ └── www\n",
    "├── package.json\n",
    "├── public\n",
    "│ ├── images\n",
    "│ ├── javascripts\n",
    "│ └── stylesheets\n",
    "│ └── style.css\n",
    "├── routes\n",
    "│ ├── index.js\n",
    "│ └── users.js\n",
    "└── views\n",
    "├── error.pug\n",
    "├── index.pug\n",
    "└── layout.pug7 directories, 9 files\n",
    "```"
   ]
  },
  {
   "cell_type": "markdown",
   "metadata": {},
   "source": [
    "### Homework  1\n",
    "\n",
    "사용자로부터 필요한 정보를 입력받아 그 정보들을 다시 사용자에게 보여주는 페이지 (`http://your.server.ip/register`) 작성하기. 요구되는 사항은 다음과 같습니다.\n",
    "\n",
    "- AWS 에 node.js 와 express 프레임워크 설치\n",
    "- express-generator  로 기본 웹구조 완성\n",
    "- 해당 페이지는 twitter-bootstrap 스타일로 보여지도록 제작\n",
    "- ( detail ) index.js 에 post 방식 router 추가\n",
    "- ( detail ) views 폴더에 register.pug 작성\n",
    "\n",
    "#### (Hint)\n",
    "\n",
    "- `/views/layout.pug` for bootstrap"
   ]
  },
  {
   "cell_type": "code",
   "execution_count": null,
   "metadata": {
    "collapsed": true
   },
   "outputs": [],
   "source": [
    "!!!\n",
    "html\n",
    "    head\n",
    "        title= title\n",
    "        meta(name='viewport', content='width=devide-width', initial-scale=1)\n",
    "        link(rel='stylesheet', href='/stylesheets/style.css')\n",
    "        link(rel='stylesheet', href='https://maxcdn.bootstrapcdn.com/bootstrap/3.3.7/css/bootstrap.min.css')\n",
    "        script( src='https://ajax.googleapis.com/ajax/libs/jquery/3.2.1/jquery.min.js' )\n",
    "        script( src='https://cdnjs.cloudflare.com/ajax/libs/twitter-bootstrap/4.0.0-beta/js/bootstrap.min.js') \n",
    "    body \n",
    "        block \n",
    "        content"
   ]
  }
 ],
 "metadata": {
  "kernelspec": {
   "display_name": "Python 3",
   "language": "python",
   "name": "python3"
  },
  "language_info": {
   "codemirror_mode": {
    "name": "ipython",
    "version": 3
   },
   "file_extension": ".py",
   "mimetype": "text/x-python",
   "name": "python",
   "nbconvert_exporter": "python",
   "pygments_lexer": "ipython3",
   "version": "3.6.4"
  }
 },
 "nbformat": 4,
 "nbformat_minor": 2
}
