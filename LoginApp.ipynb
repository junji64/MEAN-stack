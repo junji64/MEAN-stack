{
 "cells": [
  {
   "cell_type": "markdown",
   "metadata": {},
   "source": [
    "## Login App\n",
    "\n",
    "- Setup\n",
    "\n"
   ]
  },
  {
   "cell_type": "code",
   "execution_count": null,
   "metadata": {
    "collapsed": true
   },
   "outputs": [],
   "source": [
    "> npm install express-generator -g\n",
    "> express -view=pug loginapp\n",
    "> cd loginapp\n",
    "> npm install\n",
    "> npm install --save bcryptjs body-parser connect-flash express-messages \n",
    "  express-session express-validator mongodb mongoose passport passport-http \n",
    "  passport-local"
   ]
  },
  {
   "cell_type": "markdown",
   "metadata": {},
   "source": [
    "- Include the following required packages into app.js "
   ]
  },
  {
   "cell_type": "code",
   "execution_count": null,
   "metadata": {
    "collapsed": true
   },
   "outputs": [],
   "source": [
    "//var bodyParser = required('body-parser');\n",
    "var expressValidator = require('express-validator');\n",
    "var flash = require('connect-flash);\n",
    "var session = require('express-session');\n",
    "var passport = require('passport');\n",
    "var LocalStrategy = require('passport-local');\n",
    "var mongo = require('mongodb');\n",
    "var mongoose = require('mongoose');\n",
    "\n",
    "mongoose.connect('mongodb://localhost/loginapp');\n",
    "var db = mongoose.connection;"
   ]
  },
  {
   "cell_type": "markdown",
   "metadata": {},
   "source": [
    "- start mongodb shell and create database loginapp"
   ]
  },
  {
   "cell_type": "code",
   "execution_count": null,
   "metadata": {
    "collapsed": true
   },
   "outputs": [],
   "source": [
    "> mongo\n",
    "> show dbs\n",
    "> use loginapp\n",
    "> db.createCollection('users');\n",
    "> show collections\n"
   ]
  },
  {
   "cell_type": "markdown",
   "metadata": {},
   "source": [
    "- include following middlewares into app.js\n",
    "  - express session \n",
    "  - passport initialization\n",
    "  - express validator \n",
    "  - flash"
   ]
  },
  {
   "cell_type": "code",
   "execution_count": null,
   "metadata": {
    "collapsed": true
   },
   "outputs": [],
   "source": []
  },
  {
   "cell_type": "code",
   "execution_count": null,
   "metadata": {
    "collapsed": true
   },
   "outputs": [],
   "source": []
  },
  {
   "cell_type": "code",
   "execution_count": null,
   "metadata": {
    "collapsed": true
   },
   "outputs": [],
   "source": []
  },
  {
   "cell_type": "code",
   "execution_count": null,
   "metadata": {
    "collapsed": true
   },
   "outputs": [],
   "source": []
  },
  {
   "cell_type": "markdown",
   "metadata": {},
   "source": [
    "# MEAN Auth App\n",
    "- Setup"
   ]
  },
  {
   "cell_type": "code",
   "execution_count": null,
   "metadata": {
    "collapsed": true
   },
   "outputs": [],
   "source": [
    "> npm install express-generator -g\n",
    "> express -view=pug meanauthapp\n",
    "> cd meanauthapp\n",
    "> npm install\n",
    "> npm install --save mongoose bcryptjs cors jsonwebtoken body-parser \n",
    "                     passport passport-jwt"
   ]
  },
  {
   "cell_type": "markdown",
   "metadata": {},
   "source": [
    "- Include the following required packages into app.js "
   ]
  },
  {
   "cell_type": "code",
   "execution_count": null,
   "metadata": {
    "collapsed": true
   },
   "outputs": [],
   "source": [
    "...\n",
    "const bodyParser = require('body-parser');\n",
    "const cors = require('cors');\n",
    "const passport = require('passport');\n",
    "const mongoose = require('mongoose');\n",
    "\n",
    "mongoose.connect(config.database);\n",
    "mongoose.connection.on('connected', () => {\n",
    "  console.log('Connected to database '+config.database);\n",
    "});\n",
    "mongoose.connection.on('error', (err) => {\n",
    "  console.log('Database error '+err);\n",
    "});\n",
    "...\n",
    "// CORS Middleware\n",
    "app.use(cors());\n",
    "// Body Parser Middleware\n",
    "app.use(bodyParser.json());"
   ]
  },
  {
   "cell_type": "markdown",
   "metadata": {},
   "source": [
    "- Include the followings into routers/user.js and brouse as http://localhost:3000/user/register"
   ]
  },
  {
   "cell_type": "code",
   "execution_count": null,
   "metadata": {
    "collapsed": true
   },
   "outputs": [],
   "source": [
    "router.post('/register', function(req, res, next) {\n",
    "  res.send('REGISTER');\n",
    "});\n",
    "\n",
    "router.get('/authenticate', function(req, res, next) {\n",
    "  res.send('AUTHENTICATE');\n",
    "});\n",
    "\n",
    "router.get('/profile', function(req, res, next) {\n",
    "  res.send('PROFILE');\n",
    "});\n",
    "\n",
    "router.get('/validate', function(req, res, next) {\n",
    "  res.send('VALIDATE');\n",
    "});"
   ]
  },
  {
   "cell_type": "markdown",
   "metadata": {},
   "source": [
    "- Create config folder and create database.js file in it as follows"
   ]
  },
  {
   "cell_type": "code",
   "execution_count": null,
   "metadata": {
    "collapsed": true
   },
   "outputs": [],
   "source": [
    "module.exports = {\n",
    "    database: 'mongodb://localhost:27017/meanauth',\n",
    "    secret: 'yoursecret'\n",
    "}"
   ]
  },
  {
   "cell_type": "markdown",
   "metadata": {},
   "source": [
    "- Include the following required packages into app.js "
   ]
  },
  {
   "cell_type": "code",
   "execution_count": null,
   "metadata": {
    "collapsed": true
   },
   "outputs": [],
   "source": [
    "mongoose.connect(config.database);\n",
    "mongoose.connection.on('connected', () => {\n",
    "  console.log('Connected to database '+config.database);\n",
    "});\n",
    "mongoose.connection.on('error', (err) => {\n",
    "  console.log('Database error '+err);\n",
    "});"
   ]
  },
  {
   "cell_type": "markdown",
   "metadata": {
    "collapsed": true
   },
   "source": [
    "- create authenticate service in the folder meanauthapp/angular-src/app/services as \"ng g s services/auth\"\n",
    "- Edit auth.service.ts as follows :"
   ]
  },
  {
   "cell_type": "code",
   "execution_count": null,
   "metadata": {
    "collapsed": true
   },
   "outputs": [],
   "source": [
    "import { Http, Headers } from '@angular/http';\n",
    "import { map } from 'rxjs/operators';\n"
   ]
  },
  {
   "cell_type": "markdown",
   "metadata": {},
   "source": [
    "- Edit app.module.ts and insert lines as follows:"
   ]
  },
  {
   "cell_type": "code",
   "execution_count": null,
   "metadata": {
    "collapsed": true
   },
   "outputs": [],
   "source": [
    "import { AuthGuard } from './guards/auth.guard';\n",
    "providers: [ValidateService, AuthService, AuthGuard],\n"
   ]
  }
 ],
 "metadata": {
  "kernelspec": {
   "display_name": "Javascript (Node.js)",
   "language": "javascript",
   "name": "javascript"
  }
 },
 "nbformat": 4,
 "nbformat_minor": 2
}
