{
 "cells": [
  {
   "cell_type": "markdown",
   "metadata": {},
   "source": [
    "# 주성분분석법(PCA)"
   ]
  },
  {
   "cell_type": "markdown",
   "metadata": {},
   "source": [
    "### 차원의 저주 (Surse of dimensionality)"
   ]
  },
  {
   "cell_type": "markdown",
   "metadata": {},
   "source": [
    "다변량 자료분석시 차원의 증가에 따라 발생하는 문제들을 말함\n",
    "\n",
    "**Example : 3 클래스 패턴인식문제**\n",
    "\n",
    "1. 특징공간을 일정한 구역으로 나누기 \n",
    "2. 각 구역에 속한 각 클래스 샘플들의 비를 구하기 \n",
    "3. 새로운 샘플에 대하여, 해당하는 구역을 찾아 그 구역에서 우세한 클래스로 선택하기\n",
    "\n",
    "**1개의 특징** : 아래와 같이 1차원 축을 세 부분으로 나누게 될 때 너무 많은 부분에서 클래스들이 겹치게 됨"
   ]
  },
  {
   "cell_type": "code",
   "execution_count": 96,
   "metadata": {
    "collapsed": false
   },
   "outputs": [
    {
     "data": {
      "text/html": [
       "<img src=\"http://jun.hansung.ac.kr/PR/images/1d.png\" width=\"220\" height=\"15\"/>"
      ],
      "text/plain": [
       "<IPython.core.display.Image object>"
      ]
     },
     "execution_count": 96,
     "metadata": {},
     "output_type": "execute_result"
    }
   ],
   "source": [
    "from IPython.display import Image\n",
    "Image(url= \"http://jun.hansung.ac.kr/PR/images/1d.png\", width=220, height=15)"
   ]
  },
  {
   "cell_type": "markdown",
   "metadata": {},
   "source": [
    "**2개의 특징** 사용하면 bin 의 개 수는 9개로 증가\n",
    "(1) 각 bin 마다 포함되는 표본의 개수를 일정하게 하던지 ( 표본 수가 1차원의 9 개 에서 2차원의 27 개로 증가) 또는\n",
    "(2) 1차원의 경우와 같은 수의 표본을 유지하던지를 (매우 희박한 2차원 분산플롯)\n",
    "선택을 해야 한다. "
   ]
  },
  {
   "cell_type": "code",
   "execution_count": 99,
   "metadata": {
    "collapsed": false
   },
   "outputs": [
    {
     "data": {
      "text/html": [
       "<img src=\"http://jun.hansung.ac.kr/PR/images/2d.png\" width=\"500\" height=\"50\"/>"
      ],
      "text/plain": [
       "<IPython.core.display.Image object>"
      ]
     },
     "execution_count": 99,
     "metadata": {},
     "output_type": "execute_result"
    }
   ],
   "source": [
    "from IPython.display import Image\n",
    "Image(url= \"http://jun.hansung.ac.kr/PR/images/2d.png\", width=500, height=50)"
   ]
  },
  {
   "cell_type": "markdown",
   "metadata": {},
   "source": [
    "**3 개의 특징** 을 사용하게 되면 문제는 더욱 심각하다. Bin 의 개 수는 3^3=27 개가 되고,\n",
    "(1) bin 마다 같은 표본 밀도를 유지하고 싶으면 81개의 표본이 (2) 같은 수의 표본을 사용하면 너무 많은 bin 들이 비어있게 된다."
   ]
  },
  {
   "cell_type": "code",
   "execution_count": 93,
   "metadata": {
    "collapsed": false,
    "scrolled": true
   },
   "outputs": [
    {
     "data": {
      "text/html": [
       "<img src=\"http://jun.hansung.ac.kr/PR/images/3d.png\" width=\"290\" height=\"100\"/>"
      ],
      "text/plain": [
       "<IPython.core.display.Image object>"
      ]
     },
     "execution_count": 93,
     "metadata": {},
     "output_type": "execute_result"
    }
   ],
   "source": [
    "from IPython.display import Image\n",
    "Image(url= \"http://jun.hansung.ac.kr/PR/images/3d.png\", width=290, height=100)"
   ]
  },
  {
   "cell_type": "markdown",
   "metadata": {},
   "source": [
    "**벡터의 차원이 높아짐에 따라 생길 수 있는 문제점들**\n",
    "* 특징이 많으면 잡음 특징들까지 포함되므로 오히려 분류에 상처를 줄 뿐이다.\n",
    "* 특징이 많으면 패턴 분류기에 의한 학습과 인식 속도가 느려진다.\n",
    "* 특징이 많으면 모델링에 필요한 학습 집합의 크기가 커진다. \n",
    "\n",
    "실제로 “차원의 저주”는 주어진 표본의 크기에서 분류기의 성능을 개선하기 보다는 감소시키는 최대 특징 수 가 존재함을 의미한다."
   ]
  },
  {
   "cell_type": "code",
   "execution_count": 100,
   "metadata": {
    "collapsed": false
   },
   "outputs": [
    {
     "data": {
      "text/html": [
       "<img src=\"http://jun.hansung.ac.kr/PR/images/performance.png\" width=\"300\" height=\"30\"/>"
      ],
      "text/plain": [
       "<IPython.core.display.Image object>"
      ]
     },
     "execution_count": 100,
     "metadata": {},
     "output_type": "execute_result"
    }
   ],
   "source": [
    "from IPython.display import Image\n",
    "Image(url= \"http://jun.hansung.ac.kr/PR/images/performance.png\", width=300, height=30)"
   ]
  },
  {
   "cell_type": "markdown",
   "metadata": {},
   "source": [
    "**차원의 저주를 극복하기 위해서는**\n",
    "1. 사전지식을 활용하거나\n",
    "2. 타겟 함수의 smoothness를 증가시키거나\n",
    "3. 차원을 줄인다.\n"
   ]
  },
  {
   "cell_type": "markdown",
   "metadata": {},
   "source": [
    "**차원 축소의 두 가지 방법**\n",
    "* 특징선택 (feature selection) : 전체 특징들로부터 부분집합을 선택함\n",
    "\n",
    "\\begin{gather}\n",
    "\\begin{bmatrix}\n",
    "       x_1 \\\\\n",
    "       x_2 \\\\\n",
    "       \\vdots \\\\\n",
    "       x_N\n",
    "\\end{bmatrix}\n",
    "\\rightarrow\n",
    "\\text{feature selection}\n",
    "\\rightarrow\n",
    "\\begin{bmatrix}\n",
    "       x_{i1} \\\\\n",
    "       x_{i2} \\\\\n",
    "       \\vdots \\\\\n",
    "       x_{iN}\n",
    "\\end{bmatrix}\n",
    "\\end{gather}\n",
    "\n",
    "* 특징추출 (feature extraction) : 기존의 특징들의 조합으로 구성된 새로운 특징들의 부분집합을 생성함. \n",
    "\n",
    "\\begin{gather}\n",
    "\\begin{bmatrix}\n",
    "       x_1 \\\\\n",
    "       x_2 \\\\\n",
    "       \\vdots \\\\\n",
    "       x_N\n",
    "\\end{bmatrix}\n",
    "\\rightarrow\n",
    "\\text{feature extraction}\n",
    "\\rightarrow\n",
    "\\begin{bmatrix}\n",
    "       y_1 \\\\\n",
    "       y_2 \\\\\n",
    "       \\vdots \\\\\n",
    "       y_M\n",
    "\\end{bmatrix}\n",
    "=f \\left(\n",
    "\\begin{bmatrix}\n",
    "       x_1 \\\\\n",
    "       x_2 \\\\\n",
    "       \\vdots \\\\\n",
    "       x_N\n",
    "\\end{bmatrix}\n",
    "\\right)\n",
    "\\end{gather}\n",
    "\n",
    "최적의 매핑 $y=f(x)$ 는 비선형 함수일 수 있지만, 특징 추출에서는 $y=Wx$ 와 같은 선형변환으로 국한\n",
    "\n",
    "\n",
    "\\begin{gather}\n",
    "\\begin{bmatrix}\n",
    "       x_1 \\\\\n",
    "       x_2 \\\\\n",
    "       \\vdots \\\\\n",
    "       x_N\n",
    "\\end{bmatrix}\n",
    "\\rightarrow\n",
    "\\text{feature extraction}\n",
    "\\rightarrow\n",
    "\\begin{bmatrix}\n",
    "       y_1 \\\\\n",
    "       y_2 \\\\\n",
    "       \\vdots \\\\\n",
    "       y_M\n",
    "\\end{bmatrix}\n",
    "= \\begin{bmatrix}\n",
    "       w_{11} &  w_{12}  & \\dots  &  w_{1N}  \\\\\n",
    "       w_{21} &  w_{22}  & \\dots  &  w_{2N} \\\\\n",
    "       \\vdots & \\vdots & \\ddots   & \\vdots  \\\\\n",
    "        w_{M1} &  w_{M2}  & \\dots  &  w_{MN} \n",
    "\\end{bmatrix}\n",
    "\\begin{bmatrix}\n",
    "       x_1 \\\\\n",
    "       x_2 \\\\\n",
    "       \\vdots \\\\\n",
    "       x_N\n",
    "\\end{bmatrix}\n",
    "\\end{gather}\n",
    "\n"
   ]
  },
  {
   "cell_type": "markdown",
   "metadata": {},
   "source": [
    "특징추출 매핑 $y=f(x)$의 선택은 우리가 최적화시키고자 하는 목적에 의해서 결정되며, 크게 두 가지 방법이 있다.\n",
    "* **신호표현(Signal Representation)**: 특징추출 매핑의 목적이 낮은 차원공간에서 정확하게 표현하고자 함일 경우 $\\rightarrow$ 주성분분석법 (PCA: Principal Components Analysis)\n",
    "* **분류(Classification)**: 특징추출매핑의 목적이 낮은 차원에서의 클래스 구분을 증대하고자 함일 경우 $\\rightarrow$ 선형판별분석법(LDA: Linear Discriminant Analysis)"
   ]
  },
  {
   "cell_type": "code",
   "execution_count": 107,
   "metadata": {
    "collapsed": false
   },
   "outputs": [
    {
     "data": {
      "text/html": [
       "<img src=\"http://jun.hansung.ac.kr/PR/images/feature-extraction.png\" width=\"350\" height=\"350\"/>"
      ],
      "text/plain": [
       "<IPython.core.display.Image object>"
      ]
     },
     "execution_count": 107,
     "metadata": {},
     "output_type": "execute_result"
    }
   ],
   "source": [
    "from IPython.display import Image\n",
    "Image(url= \"http://jun.hansung.ac.kr/PR/images/feature-extraction.png\", width=350, height=350)"
   ]
  },
  {
   "cell_type": "code",
   "execution_count": null,
   "metadata": {
    "collapsed": true
   },
   "outputs": [],
   "source": []
  }
 ],
 "metadata": {
  "kernelspec": {
   "display_name": "Python 3",
   "language": "python",
   "name": "python3"
  },
  "language_info": {
   "codemirror_mode": {
    "name": "ipython",
    "version": 3
   },
   "file_extension": ".py",
   "mimetype": "text/x-python",
   "name": "python",
   "nbconvert_exporter": "python",
   "pygments_lexer": "ipython3",
   "version": "3.6.0"
  }
 },
 "nbformat": 4,
 "nbformat_minor": 2
}
