{
 "cells": [
  {
   "cell_type": "markdown",
   "metadata": {},
   "source": [
    "# Introduction\n",
    "### MEAN Stack 이란?\n",
    "\n",
    "MEAN Stack은 독립적인 기술 이름에서 앞 글자를 따온 것이다.<br>\n",
    "**M: MongoDB,   E: Express JS,   A: Angular JS,   N: Node JS**\n",
    "\n",
    "#### 각 기술들의 역할\n",
    "\n",
    "- MongoDB는 NoSQL 진영의 대표적인 데이터베이스 기술이다.\n",
    "- Node JS는 서버를 구축하기 위해 사용되는 JavaScript 플랫폼(프로그램 실행 환경) 이다.\n",
    "- Express는 Node JS로 웹 서버를 구성시, 필요한 환경 설정 및 관리 등을 담당하는 프레임워크(프로그램 기본 구조)이다.\n",
    "- Angular JS는 프론트엔드에서 (사용자에게 보여주기 위한) 동작하는 방법등을 정의하는 프론트엔드(front-end)-프레임워크이다.\n",
    "<br><br>\n",
    "한번 쯤 이름을 들어보신 분들은 알겠지만 4가지 기술 모두 Javascript 언어에 그 뿌리를 가진다. 각 기술들이 가지는 장점 (물론 단점도 있다) 들을 제외하더라도, 일단 동일한 Javascript 언어로 웹 어플리케이션을 제작하기 위한 모든 것을 작성 가능하다는 것은 큰 장점으로 다가올 수 있다. 과거에 서버는 JSP/PHP/ASP로 구성, 데이터베이스는 MySQL/MS-SQL/Oracle로 구성, 프론트엔드에는 javascript로 구성하는 방식들이 사용되었고, 현재에도 사용되고 있다. 모든 환경에 대한 언어에 정통한 것이 불가능은 아니지만, 상당한 골칫거리가 될 수 있으며 개발 후 유지/보수 차원에서 볼때, 단일 언어로 작성된 웹 어플리케이션은 큰 장점을 가진다.\n",
    "\n",
    "* 출처: http://dog-paw.tistory.com/entry/MEAN-스택-구성-요소-MongoDB-Express-AngularJS-Nodejs [Dog발]\n",
    "\n",
    "\n",
    "#### Useful resources on the Web\n",
    "\n",
    "- 강의록 \n",
    " - https://velopert.com/node-js-tutorials\n",
    " - http://pyrasis.com/nodejs/nodejs-HOWTO/#websocket\n",
    " - https://www.tutorialspoint.com/nodejs/index.htm\n",
    " - https://www.w3schools.com/nodejs/default.asp\n",
    " - https://developer.mozilla.org/en-US/docs/Learn/Server-side/Express_Nodejs\n",
    "- 강의 비디오 \n",
    " - [Do it! Node.js](https://www.youtube.com/watch?v=EfPHkuFujMY&list=PLG7te9eYUi7tHH-hJ2yzBJ9h6dwBu1FUy)  by 정재곤\n",
    " - [Server Side JavaScript (nodejs)](https://www.youtube.com/watch?v=60zErcCmBfM&list=PLuHgQVnccGMBnrdKRODJmbH7UZ2A48LBK&index=2)  by 생활코딩"
   ]
  },
  {
   "cell_type": "code",
   "execution_count": null,
   "metadata": {
    "collapsed": true
   },
   "outputs": [],
   "source": []
  }
 ],
 "metadata": {
  "kernelspec": {
   "display_name": "Javascript (Node.js)",
   "language": "javascript",
   "name": "javascript"
  },
  "language_info": {
   "file_extension": ".js",
   "mimetype": "application/javascript",
   "name": "javascript",
   "version": "6.11.0"
  }
 },
 "nbformat": 4,
 "nbformat_minor": 2
}
