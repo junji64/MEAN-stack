{
 "cells": [
  {
   "cell_type": "markdown",
   "metadata": {},
   "source": [
    "# Cookie & Session & Authentication"
   ]
  },
  {
   "cell_type": "markdown",
   "metadata": {},
   "source": [
    "## Cookies\n",
    "\n",
    "- 웹서버가 웹브라우져에 필요한 정보들을 저장해놓고 사용하는 것\n",
    "- 쇼핑카트 서비스에 활용\n",
    "- 참조 : documentaion of [req.cookie](http://expressjs.com/en/4x/api.html#req.cookies) \n",
    "- install cookie-parser package by `npm install cookie-parser --save`"
   ]
  },
  {
   "cell_type": "code",
   "execution_count": null,
   "metadata": {
    "collapsed": true
   },
   "outputs": [],
   "source": [
    "var express = require('express'):\n",
    "var cookieParser = require('cookie-parser')\n",
    "var app = express();\n",
    "\n",
    "app.use(cookieParser()):\n",
    "app.get('/count', function(req, res) {\n",
    "    if(req.cookie.count) {\n",
    "        var count = parseInt(req.cookies.count);\n",
    "    } else {\n",
    "        var count = 0;\n",
    "    }\n",
    "    count = count + 1;\n",
    "    res.cookie('count', count);\n",
    "    res.send('Count : ' + count);\n",
    "});\n",
    "app.listen(3000, function(){\n",
    "    console.log('Connected 3000 port!'):\n",
    "});"
   ]
  },
  {
   "cell_type": "markdown",
   "metadata": {},
   "source": [
    "### shorping cart 구현"
   ]
  },
  {
   "cell_type": "code",
   "execution_count": null,
   "metadata": {
    "collapsed": true
   },
   "outputs": [],
   "source": [
    "var products = {\n",
    "    1:{title:'The history of web 1'},\n",
    "    2:{title:'The next web'}\n",
    "};\n",
    "\n",
    "app.get('/products', function(req, res){\n",
    "    var output = '';\n",
    "    for(var name in products) {\n",
    "        output += `\n",
    "            <li>\n",
    "                <a href=\"/cart/${name}\">${products[name].title}</a>\n",
    "            </li>\n",
    "            `\n",
    "    }\n",
    "    res.send(`<h1>Products</h1> <ul>${output}</ul> <a href=\"/cart\"> Cart</a>`);\n",
    "});\n",
    "\n",
    "app.get('/cart/:id', function(req,res){\n",
    "    var id = req.params.id;\n",
    "    if(req.cookies.cart) {\n",
    "        var cart = req.cookies.cart;\n",
    "    } else {\n",
    "        var cart = {};\n",
    "    }\n",
    "    if(!card[id]) {\n",
    "        cart[id] = 0;\n",
    "    }\n",
    "    cart[id] = parseInt(cart[id]) + 1;\n",
    "    res.cookie('cart', cart);\n",
    "    res.send(cart);\n",
    "};"
   ]
  },
  {
   "cell_type": "markdown",
   "metadata": {},
   "source": [
    "- Try as follows `localhost:3000/cart/1` &`localhost:3000/cart/2` &`localhost:3000/cart/1`\n",
    "- Now, it's time to decorate cart page"
   ]
  },
  {
   "cell_type": "code",
   "execution_count": null,
   "metadata": {
    "collapsed": true
   },
   "outputs": [],
   "source": [
    "app.get('/cart', function(req, res){\n",
    "    var cart = req.cookies.cart;\n",
    "    if(!cart) {\n",
    "        var cart = req.cookies.cart;\n",
    "    } else {\n",
    "        var output = ``;\n",
    "        for (var id in cart) {\n",
    "            output += '<li> ${products[id].title} (${cart[id]}) </li>';\n",
    "        }\n",
    "    }\n",
    "    res.send(`\n",
    "        <h1>CArt</h1>\n",
    "        <ul>${output}</ul>\n",
    "        <a href=\"/products\">Products List</a>\n",
    "        `);\n",
    "}"
   ]
  },
  {
   "cell_type": "markdown",
   "metadata": {},
   "source": [
    "Exercise : 삭제 기능 추가"
   ]
  },
  {
   "cell_type": "markdown",
   "metadata": {},
   "source": [
    "# Session\n",
    "\n",
    "- 웹서버가 사용자 식별자인 id만을 웹브라우져에 저장하고 이에 해당하는 정보들을 서버에 놓고 서비스에 활용하는 방법\n",
    "- 로그인 상태를 유지하며 서비스를 제공하는데 활용\n",
    "- `npm install express-session --save` 로 express-session package install "
   ]
  },
  {
   "cell_type": "code",
   "execution_count": null,
   "metadata": {
    "collapsed": true
   },
   "outputs": [],
   "source": [
    "var express = require('express');\n",
    "var session = require('express-session');\n",
    "\n",
    "var app = express();\n",
    "app.use(session({\n",
    "    secret: 'asdjfjkajdkjas2323454',\n",
    "    resave: false,\n",
    "    saveUninitialized: true\n",
    "}));\n",
    "\n",
    "app.get('/count', function(req, res){\n",
    "    if(req.session.count) {\n",
    "        req.session.count++;\n",
    "    } else {\n",
    "        req.session.count = 1;\n",
    "    }\n",
    "    res.send('count : '+req.session.cout);\n",
    "});\n",
    "\n",
    "app.listen(3000, function(){\n",
    "    console.log('Connected 3000 port!');\n",
    "});\n"
   ]
  },
  {
   "cell_type": "markdown",
   "metadata": {},
   "source": [
    "### Session 을 Login 에 활용하는 법"
   ]
  },
  {
   "cell_type": "code",
   "execution_count": null,
   "metadata": {
    "collapsed": true
   },
   "outputs": [],
   "source": [
    "app.get('/auth/login', function(req, res){\n",
    "    var output = `\n",
    "    <h1>Login</h1>\n",
    "    <form action=\"/auth/login\" method=\"post\">\n",
    "        <p>\n",
    "            <input type=\"text\" name=\"username\" placeholder=\"username\">\n",
    "        </p>\n",
    "        <p>\n",
    "            <input type=\"password\" name=\"password\" placeholder=\"password\">\n",
    "        </p>\n",
    "        <p>\n",
    "            <input type=\"submit\"\n",
    "        </p>\n",
    "    </form>\n",
    "    `;\n",
    "    res.send('Hello Login');\n",
    "});\n",
    "\n",
    "app.get('/welcome', function(req, res) {\n",
    "    if(req.session.displayName) {\n",
    "        res.send(`\n",
    "            <h1>hello, ${req.session.displayName} </h1>\n",
    "            <a href=\"/login/logout\">Logout</a>\n",
    "            `);\n",
    "    } else {\n",
    "        res.send(`\n",
    "        <h1>Welcome</h1>\n",
    "        <a href=\"/suth/login\">Login</a>\n",
    "        `);\n",
    "    }\n",
    "});\n",
    "\n",
    "app.get('/auth/logout', function(req, res) {\n",
    "    delete req.session.displayName;\n",
    "    res.redirect('/welcome'); // res.send('Hi Logout');\n",
    "}\n",
    "var bodyParser = require('body-parser');\n",
    "app.use(bodyParser.urlencoded({extended:fase}));\n",
    "\n",
    "spp.post('/auth/login', function(req, res){\n",
    "    var uname = req.body.username;\n",
    "    var pwd = req.body.password;\n",
    "    // Check username in the database \n",
    "    var user = {\n",
    "        username:'junji',\n",
    "        password:'1111',\n",
    "        displayName:'Jun Ji'\n",
    "    }\n",
    "    if(uname == user.username && pwd == user.password){\n",
    "        req.session.displayName = user.displayName;\n",
    "        res.redirect('/welcome'); // res.send('Welcome ');\n",
    "    } else {\n",
    "        res.send('Who are you? <a href=\"/suth/login\"> login again </a>');\n",
    "    }\n",
    "}"
   ]
  },
  {
   "cell_type": "markdown",
   "metadata": {},
   "source": [
    "- session 정보를 파일로 저장하여 사용하는 방법\n",
    "- `npm install session-file-store --save` 로 필요한 패키지 설치\n",
    "- "
   ]
  },
  {
   "cell_type": "code",
   "execution_count": null,
   "metadata": {
    "collapsed": true
   },
   "outputs": [],
   "source": [
    "var FileStore = require('session-file-store')(session);\n",
    "\n",
    "app.use(session({\n",
    "    secret: 'asdjfjkajdkjas2323454',\n",
    "    resave: false,\n",
    "    saveUninitialized: true,\n",
    "    store: new FileStore()\n",
    "}));"
   ]
  },
  {
   "cell_type": "markdown",
   "metadata": {},
   "source": [
    "- 실핼시 `session` 이라는 폴더가 생성."
   ]
  },
  {
   "cell_type": "markdown",
   "metadata": {},
   "source": [
    "## Security (사용자 등록 및 인증)"
   ]
  },
  {
   "cell_type": "markdown",
   "metadata": {},
   "source": [
    "- `npm install md5 --save`\n",
    "- try : node => var md5 = require('md5'); md5('1111') => use the encoded password as password\n",
    "- using salt : var salt = 'adk$!$%$asdj'; var pwd = '1111'; md5(pwd+salt); => use this instead"
   ]
  },
  {
   "cell_type": "code",
   "execution_count": null,
   "metadata": {
    "collapsed": true
   },
   "outputs": [],
   "source": [
    "var md5 = require('md5');\n",
    "\n",
    "var users = [\n",
    "    {\n",
    "    username:'junji',\n",
    "    password:'adkjiakjfdja',\n",
    "    salt:'adk$!$%$asdj'\n",
    "    displayName:'Jun Ji'\n",
    "    },\n",
    "    {\n",
    "    username:'KKK',\n",
    "    password:' ',\n",
    "    salt:'adjfadk',\n",
    "    displayName:'Kim Kee'\n",
    "    }\n",
    "]\n",
    "\n",
    "...\n",
    "if(uname == user.username && md5(pwd+user.salt) == user.password) {\n",
    "\n",
    "}\n",
    "..."
   ]
  },
  {
   "cell_type": "markdown",
   "metadata": {},
   "source": [
    "- `npm install sha256 --save` "
   ]
  },
  {
   "cell_type": "code",
   "execution_count": null,
   "metadata": {
    "collapsed": true
   },
   "outputs": [],
   "source": [
    "var sha256 = require('sha256')\n",
    "\n",
    "...\n",
    "if(uname == user.username && sha256(pwd+user.salt) == user.password) {\n",
    "\n",
    "}\n",
    "..."
   ]
  },
  {
   "cell_type": "markdown",
   "metadata": {},
   "source": [
    "- `npm install pbkdf2-password --save`\n",
    "- try : \n",
    "'''\n",
    "var bkfd2Password(); \n",
    "hasher({password:'1111'}, function(err, pass, salt, hash){\n",
    "... console.log(err,pass,salt,hash); });\n",
    "'''"
   ]
  },
  {
   "cell_type": "code",
   "execution_count": null,
   "metadata": {
    "collapsed": true
   },
   "outputs": [],
   "source": [
    "var user = [\n",
    "    {\n",
    "    }\n",
    "]\n",
    "\n",
    "if(uname === user.username) {\n",
    "    return hasher({password:pwd, salt:user.salt}, function(err, pass, salt, hash){\n",
    "        if(hash === user.password) {\n",
    "           req.session.displayName = user.displayName;\n",
    "           req.session.save(function(){\n",
    "           res.redirect('/welcome');\n",
    "           })\n",
    "        } else {\n",
    "            res.send('Who are you? <a href=\"/auth/login\"> loign </a>'\n",
    "        }    \n",
    "    });\n",
    "}"
   ]
  },
  {
   "cell_type": "markdown",
   "metadata": {},
   "source": [
    "####  Saving password"
   ]
  },
  {
   "cell_type": "code",
   "execution_count": null,
   "metadata": {
    "collapsed": true
   },
   "outputs": [],
   "source": [
    "app.post('/auth/register', function(req, res){\n",
    "    hasher({password:req.body.password}, function(err, pass, salt, hash) {\n",
    "        var user = {\n",
    "            username: req.body.username,\n",
    "            password:hash,\n",
    "            salt:salt,\n",
    "            displayName:req.body.displayName\n",
    "        };\n",
    "        users.push(user);\n",
    "        req.session.displayName = req.body.displayName;\n",
    "        req.session.save(function(){\n",
    "            res.redirect('/welcom');\n",
    "        });\n",
    "    });\n",
    "});"
   ]
  },
  {
   "cell_type": "markdown",
   "metadata": {},
   "source": [
    "## PassportJS"
   ]
  },
  {
   "cell_type": "markdown",
   "metadata": {},
   "source": [
    "- 자체인증(Local authentication) 과 타사인증(Federation authentication) 구현 및 관리에 편리.\n",
    "- 참조 : http://passportjs.org\n",
    "- `npm install --save passport passport-local`\n",
    "- Note : 사용자 \n",
    "- Middleware 는 callback 함수를 반환해준다고 생각하면 됨\n",
    "\n",
    "### Local authentication"
   ]
  },
  {
   "cell_type": "code",
   "execution_count": null,
   "metadata": {
    "collapsed": true
   },
   "outputs": [],
   "source": [
    "var express = require('express');\n",
    "var session = require('express-session');\n",
    "var FileStore = require('session-file-store')(session);\n",
    "var bodyParser = require('ody-parser');\n",
    "var bkfd2Password = require('pbkdf2-password');\n",
    "var passport = require('passport')\n",
    "var LocalStrategy = require('passport-local').Strategy;\n",
    "var hasher = bkfd2Password();\n",
    "\n",
    "var app = express();\n",
    "\n",
    "app.use(bodyParser.urlencoded({ extended: false }));\n",
    "app.use(session({\n",
    "    secret: 'adlklaksdjas;dj',\n",
    "    resave: false,\n",
    "    saveUninitialized: true,\n",
    "    store: new FileStore()\n",
    "}));\n",
    "app.use(passport.initialize());  // should be after app.use(session())\n",
    "app.use(passport.session());\n",
    "\n",
    "app.post('/auth/login',\n",
    "         passport.authenticate('local', \n",
    "                        { successRedirect: '/welcome',\n",
    "                          failureRedirect: '/auth/login',\n",
    "                          failureFlash: false })\n",
    ");\n",
    "         \n",
    "passport.use(new LocalStrategy(\n",
    "    function(username, password, done) {\n",
    "        User.findOne({ username: username }, function(err, user) {\n",
    "            if (err) { return done(err); }\n",
    "            if (!user) {\n",
    "                return done(null, false, { message: 'Incorrect username.' });\n",
    "            }\n",
    "            if (!user.validPassword(password)) {\n",
    "                return done(null, false, { message: 'Incorrect password.' });\n",
    "            }\n",
    "                return done(null, user);\n",
    "        });\n",
    "      }\n",
    "));\n",
    "```\n",
    "passport.use(new LocalStrategy(\n",
    "    function(username, password, done){\n",
    "        var uname = username;\n",
    "        var pwd = password;\n",
    "        for(var i=0; i<users.length; i++){\n",
    "            var user = users[i];\n",
    "            if(uname == user.username){\n",
    "                return hasher({password:pwd, salt:user.salt}, function(err,pass, salt, hash){\n",
    "                    if(hash == user.password){\n",
    "                        done(null, user);\n",
    "                    } else {\n",
    "                        done(null, false);\n",
    "                    }\n",
    "                });\n",
    "            }\n",
    "        }\n",
    "        done(null, false);\n",
    "    }\n",
    "));\n",
    "```\n",
    "passport.serializeUser(function(us er, done) {\n",
    "        done(null, user.id);\n",
    "});\n",
    "\n",
    "passport.deserializeUser(function(id, done) {\n",
    "    User.findById(id, function(err, user) {\n",
    "        done(err, user);\n",
    "    });\n",
    "});\n",
    "\n",
    "\n",
    "passport.deserializeUser(function(id, done) {\n",
    "    for(var i=0; i<users.length; i++) {\n",
    "        var user = users[i];\n",
    "        if(user.username == id) {\n",
    "        \n",
    "        }\n",
    "    }\n",
    "    User.findById(id, function(err, user) {\n",
    "        done(err, user);\n",
    "    });\n",
    "});\n",
    "\n",
    "\n",
    "app.get('/logout', function(req, res){\n",
    "    req.logout();\n",
    "    res.redirect('/welcome');\n",
    "});\n"
   ]
  },
  {
   "cell_type": "markdown",
   "metadata": {},
   "source": [
    "### 타사인증 (Federation authentication)\n",
    "- 설치 : `npm install passport-facebook --save`"
   ]
  },
  {
   "cell_type": "code",
   "execution_count": null,
   "metadata": {
    "collapsed": true
   },
   "outputs": [],
   "source": []
  }
 ],
 "metadata": {
  "kernelspec": {
   "display_name": "Javascript (Node.js)",
   "language": "javascript",
   "name": "javascript"
  },
  "language_info": {
   "file_extension": ".js",
   "mimetype": "application/javascript",
   "name": "javascript",
   "version": "12.19.0"
  }
 },
 "nbformat": 4,
 "nbformat_minor": 2
}
