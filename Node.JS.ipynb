{
 "cells": [
  {
   "cell_type": "markdown",
   "metadata": {},
   "source": [
    "### Node.js 란?\n",
    "\n",
    "- Node.js는 **JavaScript 런타임**(실행되는 곳/구동되는 환경)입니다.\n",
    "- Node.js는 **오픈 소스 서버 프레임워크**입니다.\n",
    "- Node.js는 **무료**입니다.\n",
    "- Node.js는 다양한 플랫폼 (Windows, Linux, Unix, Mac OS X 등)에서 실행됩니다.\n",
    "- Node.js는 서버에서 JavaScript를 사용하게 해줍니다.\n",
    "\n",
    "### 왜 Node.js 를 사용합니까?  ==> 가볍고, 효율적 !\n",
    "\n",
    "- Node.js 는 구글 크롬의 **V8 자바스크립트 엔진**을 사용하여 빠른 코드 실행을 제공합니다.\n",
    "- Node.js 는 이벤트 루프와 함께 **단일 스레드(single-threaded)** 모델을 사용합니다. 이벤트 메커니즘은 서버가 멈추지 않고 반응하도록 해주어 서버의 확장성을 키워줍니다. 쓰레드를 한 개만 사용하고 Apache 같은 웹서버보다 훨씬 많은 요청을 처리할 수 있습니다.\n",
    "- Node.js 는 **비차단(non-blocking), 비동기식(asynchronous)** 프로그래밍을 실행합니다.  API가 실행되었을때, 데이터를 반환할 때까지 기다리지 않고, 다음 API를 실행합니다. 그리고 이전에 실행했던 API가 결과값을 반환할 시, Node.js 의 이벤트 알림 메커니즘을 통해 결과값을 받아옵니다.\n",
    "\n",
    "### Node.js 는 무엇을 할 수 있습니까?\n",
    "\n",
    "- Node.js는 동적(dynamic) 페이지 콘텐츠를 생성 할 수 있습니다.\n",
    "- Node.js는 서버에서 파일을 생성, 열기, 읽기, 쓰기, 삭제 및 닫을 수 있습니다.\n",
    "- Node.js는 양식(form) 데이터를 수집 할 수 있습니다.\n",
    "- Node.js는 데이터베이스의 데이터를 추가, 삭제, 수정할 수 있습니다.\n",
    "\n",
    "### Node.js를 쓰기에 적절한 분야\n",
    "\n",
    "- 입출력이 잦은 어플리케이션\n",
    "- 데이터 스트리밍 어플리케이션\n",
    "- 데이터를 실시간으로 다루는 어플리케이션\n",
    "- JSON API 기반 어플리케이션\n",
    "- 싱글페이지 어플리케이션(SPA: Single Page Application)\n",
    "\n",
    "### Node.js를 쓰지 말아야 할 곳!\n",
    "\n",
    "- CPU 사용률이 높은 어플리케이션\n",
    "\n",
    "### Download & Install\n",
    "\n",
    "- Download Node.js from the official Node.js web site: https://nodejs.org\n",
    "- cmd 창에서 `node -v` 로 버전 확인.\n",
    "- cmd 창에서 `npm -v` 로 버전 확인.\n",
    "- 폴더 만들기 `mkdir C:\\Users\\YourName\\www`"
   ]
  },
  {
   "cell_type": "markdown",
   "metadata": {},
   "source": [
    "### Get Started – Hello World\n",
    "\n",
    "텍스트 에디터( [Sublime Text](https://www.sublimetext.com/), Brackets, [Visual Studio Code](https://code.visualstudio.com/), Atom 등)를 사용하여 `myfirst.js` 라는 JavaScript 파일을 만들고, 다음 코드를 추가합니다. 그리고 당신의 컴퓨터에 `C:\\Users\\Your Name\\www\\myfirst.js`로 저장합니다"
   ]
  },
  {
   "cell_type": "code",
   "execution_count": 1,
   "metadata": {
    "collapsed": false,
    "scrolled": false
   },
   "outputs": [
    {
     "name": "stdout",
     "output_type": "stream",
     "text": [
      "Hello, World!\n"
     ]
    }
   ],
   "source": [
    "/* Hello World in Node.js */\n",
    "console.log('Hello, World!');"
   ]
  },
  {
   "cell_type": "markdown",
   "metadata": {},
   "source": [
    "Node.js 파일은 컴퓨터의 Command Line Interface(CLI) 프로그램에서 시작되어야 합니다.\n",
    "\n",
    "컴퓨터에서 CLI를 시작하는 방법은 운영 체제에 따라 다릅니다. \n",
    "Windows 사용자의 경우 `시작` 버튼을 누르고 `명령 프롬프트(Command Prompt)`를 찾거나 검색 필드에 `cmd` 라고 적어주십시오. \n",
    "(대신에 \"[cmder](http://cmder.net/)\" 또는 \"[Git-Bash](https://git-scm.com/)\" 를 쓰면 unix 명령어로 작동되어 편리함.)\n",
    "\n",
    "#### 유용한 Unix 명령어들 \n",
    "- ls\n",
    "- ls -al\n",
    "- cd\n",
    "- cd ..\n",
    "- less [filename]\n",
    "- mkdir [dir_name]\n",
    "- rmdir [dir_name]\n",
    "\n",
    "\n",
    "방금 작성한 파일은 Node.js에 의해 시작되어야 작업이 수행 될 수 있습니다.  \n",
    "다음과 같이 `node myfirst.js` 라고 입력하고 Enter 키를 누르십시오.\n",
    "\n",
    "`C:/Users/YourName/www> node myfirst.js`  \n",
    "\n",
    "or\n",
    "\n",
    "`C:/Users/YourName/www> node myfirst`\n",
    "\n",
    "작업환경이 성공적으로 설정되었다면 'Hello, World!' 이 출력됩니다.\n",
    "\n",
    "- chrome 브라우져에서도 console 에서(i.e. F12 => console) 같은 실험이 가능합니다.\n",
    "- node 환경에서도 같은 실험이 가능합니다. (다양한 Javascript 명령실행 s.t. "
   ]
  },
  {
   "cell_type": "code",
   "execution_count": null,
   "metadata": {
    "collapsed": true
   },
   "outputs": [],
   "source": [
    "> 2+2 \n",
    "> var x=5\n",
    "> x + 2\n",
    "> var d = new Date()\n",
    "> d \n",
    "> for (var i=0; i < 10; i++) {\n",
    "... console.log(i);\n",
    "    }\n",
    "> function greeting(greet) {\n",
    "... consold.log(greet);\n",
    "... }\n",
    "> greeting('Hello World!')"
   ]
  },
  {
   "cell_type": "markdown",
   "metadata": {},
   "source": [
    "### Get Started – Web Server\n",
    "\n",
    "이번에는 `myfirst.js` 에 다음 코드를 추가합니다. (from  http://nodejs.org/en/about )"
   ]
  },
  {
   "cell_type": "code",
   "execution_count": null,
   "metadata": {
    "collapsed": false,
    "scrolled": true
   },
   "outputs": [],
   "source": [
    "const http = require('http');\n",
    "\n",
    "const hostname = '127.0.0.1';\n",
    "const port = 3000;\n",
    "\n",
    "const server = http.createServer( function(req, res){\n",
    "    res.statusCode = 200;\n",
    "    res.setHeader('Content-Type', 'text/plain');\n",
    "    res.end('Hello World\\n');\n",
    "});\n",
    "\n",
    "server.listen(port, hostname, function() {\n",
    "console.log('Server running at http://${hostname}:${port}/');\n",
    "});"
   ]
  },
  {
   "cell_type": "markdown",
   "metadata": {},
   "source": [
    "CLI를 시작하고, 다음과 같이 `node myfirst.js` 라고 입력하고 Enter 키를 누르십시오.\n",
    "\n",
    "`C:/Users/YourName/www>node myfirst.js`"
   ]
  },
  {
   "cell_type": "markdown",
   "metadata": {},
   "source": [
    "이제 컴퓨터가 웹 서버로 작동합니다. 누군가 포트 3000에서 컴퓨터에 액세스 하면, \n",
    "그 응답으로 `Hello World!`가 표시됩니다. 그리고, 콘솔에는 다음과 같이 표시됩니다.\n",
    "\n",
    "`Server is running at http://127.0.0.1:3000`\n",
    "\n",
    "인터넷 브라우저를 시작하고 주소(http://localhost:3000) 를 입력하십시오\n",
    "\n",
    "#### Exercises\n",
    "- port 번호를 변화시키고 작동 여부 실험\n",
    "- const 대신에 var 를 사용해서도 실험\n",
    "- res.* 를 단순화 한 후에 실험"
   ]
  },
  {
   "cell_type": "code",
   "execution_count": null,
   "metadata": {
    "collapsed": true
   },
   "outputs": [],
   "source": [
    "const server = http.createServer( function(req, res){\n",
    "    res.write('Hello World\\n');\n",
    "});"
   ]
  },
  {
   "cell_type": "markdown",
   "metadata": {},
   "source": [
    "### Module\n",
    "\n",
    "- Node.js 에서 모듈(module)은 JavaScript 라이브러리와 동일하게 간주할 수 있으며, 응용 프로그램에 포함 할 함수 집합입니다.\n",
    "- Node.js 에는 추가 설치없이 사용할 수 있는 내장 모듈 세트(builtin modules set)가 있으며, 대표적인 모듈에는 http, fs(file system), URL 등이 있습니다.\n",
    "- 모듈을 포함하려면 require() 함수를 모듈의 이름과 함께 사용하십시오.\n",
    "```javascript\n",
    "var http = require('http');\n",
    "```\n",
    "\n",
    "- 이제 애플리케이션은 HTTP 모듈에 액세스 할 수 있으며 서버를 만들 수 있습니다.\n",
    "```javascript\n",
    "http.createServer(function (req, res) {\n",
    "    res.writeHead(200, {'Content-Type': 'text/html'});\n",
    "    res.end('Hello World!');    // or test with <h1>Hello World! </h1>\n",
    "}).listen(3000);\n",
    "```\n",
    "* check http module at  https://nodejs.org/dist/latest-v6.x/docs/api/http.html\n",
    "\n",
    "- os module\n",
    "```javascript\n",
    "var o = require('os');\n",
    "console.log(o.platform());\n",
    "```"
   ]
  },
  {
   "cell_type": "markdown",
   "metadata": {},
   "source": [
    "### NPM (Node Package Manager) 이란?\n",
    "\n",
    "- NPM은 Node.js 패키지 관리자로서, 패키지 설치 및 버전/호환성 관리를 할 수 있는 커맨드라인 유틸리티입니다.\n",
    "- http://www.npmjs.com 에는 수천 개의 무료 패키지를 제공하여 다운로드하고 사용할 수 있습니다.\n",
    "- Node.js를 설치할 때 NPM 프로그램이 컴퓨터에 설치됩니다.\n",
    "- 예를 들어, `uglify-js` 라는 module/package를 설치해 보자. (-g means globally)\n",
    "```\n",
    "C:/Users/YourName/www> npm install uglify-js -g\n",
    "```\n",
    "- 그리고, 다음과 같이 `pretty.js` 라는 파일을 생성합니다.\n",
    "``` javascript\n",
    "function hello(name) {\n",
    "    console.log('Hi' + name);\n",
    "}\n",
    "hello('Jun')\n",
    "```\n",
    "그리고,  다음을 실행한 후에 `pretty.min.js` 파일을 살펴보시오.\n",
    "```\n",
    "C:/Users/YourName/www> uglifyjs pretty.js -o pretty.min.js -m\n",
    "```\n",
    "\n",
    "#### 프로젝트에서 package 관리 : \n",
    "- CLI 에서 `npm init` 실행\n",
    "```\n",
    "C:/Users/YourName/www> npm init\n",
    "name: (www)\n",
    "version: (1.0.0)\n",
    "description: nodejs practice site\n",
    "entry point: (index.js) app.js\n",
    "…\n",
    "```\n",
    "- 그리고, `package.json` 파일 내용 확인.\n",
    "- 다음에는, 다음과 같이, 또 다른 유용한 모듈 `underscore` 를 설치하고 다시 `package.json` 파일 확인.\n",
    "```\n",
    "C:/Users/YourName/www> npm install underscore –save\n",
    "C:/Users/YourName/www> less package.json\n",
    "```\n",
    "```javascript\n",
    "{\n",
    "\"name\":\"www\",\n",
    "\"version\": \"1.0.0\",\n",
    "\"description: \"nodejs practice site\",\n",
    "\"main: \"app.js\",\n",
    "\"scripts: {\n",
    "\"test: 'echo \\\"Error: no test specified\\\" && exit 1'\n",
    "},\n",
    "\"author\": \"Jun Ji\",\n",
    "\"license\": \"ISC\",\n",
    "\"dependencies\": {\n",
    "\"underscore\": \"^1.8.3\"\n",
    "}\n",
    "}\n",
    "```"
   ]
  },
  {
   "cell_type": "code",
   "execution_count": null,
   "metadata": {
    "collapsed": false,
    "scrolled": true
   },
   "outputs": [],
   "source": [
    "var us = require('underscore');\n",
    "var arr = [3, 6, 9, 1, 12];\n",
    "\n",
    "console.log(arr[0]);\n",
    "console.log(arr[arr.length-1]);\n",
    "console.log(us.first(arr));\n",
    "console.log(us.last(arr));"
   ]
  },
  {
   "cell_type": "markdown",
   "metadata": {
    "collapsed": true,
    "scrolled": true
   },
   "source": [
    "### Callback\n",
    "\n",
    "- 자바스크립트에서는, 함수(function)는 일급 객체입니다. 즉, 함수는 Object 타입이며 다른 일급객체와 똑같이 사용 될 수 있습니다. (String, Array, Number, 등등..) function 자체가 객체이므로 변수 안에 담을 수도 있고, 인수로서 다른 함수에 전달해 줄 수도 있고, 함수에서 만들어질 수도 있고 반환 될 수도 있습니다.\n",
    "- Callback function은, 특정 함수에 매개변수로서 전달된 함수를 지칭합니다. 그리고 그 Callback function은 그 함수를 전달받은 함수 안에서 호출되게 됩니다.\n",
    "\n"
   ]
  },
  {
   "cell_type": "code",
   "execution_count": 3,
   "metadata": {
    "collapsed": false
   },
   "outputs": [
    {
     "name": "stdout",
     "output_type": "stream",
     "text": [
      "2\n"
     ]
    }
   ],
   "source": [
    "console.log(1+1);"
   ]
  },
  {
   "cell_type": "code",
   "execution_count": 4,
   "metadata": {
    "collapsed": false
   },
   "outputs": [
    {
     "name": "stdout",
     "output_type": "stream",
     "text": [
      "[ 3, 1, 2 ]\n"
     ]
    }
   ],
   "source": [
    "a = [3,1,2]; console.log(a);"
   ]
  },
  {
   "cell_type": "code",
   "execution_count": 5,
   "metadata": {
    "collapsed": false
   },
   "outputs": [
    {
     "name": "stdout",
     "output_type": "stream",
     "text": [
      "[ 1, 2, 3 ]\n"
     ]
    }
   ],
   "source": [
    "a = [3,1,2]; a.sort(); console.log(a); "
   ]
  },
  {
   "cell_type": "code",
   "execution_count": 6,
   "metadata": {
    "collapsed": false
   },
   "outputs": [
    {
     "name": "stdout",
     "output_type": "stream",
     "text": [
      "[ 1, 2, 3 ]\n"
     ]
    }
   ],
   "source": [
    "a = [3,1,2]; function b(v1,v2){return v1-v2}; a.sort(b); console.log(a);"
   ]
  },
  {
   "cell_type": "code",
   "execution_count": 7,
   "metadata": {
    "collapsed": false
   },
   "outputs": [
    {
     "name": "stdout",
     "output_type": "stream",
     "text": [
      "[ 3, 2, 1 ]\n"
     ]
    }
   ],
   "source": [
    "a = [3,1,2]; function b(v1,v2){return v2-v1}; a.sort(b); console.log(a);"
   ]
  },
  {
   "cell_type": "code",
   "execution_count": 8,
   "metadata": {
    "collapsed": false
   },
   "outputs": [
    {
     "name": "stdout",
     "output_type": "stream",
     "text": [
      "[ 3, 1, 2 ]\n"
     ]
    }
   ],
   "source": [
    "a = [3,1,2]; function b(v1,v2){return 0}; a.sort(b); console.log(a);"
   ]
  },
  {
   "cell_type": "code",
   "execution_count": 2,
   "metadata": {
    "collapsed": false
   },
   "outputs": [
    {
     "name": "stdout",
     "output_type": "stream",
     "text": [
      "c 3 1\n",
      "c 1 2\n",
      "[ 3, 1, 2 ]\n"
     ]
    }
   ],
   "source": [
    "a = [3,1,2]; function b(v1,v2){console.log('c',v1,v2); return 0}; \n",
    "a.sort(b); console.log(a);"
   ]
  },
  {
   "cell_type": "markdown",
   "metadata": {},
   "source": [
    "위의 예 처럼 함수의 한 인자로 주어진 함수를 callback 함수라 하며, 다음과 같이, callback 함수를 인수에 직접 선언하기도 한다. "
   ]
  },
  {
   "cell_type": "code",
   "execution_count": 3,
   "metadata": {
    "collapsed": false
   },
   "outputs": [
    {
     "name": "stdout",
     "output_type": "stream",
     "text": [
      "[ 3, 2, 1 ]\n"
     ]
    }
   ],
   "source": [
    "a = [3,1,2]; a.sort(function(v1,v2){return v2-v1}); console.log(a);"
   ]
  },
  {
   "cell_type": "markdown",
   "metadata": {},
   "source": [
    "따라서, 일반적으로 callback 함수를 갖는 함수의 정의는 다음과 같이 하게 된다."
   ]
  },
  {
   "cell_type": "code",
   "execution_count": 8,
   "metadata": {
    "collapsed": false
   },
   "outputs": [
    {
     "name": "stdout",
     "output_type": "stream",
     "text": [
      "Hello Callback\n"
     ]
    }
   ],
   "source": [
    "function my_test(callback) { callback();};\n",
    "\n",
    "my_test(function(){ console.log('Hello Callback')} );"
   ]
  },
  {
   "cell_type": "markdown",
   "metadata": {},
   "source": [
    "### Sync vs. Async (동기 vs 비동기)\n",
    "\n",
    "- 실생활에서의 비유: 상황- 세가지 일( 빨래, 설거지, 청소) 각각 한시간씩 걸린다고 가정.\n",
    "- **동기적**으로 일을 처리하기 : 빨래를 하고 ==> 그 다음에 설거지를 하고 ==> 그 다음에 청소를 한다. ~~ 총 3시간이 소요된다.\n",
    "- **비동기적**으로 일을 처리하기 – 빨래와  설거지, 그리고 청소를 해주는 업체가 있다. 빨래업체에 전화를 걸어 빨래를 요청한다 (e.g. 전화하는데 1분 소요) , 설거지업체에 전화를 걸어설거지를 요청한다 (e.g. 전화하는데 1분 소요) , 그리고, 청소업체에 전화를 걸어 청소를 요청한다 (e.g. 전화하는데 1분 소요) . 따라서 전화를 하는데 총 3분이 걸렸다. 무엇이 먼저 될지는 모른다 (단점일 수 있다), 하지만 순서가 중요하지 않다면 이렿게 처리할 수 있다. 이렇게 하면 자원을 효율적으로 활용할 수 있다는 장점이 있다."
   ]
  },
  {
   "cell_type": "code",
   "execution_count": 18,
   "metadata": {
    "collapsed": false
   },
   "outputs": [
    {
     "name": "stdout",
     "output_type": "stream",
     "text": [
      "1\n",
      "Hello! ... Greetings from data.txt file ...\n",
      "1\n",
      "3\n",
      "2\n",
      "Hello! ... Greetings from data.txt file ...\n"
     ]
    }
   ],
   "source": [
    "// fs.readFile() <== asynchronous\n",
    "// fs.readFileSync() <== synchronous\n",
    "var fs = require('fs');\n",
    "\n",
    "// Sync - check with nodejs namual for readFileSync\n",
    "console.log('1');\n",
    "var data = fs.readFileSync('data.txt',{encoding:'utf8'});\n",
    "console.log(data);\n",
    "// Async - check with nodejs manual for readFile\n",
    "console.log('1');\n",
    "fs.readFile('data.txt',{encoding:'utf8'}, function(err,data) {\n",
    "    console.log('2');\n",
    "    console.log(data);\n",
    "});\n",
    "console.log('3');"
   ]
  },
  {
   "cell_type": "markdown",
   "metadata": {},
   "source": [
    "### HTTP Module\n",
    "\n",
    "- Node.js가 HTTP(Hyper Text Transfer Protocol)를 통해 데이터를 전송할 수 있습니다.\n",
    "- HTTP 모듈은 서버 포트를 수신하고 클라이언트에 응답을 제공하는 HTTP 서버를 생성 할 수 있습니다.\n",
    "- `createServer()` 메서드를 사용하여 HTTP 서버를 만듭니다.\n",
    "```javascript\n",
    "var http = require('http');\n",
    "//create a server object:\n",
    "http.createServer(function (req, res) {\n",
    "    res.write('Hello World!');   //write a response to the client\n",
    "    res.end();                   //end the response\n",
    "}).listen(3000);                 //the server object listens on port 3000\n",
    "```\n",
    "- HTTP 서버의 응답이 HTML로 표시되어야하는 경우, 올바른 내용 유형의 HTTP 헤더를 포함해야합니다.\n",
    "```javascript\n",
    "var http = require('http');\n",
    "http.createServer(function (req, res) {\n",
    "    res.writeHead(200, {'Content-Type': 'text/html'});\n",
    "    res.write('Hello World!');\n",
    "    res.end();\n",
    "}).listen(3000);\n",
    "```\n",
    "- `res.writeHead()' 메서드의 첫 번째 인수는 상태 코드이고, `200`은 모두 정상이며, 두 번째 인수는 응답 헤더가 들어있는 객체입니다.\n",
    "- `http.createServer()`로 전달 된 함수는 클라이언트 로부터 요청을 나타내는 객체로 `req` 인수를 가집니다. 이 객체에는 `url` 이라는 속성이 있습니다. 이 속성은 도메인 이름 뒤에 나오는 URL의 일부를 포함합니다.\n",
    "```javascript\n",
    "var http = require('htt'p);\n",
    "http.createServer(function (req, res) {\n",
    "    res.writeHead(200, {'Content-Type': 'text/html'});\n",
    "    res.write(req.url);\n",
    "    res.end();\n",
    "}).listen(3000);\n",
    "```\n",
    "- 쿼리 문자열을 URL 모듈과 같이 읽을 수 있는 부분으로 쉽게 분리 할 수있는 모듈이 내장되어 있습니다.\n",
    "```javascript\n",
    "var http = require('http');\n",
    "var url = require('url');\n",
    "http.createServer(function (req, res) {\n",
    "res.writeHead(200, {'Content-Type': 'text/html'});\n",
    "    var q = url.parse(req.url, true).query;\n",
    "    var txt = q.year + \" \" + q.month;\n",
    "    res.end(txt);\n",
    "}).listen(3000);\n",
    "```\n",
    "- http://localhost:3000/?year=2017&month=July  는 다음과 같은 결과를 준다.\n",
    "`2017  July`\n",
    "- Need to include an explanation of how to include self-generate module into a js file\n",
    "```javascript\n",
    "> in the module \"myModule.js\"\n",
    "module.exports = myModule;\n",
    "> in the \"file\"\n",
    "var myModule = require('./myModule');\n",
    "```"
   ]
  },
  {
   "cell_type": "markdown",
   "metadata": {},
   "source": [
    "### Review the first example\n",
    "\n",
    "- one method\n",
    "```javascript\n",
    "var server = http.createServer(function(req, res) {\n",
    "    res.statusCode = 200;\n",
    "    res.setHeader('Content-Type', 'text/plain');\n",
    "    res.end('Hello World – 2');\n",
    "});\n",
    "server.listen(port,hostname, function() {\n",
    "    console.log('Server is running at http://' + hostname + ':' + port);\n",
    "})\n",
    "```\n",
    "- another method\n",
    "```javascript\n",
    "function onRequest(req,res) {\n",
    "// type 1-1\n",
    "    res.writeHead(200, {'Content-Type': 'text/plain'});\n",
    "    res.end('Hello World -3');\n",
    "// type 1-2\n",
    "    //res.writeHead(200, {'Content-Type':'text/html'});\n",
    "    //res.end('<h1>Hello World -3<h1'>);\n",
    "}\n",
    "function onResponse() {\n",
    "    console.log('Server is running at http://' + hostname + ':' + port);\n",
    "}\n",
    "http.createServer(onRequest).listen(port, hostname, onResponse)\n",
    "```"
   ]
  },
  {
   "cell_type": "markdown",
   "metadata": {
    "collapsed": true
   },
   "source": [
    "### Exercise 1\n",
    "\n",
    "- nodeJS 로 실행되는 webserver 파일을 AWS 에 만드시오.\n",
    "- http://localhost:3000/?name=Hong+Kildong&year=2018 로 브라우즈할 때 다음과 같이 보여지도록 만드시오.\n",
    "\n",
    "# Welcome to NodeJS\n",
    "## Hong Kildong: 2018\n"
   ]
  },
  {
   "cell_type": "code",
   "execution_count": null,
   "metadata": {
    "collapsed": true
   },
   "outputs": [],
   "source": []
  }
 ],
 "metadata": {
  "kernelspec": {
   "display_name": "Javascript (Node.js)",
   "language": "javascript",
   "name": "javascript"
  },
  "language_info": {
   "file_extension": ".js",
   "mimetype": "application/javascript",
   "name": "javascript",
   "version": "6.11.2"
  }
 },
 "nbformat": 4,
 "nbformat_minor": 2
}
