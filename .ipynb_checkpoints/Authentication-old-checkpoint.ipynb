{
 "cells": [
  {
   "cell_type": "markdown",
   "metadata": {},
   "source": [
    "# Authentication\n",
    "\n",
    "- Node.js / Express - REST(REpresentational State Transfer) : 웹에 존재하는 모든 자원(이미지, 동영상, DB 자원)에 고유한 URI를 부여해 활용)\n",
    "- Token Generation and Authencication\n",
    "- CORS\n",
    "- Mongoose ODM\n",
    "- Angular \n",
    "  - Angular-CLI\n",
    "  - Angular Router, HTTP Module\n",
    "  - Angular2-JWT\n",
    "  - Auth Guard \n",
    "  - Angular Flash Message Module\n",
    "- Compile & Deploy\n",
    "\n",
    "## Setup\n",
    "- install NodeJS from https://nodejs.org\n",
    "- Install MongoDB from https://mongodb.com\n",
    "- Install and start multi-window CMD tool such as cmder from http://cmder.net\n",
    "- Install express-generator using npm as : \"npm install express-generator -g\"\n",
    "- Buils a basic web site structure as : \n",
    "  - express --view=pug meanauthapp\n",
    "  - cd meanauthapp\n",
    "  - npm install\n",
    "- Start web server\n",
    "  - nodemon ./bin/www\n",
    "- Brouse the web as \"http://localhost:3000\"\n",
    "- Edit meanauthapp/package.json and add the following pcakages in the dependencies & rerun \"npm install\"\n",
    "  -  \"bcryptjs\": \"*\",\n",
    "  -  \"body-parser\": \"*\",\n",
    "  -  \"cors\": \"*\",\n",
    "  -  \"jsonwebtoken\": \"*\",\n",
    "  -  \"mongoose\": \"*\",\n",
    "  -  \"passport\": \"*\",\n",
    "  -  \"passport-jwt\": \"*\"\n",
    "- Edit menauthapp/app.js and add the following lines"
   ]
  },
  {
   "cell_type": "code",
   "execution_count": null,
   "metadata": {
    "collapsed": true
   },
   "outputs": [],
   "source": [
    "const bodyParser = require('body-parser');\n",
    "const cors = require('cors');\n",
    "const passport = require('passport');\n",
    "const mongoose = require('mongoose');\n",
    "const config = require('./config/database');\n",
    "\n",
    "mongoose.Promise = require('bluebird');\n",
    "mongoose.connect(config.database, { useNewUrlParser: true });\n",
    "mongoose.connection.on('connected', () => {\n",
    "  console.log('Connected to database ' + config.database);\n",
    "});\n",
    "mongoose.connection.on('error', (err) => {\n",
    "  console.log('Database error ' + err);\n",
    "});\n",
    "\n",
    "//.....\n",
    "\n",
    "// CORS Middleware\n",
    "app.use(cors());\n",
    "// Body Parser Middleware\n",
    "app.use(bodyParser.json());\n",
    "// Passport Middleware\n",
    "app.use(passport.initialize());\n",
    "app.use(passport.session());\n",
    "\n",
    "require('./config/passport')(passport);"
   ]
  },
  {
   "cell_type": "markdown",
   "metadata": {},
   "source": [
    "- Create meanauthapp/config/database.js and add the following lines"
   ]
  },
  {
   "cell_type": "code",
   "execution_count": null,
   "metadata": {
    "collapsed": true
   },
   "outputs": [],
   "source": [
    "module.exports = {\n",
    "    database: 'mongodb://localhost:27017/meanauth',\n",
    "    secret: 'yoursecret'\n",
    "    }"
   ]
  },
  {
   "cell_type": "markdown",
   "metadata": {},
   "source": [
    "- Create meanauthapp/config/passport.js and add the following lines"
   ]
  },
  {
   "cell_type": "code",
   "execution_count": null,
   "metadata": {
    "collapsed": true
   },
   "outputs": [],
   "source": [
    "const JwtStrategy = require('passport-jwt').Strategy;\n",
    "const ExtractJwt = require('passport-jwt').ExtractJwt;\n",
    "const User = require('../models/user');\n",
    "const config = require('../config/database');\n",
    "\n",
    "module.exports = function(passport) {\n",
    "  let opts = {};\n",
    "  opts.jwtFromRequest = ExtractJwt.fromAuthHeaderWithScheme('jwt');\n",
    "  opts.secretOrKey = config.secret;\n",
    "  passport.use(new JwtStrategy(opts, (jwt_payload, done) => {\n",
    "    User.getUserById(jwt_payload.data._id, (err, user) => {\n",
    "      if(err) {\n",
    "        return done(err, false);\n",
    "      }\n",
    "\n",
    "      if(user) {\n",
    "        return done(null, user);\n",
    "      } else {\n",
    "        return done(null, false);\n",
    "      }\n",
    "    });\n",
    "  }));\n",
    "}"
   ]
  },
  {
   "cell_type": "markdown",
   "metadata": {},
   "source": [
    "- Edit menauthapp/routes/users.js and add the following lines"
   ]
  },
  {
   "cell_type": "code",
   "execution_count": null,
   "metadata": {
    "collapsed": true
   },
   "outputs": [],
   "source": [
    "const passport = require('passport');\n",
    "const jwt = require('jsonwebtoken');\n",
    "const config = require('../config/database');\n",
    "const User = require('../models/user');\n",
    "\n",
    "router.post('/register', function(req, res, next) {\n",
    "  const newUser = new User({\n",
    "    name: req.body.name,\n",
    "    email: req.body.email,\n",
    "    username: req.body.username,\n",
    "    password: req.body.password\n",
    "  });\n",
    "\n",
    "  User.addUser(newUser, (err, user) => {\n",
    "    if(err){\n",
    "      res.json({success: false, msg:'Failed to register user', err: err})\n",
    "    } else {\n",
    "      res.json({success: true, msg:'User registered'})\n",
    "    }\n",
    "  });\n",
    "});\n",
    "\n",
    "router.post('/authenticate', function(req, res, next) {\n",
    "  const username = req.body.username;\n",
    "  const password = req.body.password;\n",
    "  \n",
    "  User.getUserByUsername(username, (err, user) => {\n",
    "    // if(err) throw err;\n",
    "    if(!user) {\n",
    "      return res.json({success:false, msg:'User not found'});\n",
    "    }\n",
    "    User.comparePassword(password, user.password, (err, isMatch) => {\n",
    "      // if(err) throw err;\n",
    "      if(isMatch) {\n",
    "        const token = jwt.sign({data: user}, config.secret, {\n",
    "          expiresIn: 604800  // 1 week in seconds\n",
    "        });\n",
    "\n",
    "        res.json({\n",
    "          success: true,\n",
    "          token: 'JWT '+token,\n",
    "          user: {\n",
    "            id: user._id,\n",
    "            name: user.name,\n",
    "            username: user.username,\n",
    "            email: user.email\n",
    "          }\n",
    "        });\n",
    "      } else {\n",
    "        return res.json({success: false, msg:'Wrong password'});\n",
    "      }\n",
    "    })\n",
    "  })\n",
    "});\n",
    "\n",
    "router.get('/profile', passport.authenticate('jwt', {session:false}), (req, res, next) => {\n",
    "  res.json({user: req.user});\n",
    "});\n",
    "\n"
   ]
  },
  {
   "cell_type": "markdown",
   "metadata": {},
   "source": [
    "- Create meanauthapp/models/users.js and add the following lines"
   ]
  },
  {
   "cell_type": "code",
   "execution_count": null,
   "metadata": {
    "collapsed": true
   },
   "outputs": [],
   "source": [
    "const mongoose = require('mongoose');\n",
    "const bcrypt = require('bcryptjs');\n",
    "const config = require('../config/database');\n",
    "\n",
    "// User Schema\n",
    "const UserSchema = mongoose.Schema({\n",
    "  name: {\n",
    "    type: String\n",
    "  },\n",
    "  email: {\n",
    "    type: String,\n",
    "    required: true\n",
    "  },\n",
    "  username: {\n",
    "    type: String,\n",
    "    required: true\n",
    "  },\n",
    "  password: {\n",
    "    type: String,\n",
    "    required: true\n",
    "  }\n",
    "});\n",
    "\n",
    "const User = module.exports = mongoose.model('User', UserSchema);\n",
    "\n",
    "module.exports.getUserById = function(id, callback){\n",
    "  User.findById(id, callback);\n",
    "}\n",
    "\n",
    "module.exports.getUserByUsername = function(username, callback){\n",
    "  const query = {username: username}\n",
    "  User.findOne(query, callback);\n",
    "}\n",
    "\n",
    "module.exports.addUser = function(newUser, callback){\n",
    "  bcrypt.genSalt(10, (err, salt) => {\n",
    "    bcrypt.hash(newUser.password, salt, (err, hash) => {\n",
    "      //if(err) throw err;\n",
    "      newUser.password = hash;\n",
    "      newUser.save(callback);\n",
    "    });\n",
    "  });\n",
    "}\n",
    "\n",
    "module.exports.comparePassword = function(candidatePassword, hash, callback){\n",
    "  bcrypt.compare(candidatePassword, hash, (err, isMatch) => {\n",
    "    //if(err) throw err;\n",
    "    callback(null, isMatch);\n",
    "  });\n",
    "}"
   ]
  },
  {
   "cell_type": "markdown",
   "metadata": {},
   "source": [
    "- Install postname (from https://www.getpostman.com/ ) and experiment as\n",
    "  - request => POST\n",
    "  - http://localhost/3000/users/register\n",
    "  - headers => Content-Type = application/json\n",
    "  - body => check raw\n",
    "    - {\n",
    "        \"name\":\"John Doe\",\n",
    "        \"email\":\"John@gmail.com\",\n",
    "        \"username\":\"john\",\n",
    "        \"password\":\"12345\"\n",
    "        }\n",
    "  - click SEND\n",
    "  - check the result fomr Postman and Robo 3T, respectively."
   ]
  },
  {
   "cell_type": "code",
   "execution_count": null,
   "metadata": {
    "collapsed": true
   },
   "outputs": [],
   "source": []
  },
  {
   "cell_type": "markdown",
   "metadata": {},
   "source": [
    "- remove all files in meanauthapp/public\n",
    "- Install npm-cli as : \"npm install -g angular-cli\"\n",
    "- execute the following commend in the folder meanauthapp : \"ng new angular-src\"\n",
    "- edit engular.json file as : \"outputPath\": \"../public\"  \n",
    "- Start abgular server as \"ng serve\"\n",
    "- Brouse app as \"localhost:4200\""
   ]
  },
  {
   "cell_type": "markdown",
   "metadata": {},
   "source": [
    "### Components\n",
    "\n",
    "- create navbar component in the folder meanauthapp/angular-src/app/components as \"ng g c components/navbar\"\n",
    "- Edit app.component.html as "
   ]
  },
  {
   "cell_type": "code",
   "execution_count": null,
   "metadata": {
    "collapsed": true
   },
   "outputs": [],
   "source": [
    "<app-navbar></app-navbar>"
   ]
  },
  {
   "cell_type": "markdown",
   "metadata": {},
   "source": [
    "- create login component in the folder meanauthapp/angular-src/app/components as \"ng g c components/login\"\n",
    "- create home component in the folder meanauthapp/angular-src/app/components as \"ng g c components/home\"\n",
    "- create dashboard component in the folder meanauthapp/angular-src/app/components as \"ng g c components/dashboard\"\n",
    "- create profile component in the folder meanauthapp/angular-src/app/components as \"ng g c components/profile\""
   ]
  },
  {
   "cell_type": "markdown",
   "metadata": {},
   "source": [
    "### Apply \"twitter bootstrap\"\n",
    "  - Edit index.html and include the following :"
   ]
  },
  {
   "cell_type": "code",
   "execution_count": null,
   "metadata": {
    "collapsed": true
   },
   "outputs": [],
   "source": [
    "  <link rel=\"stylesheet\" href=\"https://stackpath.bootstrapcdn.com/bootstrap/4.1.3/css/bootstrap.min.css\">\n",
    "  <script src=\"https://code.jquery.com/jquery-3.3.1.slim.min.js\"></script>\n",
    "  <script src=\"https://cdnjs.cloudflare.com/ajax/libs/popper.js/1.14.3/umd/popper.min.js\"></script>\n",
    "  <script src=\"https://stackpath.bootstrapcdn.com/bootstrap/4.1.3/js/bootstrap.min.js\"></script>"
   ]
  },
  {
   "cell_type": "markdown",
   "metadata": {},
   "source": [
    "### Router\n",
    "- Edit app.module.ts and insert lines as follows:"
   ]
  },
  {
   "cell_type": "code",
   "execution_count": null,
   "metadata": {
    "collapsed": true
   },
   "outputs": [],
   "source": [
    "import { RouterModule, Routes } from '@angular/router';\n",
    "//....\n",
    "const appRoutes: Routes = [\n",
    "  {path:'', component: HomeComponent},\n",
    "  {path:'register', component: RegisterComponent},\n",
    "  {path:'login', component: LoginComponent},\n",
    "  {path:'dashboard', component: DashboardComponent, canActivate:[AuthGuard]},\n",
    "  {path:'profile', component: ProfileComponent, canActivate:[AuthGuard]}\n",
    "]\n",
    "\n",
    "//....\n",
    "imports: [\n",
    "    BrowserModule,\n",
    "    FormsModule,\n",
    "    HttpModule,\n",
    "    RouterModule.forRoot(appRoutes),\n",
    "  ],"
   ]
  },
  {
   "cell_type": "markdown",
   "metadata": {},
   "source": [
    "- Edit app.component.html as follows and test to brouse \"localhost:4200/login\" etc."
   ]
  },
  {
   "cell_type": "code",
   "execution_count": null,
   "metadata": {
    "collapsed": true
   },
   "outputs": [],
   "source": [
    "<app-navbar></app-navbar>\n",
    "<div class=\"container\">\n",
    "  <router-outlet></router-outlet>\n",
    "</div>\n"
   ]
  },
  {
   "cell_type": "markdown",
   "metadata": {},
   "source": [
    "- Edit navbar.component.html as follows: (refer getbootstrap.com)"
   ]
  },
  {
   "cell_type": "code",
   "execution_count": null,
   "metadata": {
    "collapsed": true
   },
   "outputs": [],
   "source": [
    "<nav class=\"navbar navbar-expand-md navbar-dark bg-dark\">\n",
    "    <a class=\"navbar-brand\" href=\"#\">MEAN Auth App</a>\n",
    "    <button class=\"navbar-toggler\" type=\"button\" data-toggle=\"collapse\" data-target=\"#navbarsExample04\" aria-controls=\"navbarsExample04\" aria-expanded=\"false\" aria-label=\"Toggle navigation\">\n",
    "      <span class=\"navbar-toggler-icon\"></span>\n",
    "    </button>\n",
    "\n",
    "    <div class=\"collapse navbar-collapse\" id=\"navbarsExample04\">\n",
    "      <ul class=\"navbar-nav mr-auto\">\n",
    "        <li class=\"nav-item active\" [routerLinkActive]=\"['active']\" [routerLinkActiveOptions]=\"{exact:true}\" >\n",
    "          <a class=\"nav-link\" [routerLink]=\"['/']\" >Home</a>\n",
    "        </li>\n",
    "      </ul>\n",
    "      <ul class=\"navbar-nav navbar-right\">\n",
    "          <li *ngIf=\"true\" class=\"nav-item\" [routerLinkActive]=\"['active']\" >\n",
    "              <a class=\"nav-link\" [routerLink]=\"['/dashboard']\">Dashboard</a>\n",
    "            </li>\n",
    "            <li *ngIf=\"true\" class=\"nav-item\" [routerLinkActive]=\"['active']\" >\n",
    "                <a class=\"nav-link\" [routerLink]=\"['/profile']\">Profile</a>\n",
    "              </li>\n",
    "            <li *ngIf=\"true\" class=\"nav-item\" [routerLinkActive]=\"['active']\">\n",
    "              <a class=\"nav-link\"  [routerLink]=\"['/register']\">Register</a>\n",
    "            </li>\n",
    "            <li *ngIf=\"true\" class=\"nav-item\" [routerLinkActive]=\"['active']\" >\n",
    "              <a class=\"nav-link\" [routerLink]=\"['/login']\">Login</a>\n",
    "            </li>\n",
    "            <li class=\"nav-item\">\n",
    "              <a class=\"nav-link\"  (click)=\"onLogoutClick()\" href=\"#\">Logout</a>\n",
    "            </li>\n",
    "      </ul>\n",
    "    </div>\n",
    "  </nav>"
   ]
  },
  {
   "cell_type": "markdown",
   "metadata": {},
   "source": [
    "- Edit home.component.html as follows: "
   ]
  },
  {
   "cell_type": "code",
   "execution_count": null,
   "metadata": {
    "collapsed": true
   },
   "outputs": [],
   "source": [
    "<div class=\"jumbotron text-center\">\n",
    "  <h1>MEAN Authentication App</h1>\n",
    "  <p class=\"lead\">Welcome to our custom MEAN authentication application built from scratch.</p>\n",
    "  <div>\n",
    "    <a class=\"btn btn-primary\" [routerLink]=\"['/register']\">Register</a> \n",
    "    <a class=\"btn btn-secondary\" [routerLink]=\"['/login']\">Login</a>\n",
    "  </div>\n",
    "</div>\n",
    "\n",
    "<div class=\"row\">\n",
    "  <div class=\"col-md-4\">\n",
    "    <h3>Extress Backend</h3>\n",
    "    <p> A rock solid Node.js/Express server using Mongoose to organize models and query ...</p>\n",
    "  </div>\n",
    "  <div class=\"col-md-4\">\n",
    "    <h3>Angular-CLI</h3>\n",
    "    <p> A rock solid Node.js/Express server using Mongoose to organize models and query ...</p>\n",
    "  </div>\n",
    "  <div class=\"col-md-4\">\n",
    "    <h3>JWT Tokens</h3>\n",
    "    <p> A rock solid Node.js/Express server using Mongoose to organize models and query ...</p>\n",
    "  </div>\n",
    "</div>"
   ]
  },
  {
   "cell_type": "markdown",
   "metadata": {},
   "source": [
    "- Edit register.component.ts as follows: "
   ]
  },
  {
   "cell_type": "code",
   "execution_count": null,
   "metadata": {
    "collapsed": true
   },
   "outputs": [],
   "source": [
    "import { Component, OnInit } from '@angular/core';\n",
    "import { ValidateService } from '../../services/validate.service';\n",
    "import { AuthService } from '../../services/auth.service';\n",
    "import { NgFlashMessageService } from 'ng-flash-messages';\n",
    "import { Router } from '@angular/router';\n",
    "\n",
    "@Component({\n",
    "  selector: 'app-register',\n",
    "  templateUrl: './register.component.html',\n",
    "  styleUrls: ['./register.component.css']\n",
    "})\n",
    "export class RegisterComponent implements OnInit {\n",
    "  name: String;\n",
    "  username: String;\n",
    "  email: String;\n",
    "  password: String;\n",
    "\n",
    "  constructor(\n",
    "    private validateService: ValidateService, \n",
    "    private flashMessage: NgFlashMessageService, \n",
    "    private authService: AuthService,\n",
    "    private router: Router\n",
    "    ) { }\n",
    "\n",
    "  ngOnInit() {\n",
    "  }\n",
    "\n",
    "  onRegisterSubmit() {\n",
    "    const user = {\n",
    "      name: this.name,\n",
    "      username: this.username,\n",
    "      email: this.email,\n",
    "      password: this.password\n",
    "    }\n",
    "\n",
    "  // Required Fields\n",
    "    if(!this.validateService.validateRegister(user)) {\n",
    "      this.flashMessage.showFlashMessage({messages: ['Please fill in all fields'], type: 'danger', timeout:2000});\n",
    "      return false;\n",
    "    }\n",
    "\n",
    "    // Validate Email\n",
    "    if(!this.validateService.validateEmail(user.email)) {\n",
    "      this.flashMessage.showFlashMessage({messages: ['Please use a valid email'], type: 'danger', timeout:2000});\n",
    "      return false;\n",
    "    }\n",
    "\n",
    "    // Register User\n",
    "    this.authService.registerUser(user).subscribe(data => {\n",
    "      if(data.success) {\n",
    "        this.flashMessage.showFlashMessage({messages: ['You are now registered and can login '], type: 'success', timeout:2000});\n",
    "        this.router.navigate(['/']);\n",
    "      } else {\n",
    "        this.flashMessage.showFlashMessage({messages: ['Something went wrong'], type: 'danger', timeout:3000});\n",
    "      }\n",
    "    })\n",
    "  }\n",
    "\n",
    "}"
   ]
  },
  {
   "cell_type": "markdown",
   "metadata": {},
   "source": [
    "- Edit register.component.html as follows: "
   ]
  },
  {
   "cell_type": "code",
   "execution_count": null,
   "metadata": {
    "collapsed": true
   },
   "outputs": [],
   "source": [
    "<h2 class=\"page-header\"> Register</h2>\n",
    "<form (submit)=\"onRegisterSubmit()\">\n",
    "  <div class=\"form-group\">\n",
    "    <label>Name</label>\n",
    "    <input type=\"text\" [(ngModel)]=\"name\" name=\"name\" class=\"form-control\">\n",
    "  </div>\n",
    "  <div class=\"form-group\">\n",
    "    <label>Username</label>\n",
    "    <input type=\"text\" [(ngModel)]=\"username\" name=\"username\"  class=\"form-control\">\n",
    "  </div>\n",
    "  <div class=\"form-group\">\n",
    "    <label>Email</label>\n",
    "    <input type=\"text\" [(ngModel)]=\"email\" name=\"email\" class=\"form-control\">\n",
    "  </div>\n",
    "  <div class=\"form-group\">\n",
    "    <label>Password</label>\n",
    "    <input type=\"password\" [(ngModel)]=\"password\" name=\"password\" class=\"form-control\">\n",
    "  </div>\n",
    "    <input type=\"submit\" class=\"btn btn=primary\" value=\"Submit\">\n",
    "</form>"
   ]
  },
  {
   "cell_type": "markdown",
   "metadata": {},
   "source": [
    "### Services\n",
    "- create validate service in the folder meanauthapp/angular-src/app/services as \"ng g s services/validate\"\n",
    "- Edit app.module.ts and insert lines as follows:"
   ]
  },
  {
   "cell_type": "code",
   "execution_count": null,
   "metadata": {
    "collapsed": true
   },
   "outputs": [],
   "source": [
    "import { ValidateService } from './services/validate.service';\n",
    "...\n",
    "  providers: [ValidateService],\n"
   ]
  }
 ],
 "metadata": {
  "kernelspec": {
   "display_name": "Javascript (Node.js)",
   "language": "javascript",
   "name": "javascript"
  }
 },
 "nbformat": 4,
 "nbformat_minor": 2
}
