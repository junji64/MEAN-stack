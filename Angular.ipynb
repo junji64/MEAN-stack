{
 "cells": [
  {
   "cell_type": "markdown",
   "metadata": {},
   "source": [
    "## Angular\n",
    "\n",
    "- Angular는 HTML 및 TypeScript(JavaScript의 superset)로 클라이언트 응용 프로그램을 작성하기위한 플랫폼 및 프레임 워크입니다. \n",
    "- Angular는 TypeScript로 작성되며, app 에 import 되는 TypeScript 라이브러리들의 집합으로 핵심적인 그리고 추가적인 기능들이 구현된다.\n",
    "- Single Page Application (SPA)에 적절함 \n",
    "- Version : 초기버전인 AngularJS 는 2010년 발표됨, 2016년 주요 핵심부분이 재작성된  Angular 2가 정식 출시되면서 더 이상 AngularJS로 부르지 않고 Angular로 호명하기로 하였습니다. 현재(2018년10월)기준으로 Angular 7까지 나온 상태임.\n",
    "\n",
    "\n",
    "### Step 1 : 개발환경 설정\n",
    "\n",
    "- [Node.js 설치](https://nodejs.org/en/) - 함께 npm 도 설치됨\n",
    "- Angular CLI 설치 : 프로젝트와 콤포넌트 생성에 이용됨\n",
    "  - **`> npm install -g @angular/cli  `**\n",
    "  - ** `> ng --version `**\n",
    "\n",
    "- 추천 개발도구 : visual studio code - https://code.visualstudio.com/ ( 추천 view -> extentions : Angular 6  Snippets - *** )\n",
    "\n",
    "### Step 2 : 프로젝트 생성\n",
    "\n",
    "- **ng new my-app**\n",
    "- my-app 폴더 아래에는 다음과 같은 파일들이 생성된다.\n",
    "<img src=\"./files.png\" width=\"250\" height=\"450\">\n",
    "\n",
    "### Step 3 : application 시작\n",
    "\n",
    "- **cd my-app** : project 폴더로 이동\n",
    "- **ng serve --open** ( --open (or just -o) 옵션은 자동으로 http://localhost:4200/ 로 브라우징한다.) - server 가 시작되고, 파일들을 관찰하며, 변화가 있으면 자동으로 다시 시작한다.\n",
    "- 브라우징된 파일 : src/index.html <== { src/app/app.modeul.ts + src/app/app.component.{ts + html+ css} }\n",
    "- src/index.html 을 살펴보고, `<app-root></app-root>` 앞과 뒤에 태그를 삽입하여 수정 해본다.\n",
    "\n",
    "<img src=\"index.png\" height=\"350\">"
   ]
  },
  {
   "cell_type": "markdown",
   "metadata": {},
   "source": [
    "## Web application 의 구성\n",
    "\n",
    "- **__.html** : 눈에 보이는 부분을 담당\n",
    "- **__.ts** : 눈에 보여지는 기능을 담당\n",
    "- 연결구조 : index.html <= main.ts <= app/app.module.ts <= app/app.component.ts"
   ]
  },
  {
   "cell_type": "markdown",
   "metadata": {},
   "source": [
    "- **`<app-root></app-root>`** 라는 태그 대신에 특정 내용이 화면에 보이게된다. 즉, **`<app-root></app-root>`**가 하나의 View라는 의미입니다. 당연히 그에 대응되는 Component가 존재한다.\n",
    "- src/app 폴더에 보면 **app.component.ts** 파일이 있습니다. Component를 정의한 파일이고 TypeScript로 작성되어 있기 때문에 확장자는** .ts**를 이용한다. 파일을 열어보면 다음과 같은 내용이 들어있습니다."
   ]
  },
  {
   "cell_type": "markdown",
   "metadata": {},
   "source": [
    "## Component"
   ]
  },
  {
   "cell_type": "markdown",
   "metadata": {},
   "source": [
    "<img src=\"appComponent.png\" height=\"250\">\n",
    "- 코드에서 맨 마지막에 나타냈듯이 Component는 class입니다.\n",
    "- 이 class가 Component로 사용된다는 것을 Angular에게 알려주어야 Angular가 Component로 동작을 시킬수 있으며, 그래서 특정 표현을 이용해 해당 class가 Component임을 Angular에게 알려주어야 합니다.\n",
    "\n",
    "- **@Component**라고 표현되는 부분이 바로 Component decorator입니다. class상단에 Component decorator를 이용해 Angular가 해당 class를 Component로 인지할 수 있도록 합니다.\n",
    "\n",
    "- **@Component**를 이용하려면 당연히 Component decorator를 사용할 수 있는 상태여야 하고 이 Component decorator는 @angular/core라고 표현되는 Angluar Core Module Package에서 제공함으로 **import** 해야한다.\n",
    "\n",
    "- Component decorator 안에 표현될 수 있는 Metadata는 상당히 종류가 많지만 필수요소는 없습니다. 하지만 **selector**와 **template** 정보는 존재하지 않으면 화면에 rendering이 되지 않기 때문에 필수요소라 볼 수 있습니다.\n",
    "\n",
    "  - **selector** : template 코드안에서 해당 Component를 사용하고자 할 때 이용할 HTML Element명을 정의합니다. 위와 같은 경우 해당 Component는 <app-root></app-root> HTML Element로 사용될 수 있습니다.\n",
    "  \n",
    "  - **template / templateUrl **: template은 View를 rendering할 때 필요한 HTML을 inline형태로 직접 기술할 때 사용됩니다. templateUrl은 template code를 따로 HTML 파일로 분리해서 작성할 때 사용합니다.\n",
    "  \n",
    "  - **styles / styleUrls** : template 정보에 명시된 HTML에 대한 style을 정의한 CSS가 inline형태 혹은 파일 형태로 포함될 수 있습니다. 여러 CSS 정의와 파일을 이용할 수 있기 때문에 배열형태로 표현합니다.\n",
    "  \n",
    "  \n",
    "\n",
    "- ** src/app/app.component.ts **을 다음과 같이 수정하여 결과를 확인해 보시오."
   ]
  },
  {
   "cell_type": "code",
   "execution_count": null,
   "metadata": {
    "collapsed": true
   },
   "outputs": [],
   "source": [
    "export class AppComponent {\n",
    "  title = 'My First Angular App!';\n",
    "}"
   ]
  },
  {
   "cell_type": "markdown",
   "metadata": {},
   "source": [
    "- ** src/app/app.component.css **을 다음과 같이 수정하여 결과를 확인해 보시오."
   ]
  },
  {
   "cell_type": "code",
   "execution_count": null,
   "metadata": {
    "collapsed": true
   },
   "outputs": [],
   "source": [
    "h1 {\n",
    "  color: #369;\n",
    "  font-family: Arial, Helvetica, sans-serif;\n",
    "  font-size: 250%;\n",
    "}"
   ]
  },
  {
   "cell_type": "markdown",
   "metadata": {},
   "source": [
    "### Module & Bootstrapping\n",
    "\n",
    "- **Bootstrapping**이란 browser에서 application이 최초로 실행될 때 진행되는 과정을 의미합니다. 우리가 작성한 Component는 application이 bootstrapping될 때 Angular에 의해서 제어되게 됩니다.\n",
    "\n",
    "- Angular에는 Module 개념이 있습니다. Module은 Application을 구성하는 단위로 관련된 요소를 하나로 묶어 놓은 것으로 생각하면 된다. Angular는 Module단위로 application 코드를 인식하기 때문에 모든 Angular application은 반드시 하나 이상의 Module을 가지게 되며 최상위 모듈을 우리는 Root Module이라고 부릅니다.\n",
    "\n",
    "- 이러한 Module안에 Component와 같은 것들을 선언해 놓아야 비로소 사용할 수 있게 됩니다.\n",
    "\n",
    "- Root Module은 관례상 AppModule이라 명하고 class로 표현하게 됩니다. src/app 폴더안에 다음과 같은  **app.module.ts** 파일이 존재하는데, 이 파일안에 Root Module이 정의되어 있습니다.\n",
    "\n",
    "<img src=\"./appModule.png\" height=\"400\">\n",
    "\n"
   ]
  },
  {
   "cell_type": "markdown",
   "metadata": {},
   "source": [
    "## Build\n",
    "\n",
    "배포를 하고싶다면 빌드를 해줘야한다. \n",
    "- 빌드 방법은 **ng build** 라는 명령으로 하며, 빌드를 하고 나면 dist라는 폴더가 생긴다.\n",
    "이 폴더 안에는 html 파일과 여러 javaScript 파일이 생성되며, 이는 server 없이도 실행이 가능하게 되고, 서버의 /public 폴더에 복사해서 사용할 수 있다.\n",
    "- 또는, express-generator 에 의해 생성된 프로젝트 폴더 구조 안에 angular 프로젝트 폴더를 만들어 작업 후, angular.json 파일의 outputPath 를 ../public 으로 교체하고, **ng build** 를 실행한다.  \n"
   ]
  },
  {
   "cell_type": "markdown",
   "metadata": {},
   "source": [
    "## Angular Component\n",
    "\n",
    "- 전체 웹 어플리케이션 화면이 하나의 View가 될 수도 있고 어플리케이션 화면의 기능이나 목적에 따라 세부 View들로 분할 되어 웹 어플리케이션의 화면을 구성할 수 도 있습니다. 예를 들면 다음과 같이 View를 분할해서 화면을 구성할 수 있습니다.\n",
    "\n",
    "<img src=\"https://moon9342.github.io/assets/built/images/view-layout.png\" width=\"400\" height=\"500\">\n",
    "\n",
    "- 위의 그림에서 A는 로고영역, B는 사진에 대한 설명영역, C는 주 사진보기 영역, D는 컬렉션에 있는 다른 사진의 미리보기 영역입니다. \n",
    "- 이렇듯 우리는 화면을 여러 View들로 분할해서 구성할 수 있다. 분할된 View들은 결국 Angular에서 **Component**의 단위가 됩니다.\n",
    "- Component는 View를 rendering하는 주체가 되기 때문에 어떤 정보로 View를 rendering할 것인가에 대한 정보를 가지고 있어야 합니다. 이 정보를 우리는 **Template** 이라고 합니다.\n"
   ]
  },
  {
   "cell_type": "markdown",
   "metadata": {},
   "source": [
    "## Template\n",
    "- Template은 View를 rendering하기 위해 필요한 HTML Element와 Angular의 문법요소, 그리고 클라이언트 이벤트 처리 코드를 담고 있습니다.\n",
    "- Application 실행 시 Angular는 Component와 Template의 정보를 이용하여 View를 그리게 됩니다.\n",
    "<img src=\"https://moon9342.github.io/assets/built/images/angular-template.png\" width=\"500\" height=\"400\">"
   ]
  },
  {
   "cell_type": "markdown",
   "metadata": {},
   "source": [
    "## A Sample example\n",
    "\n",
    "- myapp/package.json 살펴보기\n",
    "- src 폴더 살펴보기\n",
    "- src/app/app.module.ts : 모든 module, component, services 들이 모이는 장소  \n",
    "  - declarations <= components\n",
    "  - imports <= Module ( BrowserModule, FormsModule, ...)\n",
    "  - providers <= services \n",
    "  - bootstrap (browser에서 application이 최초로 실행될 때 진행되는 과정) : 메인 app-component\n",
    "  \n",
    "- clear up src/app/app.component.html\n",
    "- on a terminal \"ng g c components/user\" 를 실행하여 component 생성\n",
    "  - UserComponent 가 src/app/commonents/user 에 생성되고, src/app/app.module.ts 에 자동으로 import 된다.\n",
    "  \n",
    "  <img src=\"./addComponent.png\" height=\"400\"> \n",
    "  \n"
   ]
  },
  {
   "cell_type": "markdown",
   "metadata": {},
   "source": [
    "- src/app/app.component.html 에 `<app-user></app-user>` 추가하면, user.component.html 의 내용이 브라우저에 나타남.\n",
    "- user.component.html 에  `<h1> Hello {{name}} </h1>` 라하고, user.component.ts 를 다음과 같이 변경하고, 브라우저와 console 확인."
   ]
  },
  {
   "cell_type": "code",
   "execution_count": null,
   "metadata": {
    "collapsed": true
   },
   "outputs": [],
   "source": [
    "import { Component, OnInit } from '@angular/core';\n",
    "\n",
    "@Component({\n",
    "  selector: 'app-user',\n",
    "  templateUrl: './user.component.html',\n",
    "  styleUrls: ['./user.component.css']\n",
    "})\n",
    "export class UserComponent implements OnInit {\n",
    "  name:string;\n",
    "  age:number;\n",
    "  email:string;\n",
    "  address:Address;\n",
    "  hobbies:string[];\n",
    "  hello:any;\n",
    "  isEdit:boolean = false;\n",
    "  \n",
    "  constructor(private dataService:DataService) { \n",
    "    console.log(\"constructor ran ...\");\n",
    "  }\n",
    "    \n",
    "  ngOnInit() {\n",
    "    console.log(\"ngOnInit ran ...\");\n",
    "    this.name = \"Jun JI\";\n",
    "    this.age = 54;\n",
    "    this.address = {\n",
    "      street:'50 Main st',\n",
    "      city:'Boston',\n",
    "      state:'MA'\n",
    "    }\n",
    "    this.hobbies = ['Write code', 'Watch movie', 'Listen to music'];\n",
    "    this.hello = 'hello';\n",
    "  }\n",
    "\n",
    "  onClick() {\n",
    "    this.name=\"New Name\";\n",
    "  }\n",
    "\n",
    "  addHobby(hobby){\n",
    "    this.hobbies.unshift(hobby);\n",
    "    return false;\n",
    "  }\n",
    "\n",
    "  deleteHobby(index){\n",
    "        this.hobbies.splice(index,1);\n",
    "  }\n",
    "\n",
    "  toggleEdit(){\n",
    "    this.isEdit = !this.isEdit;\n",
    "  }\n",
    "}\n",
    "\n",
    "interface Address{\n",
    "  street:string,\n",
    "  city:string,\n",
    "  state:string\n",
    "}"
   ]
  },
  {
   "cell_type": "markdown",
   "metadata": {},
   "source": [
    "- user.component.html 들 다음과 같이 수정한 후 브라우져를 통해 시험해 본다."
   ]
  },
  {
   "cell_type": "code",
   "execution_count": null,
   "metadata": {
    "collapsed": true
   },
   "outputs": [],
   "source": [
    "<h1> {{name}} </h1>\n",
    "<ul>\n",
    "  <li>Age: {{age}}</li>\n",
    "  <li>Email: {{email}}</li>\n",
    "  <li>Address: {{address.street}}, {{address.city}}, {{address.state}}</li>\n",
    "</ul>\n",
    "\n",
    "<button (click)=\"toggleEdit()\">Edit User</button>\n",
    "\n",
    "<div *ngIf=isEdit>\n",
    "  <h1> Edit User</h1>\n",
    "  <form>\n",
    "    <div>\n",
    "      <label for=\"name\">Name: </label><br>\n",
    "      <input type=\"text\" [(ngModel)]=\"name\" name=\"name\">\n",
    "    </div>\n",
    "    <div>\n",
    "      <label for=\"age\">Age: </label><br>\n",
    "      <input type=\"text\" [(ngModel)]=\"age\" name=\"age\">\n",
    "    </div>\n",
    "    <div>\n",
    "      <label for=\"email\">Email: </label><br>\n",
    "      <input type=\"text\" [(ngModel)]=\"email\" name=\"email\">\n",
    "    </div>\n",
    "    <div>\n",
    "      <label for=\"street\">street: </label><br>\n",
    "      <input type=\"text\" [(ngModel)]=\"address.street\" name=\"street\">\n",
    "    </div>\n",
    "    <div>\n",
    "      <label for=\"city\">City: </label><br>\n",
    "      <input type=\"text\" [(ngModel)]=\"address.city\" name=\"city\">\n",
    "    </div>\n",
    "    <div>\n",
    "      <label for=\"state\">State: </label><br>\n",
    "      <input type=\"text\" [(ngModel)]=\"address.state\" name=\"stateS\">\n",
    "    </div>\n",
    "  </form>\n",
    "</div>\n",
    "\n",
    "<h2>Hobbies</h2>\n",
    "<form (submit)=\"addHobby(hobby.value)\">\n",
    "    <div>\n",
    "      <label for=\"hobby\">Hobby: </label>\n",
    "      <input type=\"text\" #hobby> \n",
    "      <input type=\"submit\" value=\"Add New Hobby\">\n",
    "    </div>\n",
    "  </form>\n",
    "<ul>\n",
    "  <li *ngFor=\"let hobby of hobbies; let i=index\"> \n",
    "    {{i}}: {{hobby}} <button (click)=\"deleteHobby(index)\"> X </button>\n",
    "  </li>\n",
    "</ul>"
   ]
  },
  {
   "cell_type": "markdown",
   "metadata": {},
   "source": [
    "### Angular Data Binding\n",
    "<img src=\"https://angular.io/generated/images/guide/architecture/databinding.png\">\n",
    "#### One-way Binding  (*.ts => *.html / *.html=> *.ts)\n",
    "- **Interpolation **:  {{ attribute }}, {{ title }}, {{ expression }}\n",
    "- **Property binding **: [attribute] = 'property'  or attribute = '{{property}}'\n",
    "- **Event binding** : (Event)=\"SomeMethod()\""
   ]
  },
  {
   "cell_type": "code",
   "execution_count": null,
   "metadata": {
    "collapsed": true
   },
   "outputs": [],
   "source": [
    "<h1> This is app.component.html </h1>\n",
    "\n",
    "<p> {{greeting}} </p>        <!-- Interpolation   -->\n",
    "\n",
    "<a href=\"{{myUrl}}\">my page</a> <br>   <!-- Property binding   -->\n",
    "<a [href]=\"myUrl\">my page</a> <br>     <!-- Property binding   -->"
   ]
  },
  {
   "cell_type": "code",
   "execution_count": null,
   "metadata": {
    "collapsed": true
   },
   "outputs": [],
   "source": [
    "// app.component.ts ...\n",
    "export class AppComponent {\n",
    "  showName = function (name: string) {\n",
    "    alert(name);\n",
    "  };\n",
    "  showAge = (age: number) => alert(age);\n",
    "}\n",
    "// app.component.html ...\n",
    "<button (click)=\"showName('kukaro')\">click!</button>       <!-- Event binding   -->\n",
    "<button (dblclick)=\"showAge(26)\">double click!</button>    <!-- Event binding   -->"
   ]
  },
  {
   "cell_type": "markdown",
   "metadata": {},
   "source": [
    "#### Two-way Binding ( *.ts <=> *.html )\n",
    "- Two way binding : [(ngModel)] = 'attribute' ; {{attribute}} (requires import FormModule from @angular/form)"
   ]
  },
  {
   "cell_type": "code",
   "execution_count": null,
   "metadata": {
    "collapsed": true
   },
   "outputs": [],
   "source": [
    "// app.component.ts ...\n",
    "export class AppComponent {\n",
    "  newGreeting = 'Hello';\n",
    "}\n",
    "// app.component.html ...\n",
    "<input [(ngModel)]=\"newGreeting\"> {{newGreeting}}"
   ]
  },
  {
   "cell_type": "markdown",
   "metadata": {},
   "source": [
    "## Structural Directive\n",
    "\n",
    "### *ngFor\n",
    "- array 반복"
   ]
  },
  {
   "cell_type": "code",
   "execution_count": null,
   "metadata": {
    "collapsed": true
   },
   "outputs": [],
   "source": [
    "// app.component.ts ...\n",
    "export class AppComponent {\n",
    "  nameList = ['one', 'two', 'three', 'four'];\n",
    "}\n",
    "...\n",
    "// app.component.html ...\n",
    "<ul *ngFor=\"let name of nameList\">\n",
    "  <li>{{name}}</li>\n",
    "</ul>"
   ]
  },
  {
   "cell_type": "code",
   "execution_count": null,
   "metadata": {
    "collapsed": true
   },
   "outputs": [],
   "source": [
    "// app.component.ts ...\n",
    "export class AppComponent {\n",
    "  arr = new Array(10);\n",
    "}\n",
    "...\n",
    "// app.component.html ...\n",
    "<ul *ngFor=\"let atom of arr; let i=index\">\n",
    "  <li>{{i}}</li>\n",
    "</ul>"
   ]
  },
  {
   "cell_type": "markdown",
   "metadata": {},
   "source": [
    "- object 반복"
   ]
  },
  {
   "cell_type": "code",
   "execution_count": null,
   "metadata": {
    "collapsed": true
   },
   "outputs": [],
   "source": [
    "// app.component.ts ...\n",
    "export class AppComponent {\n",
    "  nameList = {'Kim': '26', 'Lee': '26', 'Choi': '24', 'Park': '25'};\n",
    "  objectKeys = Object.keys;\n",
    "}\n",
    "...\n",
    "// app.component.html ...\n",
    "<ul *ngFor=\"let key of objectKeys(nameList)\">\n",
    "  <li>{{key}} : {{nameList[key]}}</li>\n",
    "</ul>"
   ]
  },
  {
   "cell_type": "markdown",
   "metadata": {},
   "source": [
    "### *ngIf"
   ]
  },
  {
   "cell_type": "code",
   "execution_count": null,
   "metadata": {
    "collapsed": true
   },
   "outputs": [],
   "source": [
    "// app.component.ts ...\n",
    "export class AppComponent {\n",
    "  name = 'Thomas';\n",
    "}\n",
    "...\n",
    "// app.component.html ...\n",
    "<p *ngIf=\"name.length > 6\">1.{{name}}'s length is bigger than 6</p>\n",
    "<p *ngIf=\"name.length == 6\">2.{{name}}'s length is bigger than 6</p>\n",
    "<p *ngIf=\"name.length < 6\">3.{{name}}'s length is bigger than 6</p>"
   ]
  },
  {
   "cell_type": "code",
   "execution_count": null,
   "metadata": {
    "collapsed": true
   },
   "outputs": [],
   "source": [
    "// app.component.html ...\n",
    "<b *ngIf=\"name.length > 6; else elseCase\">{{name}}'s length is bigger than 6</b>\n",
    "<ng-template #elseCase>\n",
    "  <b>{{name}}'s length is not bigger than 6</b>\n",
    "</ng-template>"
   ]
  },
  {
   "cell_type": "code",
   "execution_count": null,
   "metadata": {
    "collapsed": true
   },
   "outputs": [],
   "source": [
    "<ng-container *ngIf=\"name.length > 6; then ifCase else elseCase\"></ng-container>\n",
    "<ng-template #ifCase>\n",
    "  <b>{{name}}'s length is bigger than 6</b>\n",
    "</ng-template>\n",
    "<ng-template #elseCase>\n",
    "  <b>{{name}}'s length is not bigger than 6</b>\n",
    "</ng-template>"
   ]
  },
  {
   "cell_type": "markdown",
   "metadata": {},
   "source": [
    "## Services\n",
    "- on a terminal  `ng g service services/data` 를 실행\n",
    "<img src=\"./service.png\">"
   ]
  },
  {
   "cell_type": "markdown",
   "metadata": {},
   "source": [
    "- data.service.ts 를 다음과 같이 수정, https://jsonplaceholder.typicode.com 사이트에서 데이타를 가져와 본다."
   ]
  },
  {
   "cell_type": "code",
   "execution_count": null,
   "metadata": {
    "collapsed": true
   },
   "outputs": [],
   "source": [
    "import { Injectable } from '@angular/core';\n",
    "import { Http } from '@angular/http';            // <== inserted\n",
    "import { map } from 'rxjs/operators';           // <== inserted\n",
    "\n",
    "@Injectable({\n",
    "  providedIn: 'root'\n",
    "})\n",
    "export class DataService {\n",
    "\n",
    "  constructor(public http:Http) {               // <== modified\n",
    "    console.log(\"Data service connected ...\");  // <== inserted\n",
    "  }\n",
    "\n",
    "  getPosts() {                                  // <== inserted\n",
    "    return this.http.get('https://jsonplaceholder.typicode.com/posts') \n",
    "      .pipe(map(res => res.json())); // <== inserted\n",
    "  }\n",
    "}"
   ]
  },
  {
   "cell_type": "markdown",
   "metadata": {},
   "source": [
    "- app.module.ts 에 다음과 같이 DataService 와 HttpModule 을 추가한다."
   ]
  },
  {
   "cell_type": "code",
   "execution_count": null,
   "metadata": {
    "collapsed": true
   },
   "outputs": [],
   "source": [
    "import { BrowserModule } from '@angular/platform-browser';\n",
    "import { NgModule } from '@angular/core';\n",
    "import { FormsModule } from '@angular/forms';\n",
    "import { HttpModule } from '@angular/http';\n",
    "import { RouterModule, Routes } from '@angular/router';\n",
    "\n",
    "import { AppComponent } from './app.component';\n",
    "import { UserComponent } from './components/user/user.component';\n",
    "\n",
    "import { DataService } from './services/data.service';\n",
    "import { AboutComponent } from './components/about/about.component';\n",
    "\n",
    "const appRoutes: Routes = [\n",
    "  {path:'', component:UserComponent},\n",
    "  {path:'about', component:AboutComponent}\n",
    "]\n",
    "\n",
    "@NgModule({\n",
    "  declarations: [\n",
    "    AppComponent,\n",
    "    UserComponent,\n",
    "    AboutComponent\n",
    "  ],\n",
    "  imports: [\n",
    "    BrowserModule,\n",
    "    FormsModule,\n",
    "    HttpModule,\n",
    "    RouterModule.forRoot(appRoutes)\n",
    "  ],\n",
    "  providers: [DataService],\n",
    "  bootstrap: [AppComponent]\n",
    "})\n",
    "export class AppModule { }\n"
   ]
  },
  {
   "cell_type": "markdown",
   "metadata": {},
   "source": [
    "- user.component.ts 파일에 다음을 추가한다."
   ]
  },
  {
   "cell_type": "code",
   "execution_count": null,
   "metadata": {
    "collapsed": true
   },
   "outputs": [],
   "source": [
    "import { DataService } from '../../services/data.service';\n",
    "...\n",
    "export class UserComponent implements OnInit {\n",
    "...\n",
    "posts:Post[];\n",
    "...\n",
    "ngOnInit() {\n",
    "...\n",
    "this.dataService.getPosts().subscribe((posts)=>{\n",
    "      //console.log(posts);  // for testing if works on console\n",
    "      this.posts = posts;\n",
    "    });\n",
    "...\n",
    "}\n",
    "}\n",
    "....\n",
    "interface Post{\n",
    "  id:number,\n",
    "  title:string,\n",
    "  body:string,\n",
    "  userId:number\n",
    "}"
   ]
  },
  {
   "cell_type": "markdown",
   "metadata": {},
   "source": [
    "- user.component.html 의 마지막부분에  다음을 추가한다."
   ]
  },
  {
   "cell_type": "code",
   "execution_count": null,
   "metadata": {
    "collapsed": true
   },
   "outputs": [],
   "source": [
    "<h2> Posts</h2>\n",
    "<div *ngFor=\"let post of posts\">\n",
    "  <h4>{{post.title}}</h4>\n",
    "  <p>{{post.body}}</p>\n",
    "</div>"
   ]
  },
  {
   "cell_type": "markdown",
   "metadata": {},
   "source": [
    "## Routing\n",
    "- 라우티을 시험하기위한 컴포넌트 하나를 더 만든다. (ex: ng g c components/about)\n",
    "- about.component.html 을 적절히 변경\n",
    "- app.module.ts 에 다음을 추가하여  수정"
   ]
  },
  {
   "cell_type": "code",
   "execution_count": null,
   "metadata": {
    "collapsed": true
   },
   "outputs": [],
   "source": [
    "import { RouterModule, Routes } from '@angular/router';\n",
    "...\n",
    "const appRoutes: Routes = [\n",
    "  {path:'', component:UserComponent},\n",
    "  {path:'about', component:AboutComponent}\n",
    "]\n",
    "...\n",
    "@NgModule({\n",
    "...\n",
    "  imports: [\n",
    "    BrowserModule,\n",
    "    FormsModule,\n",
    "    HttpModule,\n",
    "    RouterModule.forRoot(appRoutes)             // <<=== 추가 모듈\n",
    "  ],\n",
    "...\n",
    "})"
   ]
  },
  {
   "cell_type": "markdown",
   "metadata": {},
   "source": [
    "- app.component.html 을 다음과 같이 수정"
   ]
  },
  {
   "cell_type": "code",
   "execution_count": null,
   "metadata": {
    "collapsed": true
   },
   "outputs": [],
   "source": [
    "<ul>\n",
    "  <li><a routerLink = \"/\"> User </a></li>\n",
    "  <li><a routerLink = \"/about\"> About </a></li>\n",
    "</ul>\n",
    "<router-outlet></router-outlet>"
   ]
  },
  {
   "cell_type": "markdown",
   "metadata": {},
   "source": [
    "## Official Tutorial live examples from angular.io\n",
    "\n",
    "- [The Hero Editor](https://stackblitz.com/angular/jrldqpqedjv?file=src%2Findex.html)\n",
    "- [Displaying List](https://stackblitz.com/angular/oagdkaaogdb)\n",
    "- [Master/Detail Components](https://stackblitz.com/angular/kmjaolajedk)\n",
    "- [Services](https://stackblitz.com/angular/marqmdjdvbl)\n",
    "- [Routing](https://stackblitz.com/angular/ayneqbemnbq)\n",
    "- [Http](https://stackblitz.com/angular/oabqxebmppg)"
   ]
  },
  {
   "cell_type": "markdown",
   "metadata": {
    "collapsed": true
   },
   "source": [
    "## [Option] TypeScript\n",
    "\n",
    "<img src=\"https://lh4.googleusercontent.com/5dOim07aCnQUsvhT46DKVtw9T-gNq3djeIrZpGC_PABTOD1yEL8k-FzoND8lpEEmgGHU7LboXOnKA7YWZwLqB4ruWrw36-kKN1UznQ1O-XOa67fo1k5K_xAFozSN3KdfLWbtJY6I\" width=\"200\" height=\"200\">\n",
    "- Superset of JavaScript developed by Microsoft\n",
    "- Compiles to plain JavaScript ( TypeScript Compiler **tsc** compiles .ts files to .js )\n",
    "- Easily integrated into JavaScript projects\n",
    "- Allows Object Oriented Programming in JavaScript\n",
    "- Designed for development of large applications\n"
   ]
  },
  {
   "cell_type": "code",
   "execution_count": null,
   "metadata": {
    "collapsed": true
   },
   "outputs": [],
   "source": [
    "> npm install -g typescript\n",
    "> cd\n",
    "> mkdir tstest\n",
    "> cd tstest\n",
    ".... create test.ts with \"console.log(\"Hello from ts);\"\n",
    "> tsc test.ts\n",
    ".... will make test.js"
   ]
  },
  {
   "cell_type": "markdown",
   "metadata": {},
   "source": [
    "- 다음과 같이, index.html 을 생성 후, 브라우져로 보기 "
   ]
  },
  {
   "cell_type": "code",
   "execution_count": null,
   "metadata": {
    "collapsed": true
   },
   "outputs": [],
   "source": [
    "<!DOCTYPE html>\n",
    "<html>\n",
    "    <head>\n",
    "    </head>\n",
    "    <body>\n",
    "        <script src=\"./test.js\"> </script>\n",
    "    </body>\n",
    "</html>"
   ]
  },
  {
   "cell_type": "markdown",
   "metadata": {},
   "source": [
    "- test.ts 파일이 수정될 때마다 자동으로 컴파일 되게 하기 위해서 다음과 같이 watch mode 로 실행 후에 test.ts 를 아래와 같이 수정한다.\n",
    "\n",
    "`> tsc test.ts -w `"
   ]
  },
  {
   "cell_type": "code",
   "execution_count": null,
   "metadata": {
    "collapsed": true
   },
   "outputs": [],
   "source": [
    "let myString: string;\n",
    "let myNum: number;\n",
    "let myBool: boolean;\n",
    "let myVar: any;\n",
    "\n",
    "myString = 'Hello'.slice(0,3);\n",
    "myNum = 1;\n",
    "myBool = false;\n",
    "myVar = true;\n",
    "\n",
    "console.log(myString);\n",
    "\n",
    "let strArr: Array<string>;\n",
    "let numArr: Array<number>;\n",
    "let strNumTuple: [string, number];\n",
    "\n",
    "strArr = ['Hello', 'World'];\n",
    "numArr = [1,2,3];\n",
    "strNumTuple = ['Hello', 4, 3, 4];\n",
    "console.log(strArr);"
   ]
  },
  {
   "cell_type": "markdown",
   "metadata": {},
   "source": [
    "- function.ts 파일이 수정될 때마다 자동으로 컴파일 되게 하기 위해서 다음과 같이 watch mode 로 실행 후에 function.ts 를 아래와 같이 수정한다.\n",
    "\n",
    "`> tsc function.ts -w`"
   ]
  },
  {
   "cell_type": "code",
   "execution_count": null,
   "metadata": {
    "collapsed": true
   },
   "outputs": [],
   "source": [
    "function getSum(num1:number, num2:number):number{\n",
    "    returnnum1 + num2;\n",
    "}\n",
    "\n",
    "console.log(getSum(1,4));\n",
    "\n",
    "let mySum = function(num1:any, num2:any):number {\n",
    "    if(nypeof num1 == 'string') {\n",
    "        num1 = parseInt(num1);\n",
    "        }\n",
    "    if(nypeof num2 == 'string') {\n",
    "        num1 = parseInt(num2);\n",
    "        }\n",
    "    return num1 + num2;\n",
    "}\n",
    "\n",
    "console.log(mySum('3',5));\n",
    "\n",
    "function getName(firstname: string, lastname?:string): string {\n",
    "    if(lastName = undefined) {\n",
    "    return firstName;\n",
    "    }\n",
    "    return firstName+' '+lastName;\n",
    "}\n",
    "\n",
    "console.log(getName('John', 'Doe'));\n",
    "console.log(getName('John'));"
   ]
  },
  {
   "cell_type": "markdown",
   "metadata": {},
   "source": [
    "- interfaces.ts 파일이 수정될 때마다 자동으로 컴파일 되게 하기 위해서 다음과 같이 watch mode 로 실행 후에  interfaces.ts 를 아래와 같이 수정한다.\n",
    "\n",
    "`> tsc interfaces.ts -w`"
   ]
  },
  {
   "cell_type": "code",
   "execution_count": null,
   "metadata": {
    "collapsed": true
   },
   "outputs": [],
   "source": [
    "/*\n",
    "function showTodo(todo: {title:string, text: string}){\n",
    "    console.log(todo.title +': ' + todo.text);\n",
    "}\n",
    "\n",
    "let myTodo = {title:'Trash', text: 'Take out trash'}\n",
    "\n",
    "showTodo(myTodo);\n",
    "*/\n",
    "\n",
    "interface Todo {\n",
    "    title: string;\n",
    "    text:string;\n",
    "}\n",
    "\n",
    "function showTodo(todo:Todo) {\n",
    "    console.log(todo.title + ': ' + todo.text);\n",
    "}\n",
    "\n",
    "let myTodo = {title:1, text: 'Take out trash'}\n",
    "\n",
    "showTodo(myTodo);"
   ]
  },
  {
   "cell_type": "markdown",
   "metadata": {},
   "source": [
    "- classes.ts 파일이 수정될 때마다 자동으로 컴파일 되게 하기 위해서 다음과 같이 watch mode 로 실행 후에  classes.ts 를 아래와 같이 수정한다.\n",
    "\n",
    "`> tsc classes.ts -w`"
   ]
  },
  {
   "cell_type": "code",
   "execution_count": null,
   "metadata": {
    "collapsed": true
   },
   "outputs": [],
   "source": [
    "interface UserInterface{\n",
    "    name: string;\n",
    "    email: string;\n",
    "    age: number;\n",
    "    register();\n",
    "    payInvoice();\n",
    "}\n",
    "\n",
    "class User implements UserInterface {\n",
    "    name: string;\n",
    "    email: string;\n",
    "    age: number;\n",
    "    \n",
    "    constructor(name:string, email:string, age:number) {\n",
    "        this.name = name;\n",
    "        this.email = email;\n",
    "        this.age = age;\n",
    "        \n",
    "        console.log('User created: '+ this.name); \n",
    "    }\n",
    "    \n",
    "    register() {\n",
    "        console.log(this.name + 'is now registered');\n",
    "    }\n",
    "    \n",
    "    payInvoice(){\n",
    "        console.log(this.name + 'paid invoice');\n",
    "    }\n",
    "}\n",
    "\n",
    "let john = new User('John Doe', 'jdoe@gmail.com', 34);\n",
    "\n",
    "colsole.log(john.age);\n",
    "\n",
    "\n",
    "class Member extends User {\n",
    "    id: number;\n",
    "    \n",
    "    constructor(id:number, name:string, email:string, age: number) {\n",
    "        super(name, email,age);\n",
    "        this.id = id;\n",
    "    }\n",
    "    \n",
    "    payInvoice() {\n",
    "        super.payInvoice();\n",
    "    }\n",
    "}\n",
    "\n",
    "let mike: User = new Member(1, 'Mike Smith', 'mike@gmail.com', 33);\n",
    "mike.payInvoice();"
   ]
  }
 ],
 "metadata": {
  "kernelspec": {
   "display_name": "Javascript (Node.js)",
   "language": "javascript",
   "name": "javascript"
  }
 },
 "nbformat": 4,
 "nbformat_minor": 2
}
