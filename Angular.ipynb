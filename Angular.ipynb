{
 "cells": [
  {
   "cell_type": "markdown",
   "metadata": {},
   "source": [
    "# Angular\n",
    "\n",
    "- Angular는 HTML 및 TypeScript로 클라이언트 응용 프로그램을 작성하기위한 플랫폼 및 프레임 워크입니다. \n",
    "- Angular는 TypeScript로 작성되며, app 에 import 되는 TypeScript 라이브러리들의 집합으로 핵심적인 그리고 추가적인 기능들이 구현된다.\n",
    "- Single Page Application (SPA) 에 적절함 \n",
    "\n",
    "\n",
    "### Step 1 : 개발환경 설정\n",
    "\n",
    "- Node.js 설치\n",
    "- npm 설치\n",
    "- Angular CLI 설치 ( npm install -g @angular/cli )\n",
    "\n",
    "- 추천 개발도구 : visual studio code - https://code.visualstudio.com/\n",
    "\n",
    "### Step 2 : 프로젝트 생성\n",
    "\n",
    "- ng new my-app\n",
    "\n",
    "### Step 3 : application 시작\n",
    "\n",
    "- cd my-app  ( server 를 시작하고, 파일들을 관찰하며, 변화가 있으면 새롭게 다시 시작한다.)\n",
    "- ng serve --open ( --open (or just -o) 옵션은 자동으로 http://localhost:4200/ 로 브라우징한다.)\n",
    "- 브라우징된 파일 : src/index.html <== { src/app/app.modeul.ts + src/app/app.component.{ts + html+ css} }\n",
    "\n",
    "### Step 4 : Angular component 를 수정해본다.\n",
    "\n",
    "- src/app/app.component.ts"
   ]
  },
  {
   "cell_type": "code",
   "execution_count": null,
   "metadata": {
    "collapsed": true
   },
   "outputs": [],
   "source": [
    "export class AppComponent {\n",
    "  title = 'My First Angular App!';\n",
    "}"
   ]
  },
  {
   "cell_type": "markdown",
   "metadata": {},
   "source": [
    "- src/app/app.component.css"
   ]
  },
  {
   "cell_type": "code",
   "execution_count": null,
   "metadata": {
    "collapsed": true
   },
   "outputs": [],
   "source": [
    "h1 {\n",
    "  color: #369;\n",
    "  font-family: Arial, Helvetica, sans-serif;\n",
    "  font-size: 250%;\n",
    "}"
   ]
  },
  {
   "cell_type": "markdown",
   "metadata": {},
   "source": [
    "## NgModules\n",
    " \n",
    "NgModules 은 @NgModule 로 장식된 클래스입니다.  @NgModule decorator는 현재 모듈이 필요로 하는 다른 모듈들을 말하는 배열을 imports 합니다.  @NgModule decorator 의 클래스는 관례상 파일 내에 위치한다."
   ]
  },
  {
   "cell_type": "code",
   "execution_count": null,
   "metadata": {
    "collapsed": true
   },
   "outputs": [],
   "source": []
  },
  {
   "cell_type": "markdown",
   "metadata": {},
   "source": [
    "*ngFor\n",
    "\n",
    "in ForLoop.component.ts\n",
    "\n"
   ]
  },
  {
   "cell_type": "code",
   "execution_count": null,
   "metadata": {
    "collapsed": true
   },
   "outputs": [],
   "source": [
    "...\n",
    "export class ForLoopComponent implements onInit {\n",
    "    public colors = [\"red\", \"green\", \"blue\"];\n",
    "...\n",
    "}\n",
    "..."
   ]
  },
  {
   "cell_type": "code",
   "execution_count": null,
   "metadata": {
    "collapsed": true
   },
   "outputs": [],
   "source": [
    "<ul>\n",
    "    <li *ngFor=\"let color in colors\"> {{color}} </li>\n",
    "</ul>"
   ]
  },
  {
   "cell_type": "code",
   "execution_count": null,
   "metadata": {
    "collapsed": true
   },
   "outputs": [],
   "source": []
  },
  {
   "cell_type": "markdown",
   "metadata": {},
   "source": [
    "### Angular Data Binding\n",
    "\n",
    "- Binding (String interpolation) :  {{ attribute }}, {{ title }}, {{ expression }}\n",
    "\n",
    "\n",
    "- Property binding (a.k.a. one way binding): [attribute] = 'property'  or attribute = {{property}}\n",
    "\n",
    "\n",
    "\n",
    "( eg, ' )\n",
    "- Event binding : (event) = 'method' (eg, <button (click)='   ' /> )\n",
    "- Two way binding : [(ngModel)] = 'attribute'  (eg,             )\n"
   ]
  },
  {
   "cell_type": "code",
   "execution_count": null,
   "metadata": {
    "collapsed": true
   },
   "outputs": [],
   "source": [
    "<div [style.backgroundColor] = \"color\" > \n",
    "<img [src]='myapp.imageSrc' />  or <img src={{myapp.imageSrc}} />"
   ]
  },
  {
   "cell_type": "code",
   "execution_count": null,
   "metadata": {
    "collapsed": true
   },
   "outputs": [],
   "source": []
  }
 ],
 "metadata": {
  "kernelspec": {
   "display_name": "Javascript (Node.js)",
   "language": "javascript",
   "name": "javascript"
  }
 },
 "nbformat": 4,
 "nbformat_minor": 2
}
